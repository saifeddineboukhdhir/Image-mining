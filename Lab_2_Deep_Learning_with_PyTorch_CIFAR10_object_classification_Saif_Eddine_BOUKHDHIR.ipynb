{
  "nbformat": 4,
  "nbformat_minor": 0,
  "metadata": {
    "colab": {
      "name": "Lab 2 - Deep Learning with PyTorch: CIFAR10 object classification_Saif_Eddine_BOUKHDHIR.ipynb",
      "provenance": [],
      "collapsed_sections": [],
      "authorship_tag": "ABX9TyNcqZbC2Z3cFWCEhTICZu89",
      "include_colab_link": true
    },
    "kernelspec": {
      "display_name": "Python 3",
      "name": "python3"
    },
    "widgets": {
      "application/vnd.jupyter.widget-state+json": {
        "43db6601bca3458f988f0208aaec7c5d": {
          "model_module": "@jupyter-widgets/controls",
          "model_name": "HBoxModel",
          "state": {
            "_view_name": "HBoxView",
            "_dom_classes": [],
            "_model_name": "HBoxModel",
            "_view_module": "@jupyter-widgets/controls",
            "_model_module_version": "1.5.0",
            "_view_count": null,
            "_view_module_version": "1.5.0",
            "box_style": "",
            "layout": "IPY_MODEL_17510283a59d4a3c88eb99a8d535a1b4",
            "_model_module": "@jupyter-widgets/controls",
            "children": [
              "IPY_MODEL_e438d40f6e284fd89c261c503aaaa8ef",
              "IPY_MODEL_28e398e4c7cd486a9c754b93c0111904"
            ]
          }
        },
        "17510283a59d4a3c88eb99a8d535a1b4": {
          "model_module": "@jupyter-widgets/base",
          "model_name": "LayoutModel",
          "state": {
            "_view_name": "LayoutView",
            "grid_template_rows": null,
            "right": null,
            "justify_content": null,
            "_view_module": "@jupyter-widgets/base",
            "overflow": null,
            "_model_module_version": "1.2.0",
            "_view_count": null,
            "flex_flow": null,
            "width": null,
            "min_width": null,
            "border": null,
            "align_items": null,
            "bottom": null,
            "_model_module": "@jupyter-widgets/base",
            "top": null,
            "grid_column": null,
            "overflow_y": null,
            "overflow_x": null,
            "grid_auto_flow": null,
            "grid_area": null,
            "grid_template_columns": null,
            "flex": null,
            "_model_name": "LayoutModel",
            "justify_items": null,
            "grid_row": null,
            "max_height": null,
            "align_content": null,
            "visibility": null,
            "align_self": null,
            "height": null,
            "min_height": null,
            "padding": null,
            "grid_auto_rows": null,
            "grid_gap": null,
            "max_width": null,
            "order": null,
            "_view_module_version": "1.2.0",
            "grid_template_areas": null,
            "object_position": null,
            "object_fit": null,
            "grid_auto_columns": null,
            "margin": null,
            "display": null,
            "left": null
          }
        },
        "e438d40f6e284fd89c261c503aaaa8ef": {
          "model_module": "@jupyter-widgets/controls",
          "model_name": "FloatProgressModel",
          "state": {
            "_view_name": "ProgressView",
            "style": "IPY_MODEL_a839eec4d1f745c19a793a0d0aa0fed3",
            "_dom_classes": [],
            "description": "",
            "_model_name": "FloatProgressModel",
            "bar_style": "info",
            "max": 1,
            "_view_module": "@jupyter-widgets/controls",
            "_model_module_version": "1.5.0",
            "value": 0,
            "_view_count": null,
            "_view_module_version": "1.5.0",
            "orientation": "horizontal",
            "min": 0,
            "description_tooltip": null,
            "_model_module": "@jupyter-widgets/controls",
            "layout": "IPY_MODEL_85d66fc8b6064a0fb34f7cced6532a04"
          }
        },
        "28e398e4c7cd486a9c754b93c0111904": {
          "model_module": "@jupyter-widgets/controls",
          "model_name": "HTMLModel",
          "state": {
            "_view_name": "HTMLView",
            "style": "IPY_MODEL_44aad7c5aa404bc48a5040f6e7e3f2bc",
            "_dom_classes": [],
            "description": "",
            "_model_name": "HTMLModel",
            "placeholder": "​",
            "_view_module": "@jupyter-widgets/controls",
            "_model_module_version": "1.5.0",
            "value": " 0/? [00:00&lt;?, ?it/s]",
            "_view_count": null,
            "_view_module_version": "1.5.0",
            "description_tooltip": null,
            "_model_module": "@jupyter-widgets/controls",
            "layout": "IPY_MODEL_2984129b6f8345e2bee58bbb0f057cfa"
          }
        },
        "a839eec4d1f745c19a793a0d0aa0fed3": {
          "model_module": "@jupyter-widgets/controls",
          "model_name": "ProgressStyleModel",
          "state": {
            "_view_name": "StyleView",
            "_model_name": "ProgressStyleModel",
            "description_width": "initial",
            "_view_module": "@jupyter-widgets/base",
            "_model_module_version": "1.5.0",
            "_view_count": null,
            "_view_module_version": "1.2.0",
            "bar_color": null,
            "_model_module": "@jupyter-widgets/controls"
          }
        },
        "85d66fc8b6064a0fb34f7cced6532a04": {
          "model_module": "@jupyter-widgets/base",
          "model_name": "LayoutModel",
          "state": {
            "_view_name": "LayoutView",
            "grid_template_rows": null,
            "right": null,
            "justify_content": null,
            "_view_module": "@jupyter-widgets/base",
            "overflow": null,
            "_model_module_version": "1.2.0",
            "_view_count": null,
            "flex_flow": null,
            "width": null,
            "min_width": null,
            "border": null,
            "align_items": null,
            "bottom": null,
            "_model_module": "@jupyter-widgets/base",
            "top": null,
            "grid_column": null,
            "overflow_y": null,
            "overflow_x": null,
            "grid_auto_flow": null,
            "grid_area": null,
            "grid_template_columns": null,
            "flex": null,
            "_model_name": "LayoutModel",
            "justify_items": null,
            "grid_row": null,
            "max_height": null,
            "align_content": null,
            "visibility": null,
            "align_self": null,
            "height": null,
            "min_height": null,
            "padding": null,
            "grid_auto_rows": null,
            "grid_gap": null,
            "max_width": null,
            "order": null,
            "_view_module_version": "1.2.0",
            "grid_template_areas": null,
            "object_position": null,
            "object_fit": null,
            "grid_auto_columns": null,
            "margin": null,
            "display": null,
            "left": null
          }
        },
        "44aad7c5aa404bc48a5040f6e7e3f2bc": {
          "model_module": "@jupyter-widgets/controls",
          "model_name": "DescriptionStyleModel",
          "state": {
            "_view_name": "StyleView",
            "_model_name": "DescriptionStyleModel",
            "description_width": "",
            "_view_module": "@jupyter-widgets/base",
            "_model_module_version": "1.5.0",
            "_view_count": null,
            "_view_module_version": "1.2.0",
            "_model_module": "@jupyter-widgets/controls"
          }
        },
        "2984129b6f8345e2bee58bbb0f057cfa": {
          "model_module": "@jupyter-widgets/base",
          "model_name": "LayoutModel",
          "state": {
            "_view_name": "LayoutView",
            "grid_template_rows": null,
            "right": null,
            "justify_content": null,
            "_view_module": "@jupyter-widgets/base",
            "overflow": null,
            "_model_module_version": "1.2.0",
            "_view_count": null,
            "flex_flow": null,
            "width": null,
            "min_width": null,
            "border": null,
            "align_items": null,
            "bottom": null,
            "_model_module": "@jupyter-widgets/base",
            "top": null,
            "grid_column": null,
            "overflow_y": null,
            "overflow_x": null,
            "grid_auto_flow": null,
            "grid_area": null,
            "grid_template_columns": null,
            "flex": null,
            "_model_name": "LayoutModel",
            "justify_items": null,
            "grid_row": null,
            "max_height": null,
            "align_content": null,
            "visibility": null,
            "align_self": null,
            "height": null,
            "min_height": null,
            "padding": null,
            "grid_auto_rows": null,
            "grid_gap": null,
            "max_width": null,
            "order": null,
            "_view_module_version": "1.2.0",
            "grid_template_areas": null,
            "object_position": null,
            "object_fit": null,
            "grid_auto_columns": null,
            "margin": null,
            "display": null,
            "left": null
          }
        },
        "f8f28b7521a147808b0b3f26305a5714": {
          "model_module": "@jupyter-widgets/controls",
          "model_name": "HBoxModel",
          "state": {
            "_view_name": "HBoxView",
            "_dom_classes": [],
            "_model_name": "HBoxModel",
            "_view_module": "@jupyter-widgets/controls",
            "_model_module_version": "1.5.0",
            "_view_count": null,
            "_view_module_version": "1.5.0",
            "box_style": "",
            "layout": "IPY_MODEL_85922fb906f44075b16bdb2dbfc6f792",
            "_model_module": "@jupyter-widgets/controls",
            "children": [
              "IPY_MODEL_9e70aea1eed740b987db60dc1e464185",
              "IPY_MODEL_267844fcd8074b9c853b6568abd6fb11"
            ]
          }
        },
        "85922fb906f44075b16bdb2dbfc6f792": {
          "model_module": "@jupyter-widgets/base",
          "model_name": "LayoutModel",
          "state": {
            "_view_name": "LayoutView",
            "grid_template_rows": null,
            "right": null,
            "justify_content": null,
            "_view_module": "@jupyter-widgets/base",
            "overflow": null,
            "_model_module_version": "1.2.0",
            "_view_count": null,
            "flex_flow": null,
            "width": null,
            "min_width": null,
            "border": null,
            "align_items": null,
            "bottom": null,
            "_model_module": "@jupyter-widgets/base",
            "top": null,
            "grid_column": null,
            "overflow_y": null,
            "overflow_x": null,
            "grid_auto_flow": null,
            "grid_area": null,
            "grid_template_columns": null,
            "flex": null,
            "_model_name": "LayoutModel",
            "justify_items": null,
            "grid_row": null,
            "max_height": null,
            "align_content": null,
            "visibility": null,
            "align_self": null,
            "height": null,
            "min_height": null,
            "padding": null,
            "grid_auto_rows": null,
            "grid_gap": null,
            "max_width": null,
            "order": null,
            "_view_module_version": "1.2.0",
            "grid_template_areas": null,
            "object_position": null,
            "object_fit": null,
            "grid_auto_columns": null,
            "margin": null,
            "display": null,
            "left": null
          }
        },
        "9e70aea1eed740b987db60dc1e464185": {
          "model_module": "@jupyter-widgets/controls",
          "model_name": "FloatProgressModel",
          "state": {
            "_view_name": "ProgressView",
            "style": "IPY_MODEL_03920281aaeb4d4d8071e273057cc18d",
            "_dom_classes": [],
            "description": "",
            "_model_name": "FloatProgressModel",
            "bar_style": "success",
            "max": 1,
            "_view_module": "@jupyter-widgets/controls",
            "_model_module_version": "1.5.0",
            "value": 1,
            "_view_count": null,
            "_view_module_version": "1.5.0",
            "orientation": "horizontal",
            "min": 0,
            "description_tooltip": null,
            "_model_module": "@jupyter-widgets/controls",
            "layout": "IPY_MODEL_1192daedc08541459721adb073819218"
          }
        },
        "267844fcd8074b9c853b6568abd6fb11": {
          "model_module": "@jupyter-widgets/controls",
          "model_name": "HTMLModel",
          "state": {
            "_view_name": "HTMLView",
            "style": "IPY_MODEL_c39f0bf44e764a32929105c5fddea6e4",
            "_dom_classes": [],
            "description": "",
            "_model_name": "HTMLModel",
            "placeholder": "​",
            "_view_module": "@jupyter-widgets/controls",
            "_model_module_version": "1.5.0",
            "value": " 170500096/? [00:07&lt;00:00, 23094156.35it/s]",
            "_view_count": null,
            "_view_module_version": "1.5.0",
            "description_tooltip": null,
            "_model_module": "@jupyter-widgets/controls",
            "layout": "IPY_MODEL_14a9b95265324db6ab69359e5c517a23"
          }
        },
        "03920281aaeb4d4d8071e273057cc18d": {
          "model_module": "@jupyter-widgets/controls",
          "model_name": "ProgressStyleModel",
          "state": {
            "_view_name": "StyleView",
            "_model_name": "ProgressStyleModel",
            "description_width": "initial",
            "_view_module": "@jupyter-widgets/base",
            "_model_module_version": "1.5.0",
            "_view_count": null,
            "_view_module_version": "1.2.0",
            "bar_color": null,
            "_model_module": "@jupyter-widgets/controls"
          }
        },
        "1192daedc08541459721adb073819218": {
          "model_module": "@jupyter-widgets/base",
          "model_name": "LayoutModel",
          "state": {
            "_view_name": "LayoutView",
            "grid_template_rows": null,
            "right": null,
            "justify_content": null,
            "_view_module": "@jupyter-widgets/base",
            "overflow": null,
            "_model_module_version": "1.2.0",
            "_view_count": null,
            "flex_flow": null,
            "width": null,
            "min_width": null,
            "border": null,
            "align_items": null,
            "bottom": null,
            "_model_module": "@jupyter-widgets/base",
            "top": null,
            "grid_column": null,
            "overflow_y": null,
            "overflow_x": null,
            "grid_auto_flow": null,
            "grid_area": null,
            "grid_template_columns": null,
            "flex": null,
            "_model_name": "LayoutModel",
            "justify_items": null,
            "grid_row": null,
            "max_height": null,
            "align_content": null,
            "visibility": null,
            "align_self": null,
            "height": null,
            "min_height": null,
            "padding": null,
            "grid_auto_rows": null,
            "grid_gap": null,
            "max_width": null,
            "order": null,
            "_view_module_version": "1.2.0",
            "grid_template_areas": null,
            "object_position": null,
            "object_fit": null,
            "grid_auto_columns": null,
            "margin": null,
            "display": null,
            "left": null
          }
        },
        "c39f0bf44e764a32929105c5fddea6e4": {
          "model_module": "@jupyter-widgets/controls",
          "model_name": "DescriptionStyleModel",
          "state": {
            "_view_name": "StyleView",
            "_model_name": "DescriptionStyleModel",
            "description_width": "",
            "_view_module": "@jupyter-widgets/base",
            "_model_module_version": "1.5.0",
            "_view_count": null,
            "_view_module_version": "1.2.0",
            "_model_module": "@jupyter-widgets/controls"
          }
        },
        "14a9b95265324db6ab69359e5c517a23": {
          "model_module": "@jupyter-widgets/base",
          "model_name": "LayoutModel",
          "state": {
            "_view_name": "LayoutView",
            "grid_template_rows": null,
            "right": null,
            "justify_content": null,
            "_view_module": "@jupyter-widgets/base",
            "overflow": null,
            "_model_module_version": "1.2.0",
            "_view_count": null,
            "flex_flow": null,
            "width": null,
            "min_width": null,
            "border": null,
            "align_items": null,
            "bottom": null,
            "_model_module": "@jupyter-widgets/base",
            "top": null,
            "grid_column": null,
            "overflow_y": null,
            "overflow_x": null,
            "grid_auto_flow": null,
            "grid_area": null,
            "grid_template_columns": null,
            "flex": null,
            "_model_name": "LayoutModel",
            "justify_items": null,
            "grid_row": null,
            "max_height": null,
            "align_content": null,
            "visibility": null,
            "align_self": null,
            "height": null,
            "min_height": null,
            "padding": null,
            "grid_auto_rows": null,
            "grid_gap": null,
            "max_width": null,
            "order": null,
            "_view_module_version": "1.2.0",
            "grid_template_areas": null,
            "object_position": null,
            "object_fit": null,
            "grid_auto_columns": null,
            "margin": null,
            "display": null,
            "left": null
          }
        }
      }
    }
  },
  "cells": [
    {
      "cell_type": "markdown",
      "metadata": {
        "id": "view-in-github",
        "colab_type": "text"
      },
      "source": [
        "<a href=\"https://colab.research.google.com/github/saifeddineboukhdhir/Image-mining/blob/main/Lab_2_Deep_Learning_with_PyTorch_CIFAR10_object_classification_Saif_Eddine_BOUKHDHIR.ipynb\" target=\"_parent\"><img src=\"https://colab.research.google.com/assets/colab-badge.svg\" alt=\"Open In Colab\"/></a>"
      ]
    },
    {
      "cell_type": "markdown",
      "metadata": {
        "id": "lNJuig0vKn-A"
      },
      "source": [
        "<h1> Deep Learning for Image Classification <h1>\n",
        "\n",
        "---\n",
        "\n"
      ]
    },
    {
      "cell_type": "markdown",
      "metadata": {
        "id": "38BhZK95Hgu1"
      },
      "source": [
        "<h5>$\\:\\:\\:\\:\\:\\:\\:\\:\\:\\:\\:\\:\\:\\:\\:\\:\\:\\:\\:\\:\\:\\:\\:\\:\\:\\:\\:\\:\\:\\:\\:\\:\\:\\:\\:\\:\\:\\:\\:\\:\\:\\:\\:\\:\\:\\:\\:\\:\\:\\:\\:\\:\\:\\:\\:\\:\\:\\:\\:\\:\\:\\:\\:\\:\\:\\:\\:\\:\\:\\:\\:\\:\\:\\:\\:\\:\\:\\:\\:\\:\\:\\:\\:\\:\\:\\:\\:\\:\\:\\:\\:\\:\\:\\:\\:\\:\\:\\:\\:\\:\\:\\:\\:\\:\\:\\:\\:\\:\\:\\:\\:\\:\\:\\:\\:\\:\\:\\:\\:\\:\\:\\:\\:\\:\\:\\:\\:\\:\\:\\:\\:\\:\\:\\:\\:\\:\\:\\:\\:\\:\\:\\:\\:\\:\\:\\:\\:\\:\\:\\:\\:\\:\\:\\:\\:\\:$ Done by: Saif Eddine BOUKHDIR<h5> "
      ]
    },
    {
      "cell_type": "markdown",
      "metadata": {
        "id": "oGVXEhhJKzLl"
      },
      "source": [
        "During this law work, we implement,train and test a Convolutional Neural Network to classify images of 10 different classes (dogs, cats, car, ...). This neural network is optimized by changing its archietcture and some of its hyperparameters. <br> \n",
        "The mean goal is to obtain the best accuaccuracyon the test set.  "
      ]
    },
    {
      "cell_type": "markdown",
      "metadata": {
        "id": "JvZZtV3ML8lg"
      },
      "source": [
        "We start by copying some functions given by the lab work organiser ."
      ]
    },
    {
      "cell_type": "markdown",
      "metadata": {
        "id": "WGZWZMYvMVp6"
      },
      "source": [
        "Here we import useful predepredefined functions and libralibrarie. "
      ]
    },
    {
      "cell_type": "code",
      "metadata": {
        "id": "ajONn3Gqe7ft"
      },
      "source": [
        "%matplotlib inline\n",
        "# Useful imports\n",
        "from __future__ import print_function, division\n",
        "import itertools\n",
        "import time\n",
        "import numpy as np\n",
        "import matplotlib.pyplot as plt\n",
        "import torch \n",
        "import torch as th\n",
        "import torchvision\n",
        "import torchvision.transforms as transforms\n",
        "from torch.utils.data.sampler import SubsetRandomSampler\n",
        "import torch.nn as nn\n",
        "import torch.nn.functional as F\n",
        "import torch.optim as optim"
      ],
      "execution_count": 2,
      "outputs": []
    },
    {
      "cell_type": "markdown",
      "metadata": {
        "id": "OEuTZZUhMTy6"
      },
      "source": [
        "Plotting functions and useful imports"
      ]
    },
    {
      "cell_type": "code",
      "metadata": {
        "id": "9UnhR7m_fadq"
      },
      "source": [
        "# Python 2/3 compatibility\n",
        "from __future__ import print_function, division\n",
        "\n",
        "import itertools\n",
        "import time\n",
        "\n",
        "\n",
        "import numpy as np\n",
        "import matplotlib.pyplot as plt\n",
        "\n",
        "# Colors from Colorbrewer Paired_12\n",
        "colors = [[31, 120, 180], [51, 160, 44]]\n",
        "colors = [(r / 255, g / 255, b / 255) for (r, g, b) in colors]\n",
        "\n",
        "# functions to show an image\n",
        "def imshow(img):\n",
        "    \"\"\"\n",
        "    :param img: (PyTorch Tensor)\n",
        "    \"\"\"\n",
        "    # unnormalize\n",
        "    img = img / 2 + 0.5     \n",
        "    # Convert tensor to numpy array\n",
        "    npimg = img.numpy()\n",
        "    # Color channel first -> color channel last\n",
        "    plt.imshow(np.transpose(npimg, (1, 2, 0)))\n",
        "\n",
        "\n",
        "\n",
        "def plot_losses(train_history, val_history):\n",
        "    x = np.arange(1, len(train_history) + 1)\n",
        "\n",
        "    plt.figure(figsize=(8, 6))\n",
        "    plt.plot(x, train_history, color=colors[0], label=\"Training loss\", linewidth=2)\n",
        "    plt.plot(x, val_history, color=colors[1], label=\"Validation loss\", linewidth=2)\n",
        "    plt.xlabel('Epoch')\n",
        "    plt.ylabel('Loss')\n",
        "    plt.legend(loc='upper right')\n",
        "    plt.title(\"Evolution of the training and validation loss\")\n",
        "    plt.show()\n",
        "\n",
        "def plot_confusion_matrix(cm, classes,\n",
        "                          normalize=False,\n",
        "                          title='Confusion matrix',\n",
        "                          cmap=plt.cm.Blues):\n",
        "    \"\"\"\n",
        "    This function prints and plots the confusion matrix.\n",
        "    Normalization can be applied by setting `normalize=True`.\n",
        "    from http://scikit-learn.org/stable/auto_examples/model_selection/plot_confusion_matrix.html\n",
        "    :param cm: (numpy matrix) confusion matrix\n",
        "    :param classes: [str]\n",
        "    :param normalize: (bool)\n",
        "    :param title: (str)\n",
        "    :param cmap: (matplotlib color map)\n",
        "    \"\"\"\n",
        "    if normalize:\n",
        "        cm = cm.astype('float') / cm.sum(axis=1)[:, np.newaxis]\n",
        "        \n",
        "    plt.figure(figsize=(8, 8))   \n",
        "    plt.imshow(cm, interpolation='nearest', cmap=cmap)\n",
        "    plt.title(title)\n",
        "    plt.colorbar()\n",
        "    tick_marks = np.arange(len(classes))\n",
        "    plt.xticks(tick_marks, classes, rotation=45)\n",
        "    plt.yticks(tick_marks, classes)\n",
        "\n",
        "    fmt = '.2f' if normalize else 'd'\n",
        "    thresh = cm.max() / 2.\n",
        "    for i, j in itertools.product(range(cm.shape[0]), range(cm.shape[1])):\n",
        "        plt.text(j, i, format(cm[i, j], fmt),\n",
        "                 horizontalalignment=\"center\",\n",
        "                 color=\"white\" if cm[i, j] > thresh else \"black\")\n",
        "\n",
        "    plt.tight_layout()\n",
        "    plt.ylabel('True label')\n",
        "    plt.xlabel('Predicted label')"
      ],
      "execution_count": 3,
      "outputs": []
    },
    {
      "cell_type": "markdown",
      "metadata": {
        "id": "R7N9VzN9Mwvi"
      },
      "source": [
        "For this lab work, we will use the CIFAR10 dataset. There are 10 classes: ‘airplane’, ‘automobile’, ‘bird’, ‘cat’, ‘deer’, ‘dog’, ‘frog’, ‘horse’, ‘ship’, ‘truck’. The images in CIFAR-10 are of size 3x32x32, i.e. 3-channel color images of 32x32 pixels in size."
      ]
    },
    {
      "cell_type": "markdown",
      "metadata": {
        "id": "d61rgbQDNMZI"
      },
      "source": [
        "Seed the random generator to have reproducible results"
      ]
    },
    {
      "cell_type": "code",
      "metadata": {
        "id": "HHWPBGacfgH0"
      },
      "source": [
        "seed = 42\n",
        "np.random.seed(seed)\n",
        "torch.manual_seed(seed)\n",
        "\n",
        "if th.cuda.is_available():\n",
        "  # Make CuDNN Determinist\n",
        "  th.backends.cudnn.deterministic = True\n",
        "  th.cuda.manual_seed(seed)\n",
        "\n",
        "# Define default device, we should use the GPU (cuda) if available\n",
        "device = th.device(\"cuda\" if th.cuda.is_available() else \"cpu\")"
      ],
      "execution_count": 4,
      "outputs": []
    },
    {
      "cell_type": "markdown",
      "metadata": {
        "id": "-OJaVcaBM_ZQ"
      },
      "source": [
        " Loading and normalizing CIFAR10 Dataset"
      ]
    },
    {
      "cell_type": "code",
      "metadata": {
        "id": "TPLV4AAEfgmL"
      },
      "source": [
        "n_training_samples = 40000 # Max: 50 000 - n_val_samples\n",
        "n_val_samples = 10000\n",
        "\n",
        "\n",
        "train_sampler = SubsetRandomSampler(np.arange(n_training_samples, dtype=np.int64))\n",
        "val_sampler = SubsetRandomSampler(np.arange(n_training_samples, n_training_samples + n_val_samples, dtype=np.int64))\n",
        "#test_sampler = SubsetRandomSampler(np.arange(n_test_samples, dtype=np.int64))  # we can use it to test on a subset\n",
        "# (In the last case, indexes do not need to account for training ones because the train=False parameter in datasets.CIFAR will select from the test set)"
      ],
      "execution_count": 5,
      "outputs": []
    },
    {
      "cell_type": "code",
      "metadata": {
        "id": "QwPLLN67h-kG",
        "outputId": "15417535-a4e6-45e1-d823-7e147413b186",
        "colab": {
          "base_uri": "https://localhost:8080/",
          "height": 168,
          "referenced_widgets": [
            "43db6601bca3458f988f0208aaec7c5d",
            "17510283a59d4a3c88eb99a8d535a1b4",
            "e438d40f6e284fd89c261c503aaaa8ef",
            "28e398e4c7cd486a9c754b93c0111904",
            "a839eec4d1f745c19a793a0d0aa0fed3",
            "85d66fc8b6064a0fb34f7cced6532a04",
            "44aad7c5aa404bc48a5040f6e7e3f2bc",
            "2984129b6f8345e2bee58bbb0f057cfa",
            "f8f28b7521a147808b0b3f26305a5714",
            "85922fb906f44075b16bdb2dbfc6f792",
            "9e70aea1eed740b987db60dc1e464185",
            "267844fcd8074b9c853b6568abd6fb11",
            "03920281aaeb4d4d8071e273057cc18d",
            "1192daedc08541459721adb073819218",
            "c39f0bf44e764a32929105c5fddea6e4",
            "14a9b95265324db6ab69359e5c517a23"
          ]
        }
      },
      "source": [
        "num_workers = 5\n",
        "test_batch_size = 4\n",
        "\n",
        "transform = transforms.Compose(\n",
        "    [transforms.ToTensor(),\n",
        "     transforms.Normalize(mean=(0.5, 0.5, 0.5), std=(0.5, 0.5, 0.5))])\n",
        "\n",
        "train_set = torchvision.datasets.CIFAR10(root='./data', train=True,\n",
        "                                        download=True, transform=transform)\n",
        "\n",
        "train_loader = torch.utils.data.DataLoader(train_set, batch_size=test_batch_size, sampler=train_sampler,\n",
        "                                          num_workers=num_workers)\n",
        "\n",
        "test_set = torchvision.datasets.CIFAR10(root='./data', train=False,\n",
        "                                       download=True, transform=transform)\n",
        "test_loader = torch.utils.data.DataLoader(test_set, batch_size=test_batch_size,\n",
        "                                         num_workers=num_workers)\n",
        "\n",
        "classes = ('plane', 'car', 'bird', 'cat',\n",
        "           'deer', 'dog', 'frog', 'horse', 'ship', 'truck')"
      ],
      "execution_count": 6,
      "outputs": [
        {
          "output_type": "stream",
          "text": [
            "Downloading https://www.cs.toronto.edu/~kriz/cifar-10-python.tar.gz to ./data/cifar-10-python.tar.gz\n"
          ],
          "name": "stdout"
        },
        {
          "output_type": "display_data",
          "data": {
            "application/vnd.jupyter.widget-view+json": {
              "model_id": "43db6601bca3458f988f0208aaec7c5d",
              "version_minor": 0,
              "version_major": 2
            },
            "text/plain": [
              "HBox(children=(FloatProgress(value=1.0, bar_style='info', max=1.0), HTML(value='')))"
            ]
          },
          "metadata": {
            "tags": []
          }
        },
        {
          "output_type": "stream",
          "text": [
            "Failed download. Trying https -> http instead. Downloading http://www.cs.toronto.edu/~kriz/cifar-10-python.tar.gz to ./data/cifar-10-python.tar.gz\n"
          ],
          "name": "stdout"
        },
        {
          "output_type": "display_data",
          "data": {
            "application/vnd.jupyter.widget-view+json": {
              "model_id": "f8f28b7521a147808b0b3f26305a5714",
              "version_minor": 0,
              "version_major": 2
            },
            "text/plain": [
              "HBox(children=(FloatProgress(value=1.0, bar_style='info', max=1.0), HTML(value='')))"
            ]
          },
          "metadata": {
            "tags": []
          }
        },
        {
          "output_type": "stream",
          "text": [
            "Extracting ./data/cifar-10-python.tar.gz to ./data\n",
            "Files already downloaded and verified\n",
            "\n"
          ],
          "name": "stdout"
        }
      ]
    },
    {
      "cell_type": "markdown",
      "metadata": {
        "id": "GAJvKx--NZQf"
      },
      "source": [
        "Define a loss function and optimizer"
      ]
    },
    {
      "cell_type": "code",
      "metadata": {
        "id": "lX-Zkhqnh-zU"
      },
      "source": [
        "def createLossAndOptimizer(net, learning_rate=0.001):\n",
        "    # it combines softmax with negative log likelihood loss\n",
        "    criterion = nn.CrossEntropyLoss()  \n",
        "    #optimizer = optim.SGD(net.parameters(), lr=learning_rate, momentum=0.9)\n",
        "    # training the model using AdamW\n",
        "    #optimizer = optim.AdamW(net.parameters(), lr=learning_rate)\n",
        "    # we train the model using Adam \n",
        "    optimizer = optim.Adam(net.parameters(), lr=learning_rate)\n",
        "    return criterion, optimizer"
      ],
      "execution_count": 7,
      "outputs": []
    },
    {
      "cell_type": "markdown",
      "metadata": {
        "id": "6purmub-NfxZ"
      },
      "source": [
        "Data loader"
      ]
    },
    {
      "cell_type": "code",
      "metadata": {
        "id": "oc5kbo0ch-_s"
      },
      "source": [
        "def get_train_loader(batch_size):\n",
        "    return torch.utils.data.DataLoader(train_set, batch_size=batch_size, sampler=train_sampler,\n",
        "                                              num_workers=num_workers)\n",
        "\n",
        "# Use larger batch size for validation to speed up computation\n",
        "val_loader = torch.utils.data.DataLoader(train_set, batch_size=128, sampler=val_sampler,\n",
        "                                          num_workers=num_workers)"
      ],
      "execution_count": 8,
      "outputs": []
    },
    {
      "cell_type": "markdown",
      "metadata": {
        "id": "D4Uc6OZ9Nl2H"
      },
      "source": [
        "Training loop : <br> \n",
        "Note here the following function saves only the weights at epoch n that gave the best performance on the valid set. So we may train for N epochs, we only consider the model \"stopped\" at epoch n. And this is important because the model might be accurate first then depending on the hyperparameters, it might fail to converge so the performance gets worse. "
      ]
    },
    {
      "cell_type": "code",
      "metadata": {
        "id": "HXiHnarDh_Lc"
      },
      "source": [
        "def train(net, batch_size, n_epochs, learning_rate, get_model = False ):\n",
        "    \"\"\"\n",
        "    Train a neural network and print statistics of the training\n",
        "    \n",
        "    :param net: (PyTorch Neural Network)\n",
        "    :param batch_size: (int)\n",
        "    :param n_epochs: (int)  Number of iterations on the training set\n",
        "    :param learning_rate: (float) learning rate used by the optimizer\n",
        "    :param get_model : get the trained model after training  \n",
        "    \"\"\"\n",
        "    print(\"===== HYPERPARAMETERS =====\")\n",
        "    print(\"batch_size=\", batch_size)\n",
        "    print(\"n_epochs=\", n_epochs)\n",
        "    print(\"learning_rate=\", learning_rate)\n",
        "    print(\"=\" * 30)\n",
        "    \n",
        "    train_loader = get_train_loader(batch_size)\n",
        "    n_minibatches = len(train_loader)\n",
        "\n",
        "    criterion, optimizer = createLossAndOptimizer(net, learning_rate)\n",
        "    # Init variables used for plotting the loss\n",
        "    train_history = []\n",
        "    val_history = []\n",
        "\n",
        "    training_start_time = time.time()\n",
        "    best_error = np.inf\n",
        "    best_model_path = \"best_model.pth\"\n",
        "    \n",
        "    # Move model to gpu if possible\n",
        "    net = net.to(device)\n",
        "\n",
        "    for epoch in range(n_epochs):  # loop over the dataset multiple times\n",
        "\n",
        "        running_loss = 0.0\n",
        "        print_every = n_minibatches // 10\n",
        "        start_time = time.time()\n",
        "        total_train_loss = 0\n",
        "        \n",
        "        for i, (inputs, labels) in enumerate(train_loader):\n",
        "\n",
        "            # Move tensors to correct device\n",
        "            inputs, labels = inputs.to(device), labels.to(device)\n",
        "\n",
        "            # zero the parameter gradients\n",
        "            optimizer.zero_grad()\n",
        "\n",
        "            # forward + backward + optimize\n",
        "            outputs = net(inputs)\n",
        "            loss = criterion(outputs, labels)\n",
        "            loss.backward()\n",
        "            optimizer.step()\n",
        "\n",
        "            # print statistics\n",
        "            running_loss += loss.item()\n",
        "            total_train_loss += loss.item()\n",
        "\n",
        "            # print every 10th of epoch\n",
        "            if (i + 1) % (print_every + 1) == 0:    \n",
        "                print(\"Epoch {}, {:d}% \\t train_loss: {:.2f} took: {:.2f}s\".format(\n",
        "                      epoch + 1, int(100 * (i + 1) / n_minibatches), running_loss / print_every,\n",
        "                      time.time() - start_time))\n",
        "                running_loss = 0.0\n",
        "                start_time = time.time()\n",
        "\n",
        "        train_history.append(total_train_loss / len(train_loader))\n",
        "\n",
        "        total_val_loss = 0\n",
        "        # Do a pass on the validation set\n",
        "        # We don't need to compute gradient,\n",
        "        # we save memory and computation using th.no_grad()\n",
        "        with th.no_grad():\n",
        "          for inputs, labels in val_loader:\n",
        "              # Move tensors to correct device\n",
        "              inputs, labels = inputs.to(device), labels.to(device)\n",
        "              # Forward pass\n",
        "              predictions = net(inputs)\n",
        "              val_loss = criterion(predictions, labels)\n",
        "              total_val_loss += val_loss.item()\n",
        "            \n",
        "        val_history.append(total_val_loss / len(val_loader))\n",
        "        # Save model that performs best on validation set\n",
        "        if total_val_loss < best_error:\n",
        "            best_error = total_val_loss\n",
        "            th.save(net.state_dict(), best_model_path)\n",
        "\n",
        "        print(\"Validation loss = {:.2f}\".format(total_val_loss / len(val_loader)))\n",
        "\n",
        "    print(\"Training Finished, took {:.2f}s\".format(time.time() - training_start_time))\n",
        "    \n",
        "    # Load best model\n",
        "    net.load_state_dict(th.load(best_model_path))\n",
        "    if get_model : \n",
        "      return train_history, val_history, net\n",
        "    \n",
        "    return train_history, val_history"
      ],
      "execution_count": 15,
      "outputs": []
    },
    {
      "cell_type": "markdown",
      "metadata": {
        "id": "Bpr-QkJ1NpDw"
      },
      "source": [
        "Let us look at how the network performs on the whole test set."
      ]
    },
    {
      "cell_type": "code",
      "metadata": {
        "id": "MZxOqdoFh_aN",
        "outputId": "adb93cc2-f4a8-4e74-e1f1-dcca8033da3f",
        "colab": {
          "base_uri": "https://localhost:8080/",
          "height": 35
        }
      },
      "source": [
        "def dataset_accuracy(net, data_loader, name=\"\"):\n",
        "    net = net.to(device)\n",
        "    correct = 0\n",
        "    total = 0\n",
        "    for images, labels in data_loader:\n",
        "        images, labels = images.to(device), labels.to(device)\n",
        "        outputs = net(images)\n",
        "        _, predicted = torch.max(outputs, 1)\n",
        "        total += labels.size(0)\n",
        "        correct += (predicted == labels).sum()\n",
        "    accuracy = 100 * float(correct) / total\n",
        "    print('Accuracy of the network on the {} {} images: {:.2f} %'.format(total, name, accuracy))\n",
        "\n",
        "def train_set_accuracy(net):\n",
        "    dataset_accuracy(net, train_loader, \"train\")\n",
        "\n",
        "def val_set_accuracy(net):\n",
        "    dataset_accuracy(net, val_loader, \"validation\")  \n",
        "    \n",
        "def test_set_accuracy(net):\n",
        "    dataset_accuracy(net, test_loader, \"test\")\n",
        "\n",
        "def compute_accuracy(net):\n",
        "    train_set_accuracy(net)\n",
        "    val_set_accuracy(net)\n",
        "    test_set_accuracy(net)\n",
        "    \n",
        "print(\"Computing accuracy...\")"
      ],
      "execution_count": 10,
      "outputs": [
        {
          "output_type": "stream",
          "text": [
            "Computing accuracy...\n"
          ],
          "name": "stdout"
        }
      ]
    },
    {
      "cell_type": "code",
      "metadata": {
        "id": "U-BH7YmSh_mt"
      },
      "source": [
        "def accuracy_per_class(net):\n",
        "    net = net.to(device)\n",
        "    n_classes = 10\n",
        "    # (real, predicted)\n",
        "    confusion_matrix = np.zeros((n_classes, n_classes), dtype=np.int64)\n",
        "\n",
        "    for images, labels in test_loader:\n",
        "        images, labels = images, labels = images.to(device), labels.to(device)\n",
        "        outputs = net(images)\n",
        "        _, predicted = torch.max(outputs.data, 1)\n",
        "        for i in range(test_batch_size):\n",
        "            confusion_matrix[labels[i], predicted[i]] += 1\n",
        "            label = labels[i]\n",
        "\n",
        "    print(\"{:<10} {:^10}\".format(\"Class\", \"Accuracy (%)\"))\n",
        "    for i in range(n_classes):\n",
        "        class_total = confusion_matrix[i, :].sum()\n",
        "        class_correct = confusion_matrix[i, i]\n",
        "        percentage_correct = 100.0 * float(class_correct) / class_total\n",
        "        \n",
        "        print('{:<10} {:^10.2f}'.format(classes[i], percentage_correct))\n",
        "    return confusion_matrix\n",
        "\n"
      ],
      "execution_count": 11,
      "outputs": []
    },
    {
      "cell_type": "code",
      "metadata": {
        "id": "UG62g2sah_y1"
      },
      "source": [
        "def get_output_size(in_size, kernel_size, stride=1, padding=0):\n",
        "    \"\"\"\n",
        "    Get the output size given all the parameters of the convolution\n",
        "    :param in_size: (int) input size\n",
        "    :param kernel_size: (int)\n",
        "    :param stride: (int)\n",
        "    :param paddind: (int)\n",
        "    :return: (int)\n",
        "    \"\"\"\n",
        "    return int((in_size - kernel_size + 2 * padding) / stride) + 1"
      ],
      "execution_count": 12,
      "outputs": []
    },
    {
      "cell_type": "markdown",
      "metadata": {
        "id": "mFWeIW5ZN9d2"
      },
      "source": [
        "<h2> I- Training the classifier <h2>"
      ]
    },
    {
      "cell_type": "markdown",
      "metadata": {
        "id": "-Fb82Ln9OLMq"
      },
      "source": [
        "Now we start training our model in order to classify CIFAR-10 classes. <br>\n",
        "Our first goal is to optimize the architectureof the network by adding more layers (convolution and/or fully connected layers) and/or changing the type of convolution and/or changing the parameters of some layers. "
      ]
    },
    {
      "cell_type": "markdown",
      "metadata": {
        "id": "hVsbHPjbQBra"
      },
      "source": [
        "We start with an architecture that is given by this lab work organizer. The model has one convolution layer, maxpooling layer and two fully-connected layers.  "
      ]
    },
    {
      "cell_type": "code",
      "metadata": {
        "id": "Razk_F3Gh__N"
      },
      "source": [
        "class SimpleConvolutionalNetwork(nn.Module):\n",
        "    def __init__(self):\n",
        "        super(SimpleConvolutionalNetwork, self).__init__()\n",
        "        \n",
        "        self.conv1 = nn.Conv2d(3, 18, kernel_size=3, stride=1, padding=1)\n",
        "        self.pool = nn.MaxPool2d(kernel_size=2, stride=2, padding=0)\n",
        "        \n",
        "        # on the shape (how we pass from a 3x32x32 input image to a 18x16x16 volume)\n",
        "        self.fc1 = nn.Linear(18 * 16 * 16, 64) \n",
        "        self.fc2 = nn.Linear(64, 10)\n",
        "\n",
        "    def forward(self, x):\n",
        "        \"\"\"\n",
        "        Forward pass,\n",
        "        x shape is (batch_size, 3, 32, 32)\n",
        "        (color channel first)\n",
        "        \"\"\"\n",
        "        # shape : 3x32x32 -> 18x32x32\n",
        "        x = F.relu(self.conv1(x))\n",
        "        # 18x32x32 -> 18x16x16\n",
        "        x = self.pool(x)\n",
        "        # 18x16x16 -> 4608\n",
        "        x = x.view(-1, 18 * 16 * 16)\n",
        "        # 4608 -> 64\n",
        "        x = F.relu(self.fc1(x))\n",
        "        # 64 -> 10\n",
        "        x = self.fc2(x)\n",
        "        return x"
      ],
      "execution_count": null,
      "outputs": []
    },
    {
      "cell_type": "markdown",
      "metadata": {
        "id": "2bf53G99Qk2v"
      },
      "source": [
        "We train this model. First, we focus only on the training/validation losses and the total accuracy . This gives us a general idea about the performance of the model. It is obvious that we should not focus only on the whole accuracy because seeing how the model behaves with every class is crucial too (this can be done by plotting the confusion matrix)."
      ]
    },
    {
      "cell_type": "markdown",
      "metadata": {
        "id": "pTnWMQhDRr82"
      },
      "source": [
        "We fix some hyperparameters in order to see the influence of the architecture on the total accuracy:  \n",
        "* the batch size = 32\n",
        "* Adam optimizer \n",
        "* total number of epochs = 10 \n",
        "* learning rate  = 10e-3\n"
      ]
    },
    {
      "cell_type": "code",
      "metadata": {
        "id": "jAloT9iWi1ex",
        "outputId": "2d2c07ef-4bad-44bc-f931-fb10d142a4d3",
        "colab": {
          "base_uri": "https://localhost:8080/",
          "height": 1000
        }
      },
      "source": [
        "net = SimpleConvolutionalNetwork()\n",
        "train_history, val_history = train(net, batch_size=32, n_epochs=10, learning_rate=0.001)"
      ],
      "execution_count": null,
      "outputs": [
        {
          "output_type": "stream",
          "text": [
            "===== HYPERPARAMETERS =====\n",
            "batch_size= 32\n",
            "n_epochs= 10\n",
            "learning_rate= 0.001\n",
            "==============================\n",
            "Epoch 1, 10% \t train_loss: 1.96 took: 3.21s\n",
            "Epoch 1, 20% \t train_loss: 1.64 took: 2.70s\n",
            "Epoch 1, 30% \t train_loss: 1.51 took: 2.72s\n",
            "Epoch 1, 40% \t train_loss: 1.44 took: 2.71s\n",
            "Epoch 1, 50% \t train_loss: 1.40 took: 2.71s\n",
            "Epoch 1, 60% \t train_loss: 1.36 took: 2.92s\n",
            "Epoch 1, 70% \t train_loss: 1.35 took: 3.09s\n",
            "Epoch 1, 80% \t train_loss: 1.28 took: 2.99s\n",
            "Epoch 1, 90% \t train_loss: 1.29 took: 3.00s\n",
            "Validation loss = 1.23\n",
            "Epoch 2, 10% \t train_loss: 1.19 took: 3.13s\n",
            "Epoch 2, 20% \t train_loss: 1.21 took: 2.95s\n",
            "Epoch 2, 30% \t train_loss: 1.21 took: 2.99s\n",
            "Epoch 2, 40% \t train_loss: 1.18 took: 2.96s\n",
            "Epoch 2, 50% \t train_loss: 1.14 took: 2.99s\n",
            "Epoch 2, 60% \t train_loss: 1.18 took: 3.01s\n",
            "Epoch 2, 70% \t train_loss: 1.14 took: 2.99s\n",
            "Epoch 2, 80% \t train_loss: 1.13 took: 2.93s\n",
            "Epoch 2, 90% \t train_loss: 1.17 took: 2.99s\n",
            "Validation loss = 1.22\n",
            "Epoch 3, 10% \t train_loss: 1.04 took: 3.08s\n",
            "Epoch 3, 20% \t train_loss: 1.05 took: 2.98s\n",
            "Epoch 3, 30% \t train_loss: 1.08 took: 2.99s\n",
            "Epoch 3, 40% \t train_loss: 1.07 took: 2.95s\n",
            "Epoch 3, 50% \t train_loss: 1.05 took: 2.97s\n",
            "Epoch 3, 60% \t train_loss: 1.07 took: 2.96s\n",
            "Epoch 3, 70% \t train_loss: 1.03 took: 2.98s\n",
            "Epoch 3, 80% \t train_loss: 1.08 took: 2.98s\n",
            "Epoch 3, 90% \t train_loss: 1.06 took: 2.97s\n",
            "Validation loss = 1.14\n",
            "Epoch 4, 10% \t train_loss: 0.95 took: 3.11s\n",
            "Epoch 4, 20% \t train_loss: 0.98 took: 2.96s\n",
            "Epoch 4, 30% \t train_loss: 0.96 took: 2.94s\n",
            "Epoch 4, 40% \t train_loss: 0.97 took: 2.97s\n",
            "Epoch 4, 50% \t train_loss: 0.96 took: 3.04s\n",
            "Epoch 4, 60% \t train_loss: 0.96 took: 3.07s\n",
            "Epoch 4, 70% \t train_loss: 0.95 took: 3.07s\n",
            "Epoch 4, 80% \t train_loss: 0.98 took: 3.05s\n",
            "Epoch 4, 90% \t train_loss: 0.97 took: 2.98s\n",
            "Validation loss = 1.07\n",
            "Epoch 5, 10% \t train_loss: 0.86 took: 3.13s\n",
            "Epoch 5, 20% \t train_loss: 0.91 took: 2.93s\n",
            "Epoch 5, 30% \t train_loss: 0.87 took: 2.97s\n",
            "Epoch 5, 40% \t train_loss: 0.90 took: 2.97s\n",
            "Epoch 5, 50% \t train_loss: 0.92 took: 2.98s\n",
            "Epoch 5, 60% \t train_loss: 0.91 took: 2.97s\n",
            "Epoch 5, 70% \t train_loss: 0.94 took: 3.00s\n",
            "Epoch 5, 80% \t train_loss: 0.89 took: 3.00s\n",
            "Epoch 5, 90% \t train_loss: 0.91 took: 2.99s\n",
            "Validation loss = 1.08\n",
            "Epoch 6, 10% \t train_loss: 0.81 took: 3.08s\n",
            "Epoch 6, 20% \t train_loss: 0.82 took: 3.01s\n",
            "Epoch 6, 30% \t train_loss: 0.84 took: 3.00s\n",
            "Epoch 6, 40% \t train_loss: 0.84 took: 3.11s\n",
            "Epoch 6, 50% \t train_loss: 0.85 took: 3.00s\n",
            "Epoch 6, 60% \t train_loss: 0.83 took: 2.98s\n",
            "Epoch 6, 70% \t train_loss: 0.84 took: 2.97s\n",
            "Epoch 6, 80% \t train_loss: 0.85 took: 2.97s\n",
            "Epoch 6, 90% \t train_loss: 0.85 took: 2.96s\n",
            "Validation loss = 1.06\n",
            "Epoch 7, 10% \t train_loss: 0.72 took: 3.09s\n",
            "Epoch 7, 20% \t train_loss: 0.74 took: 2.96s\n",
            "Epoch 7, 30% \t train_loss: 0.76 took: 3.00s\n",
            "Epoch 7, 40% \t train_loss: 0.78 took: 2.98s\n",
            "Epoch 7, 50% \t train_loss: 0.77 took: 2.98s\n",
            "Epoch 7, 60% \t train_loss: 0.78 took: 2.99s\n",
            "Epoch 7, 70% \t train_loss: 0.78 took: 3.00s\n",
            "Epoch 7, 80% \t train_loss: 0.82 took: 2.98s\n",
            "Epoch 7, 90% \t train_loss: 0.78 took: 2.99s\n",
            "Validation loss = 1.07\n",
            "Epoch 8, 10% \t train_loss: 0.70 took: 3.12s\n",
            "Epoch 8, 20% \t train_loss: 0.69 took: 3.02s\n",
            "Epoch 8, 30% \t train_loss: 0.74 took: 3.03s\n",
            "Epoch 8, 40% \t train_loss: 0.69 took: 2.97s\n",
            "Epoch 8, 50% \t train_loss: 0.73 took: 2.97s\n",
            "Epoch 8, 60% \t train_loss: 0.72 took: 3.03s\n",
            "Epoch 8, 70% \t train_loss: 0.75 took: 2.99s\n",
            "Epoch 8, 80% \t train_loss: 0.72 took: 2.99s\n",
            "Epoch 8, 90% \t train_loss: 0.72 took: 2.99s\n",
            "Validation loss = 1.09\n",
            "Epoch 9, 10% \t train_loss: 0.62 took: 3.14s\n",
            "Epoch 9, 20% \t train_loss: 0.62 took: 2.98s\n",
            "Epoch 9, 30% \t train_loss: 0.69 took: 2.97s\n",
            "Epoch 9, 40% \t train_loss: 0.68 took: 3.02s\n",
            "Epoch 9, 50% \t train_loss: 0.68 took: 2.98s\n",
            "Epoch 9, 60% \t train_loss: 0.68 took: 2.96s\n",
            "Epoch 9, 70% \t train_loss: 0.67 took: 2.96s\n",
            "Epoch 9, 80% \t train_loss: 0.69 took: 3.06s\n",
            "Epoch 9, 90% \t train_loss: 0.73 took: 3.06s\n",
            "Validation loss = 1.16\n",
            "Epoch 10, 10% \t train_loss: 0.60 took: 3.12s\n",
            "Epoch 10, 20% \t train_loss: 0.57 took: 2.97s\n",
            "Epoch 10, 30% \t train_loss: 0.60 took: 3.01s\n",
            "Epoch 10, 40% \t train_loss: 0.64 took: 2.99s\n",
            "Epoch 10, 50% \t train_loss: 0.63 took: 3.02s\n",
            "Epoch 10, 60% \t train_loss: 0.63 took: 2.98s\n",
            "Epoch 10, 70% \t train_loss: 0.64 took: 3.01s\n",
            "Epoch 10, 80% \t train_loss: 0.66 took: 2.97s\n",
            "Epoch 10, 90% \t train_loss: 0.62 took: 2.96s\n",
            "Validation loss = 1.14\n",
            "Training Finished, took 333.31s\n"
          ],
          "name": "stdout"
        }
      ]
    },
    {
      "cell_type": "code",
      "metadata": {
        "id": "7R5gRowgi1zu",
        "outputId": "1958f408-c357-440a-bdf5-e9ed7bd75494",
        "colab": {
          "base_uri": "https://localhost:8080/",
          "height": 456
        }
      },
      "source": [
        "compute_accuracy(net)\n",
        "plot_losses(train_history, val_history)"
      ],
      "execution_count": null,
      "outputs": [
        {
          "output_type": "stream",
          "text": [
            "Accuracy of the network on the 40000 train images: 74.66 %\n",
            "Accuracy of the network on the 10000 validation images: 63.30 %\n",
            "Accuracy of the network on the 10000 test images: 63.11 %\n"
          ],
          "name": "stdout"
        },
        {
          "output_type": "display_data",
          "data": {
            "image/png": "[encoded data removed]",
            "text/plain": [
              "<Figure size 576x432 with 1 Axes>"
            ]
          },
          "metadata": {
            "tags": []
          }
        }
      ]
    },
    {
      "cell_type": "markdown",
      "metadata": {
        "id": "n4t9WrjMSVLx"
      },
      "source": [
        "Since the network is small,the training runtime is quite short. <br> \n",
        "By plotting the training and valid loss, we can see first that over the epochs, the loss functions descrease. But, the valid loss does not decrease the same way as the train loss. And unfortunately, after a certain number of epochs it starts to increase. <br> \n",
        "==> We have a problem of Overfitting. This issue will be our main ennemie while optimizing of our model performance, because our goal is to push the network to learn more and more and at some point it may lose its capacity of generelizing knowledge on a new test set. In that case, a trade-off should be made in order to guarantee an acceptable performance. <br> \n",
        "Our starting point accuracy on the test set is 63.11% . This value should inscrease if we add some more layers. "
      ]
    },
    {
      "cell_type": "code",
      "metadata": {
        "id": "juNHgJo4i2BF",
        "outputId": "b338fd53-c2d2-4864-d1f0-496e2aec2659",
        "colab": {
          "base_uri": "https://localhost:8080/",
          "height": 208
        }
      },
      "source": [
        "confusion_matrix = accuracy_per_class(net)"
      ],
      "execution_count": null,
      "outputs": [
        {
          "output_type": "stream",
          "text": [
            "Class      Accuracy (%)\n",
            "plane        66.00   \n",
            "car          60.60   \n",
            "bird         46.40   \n",
            "cat          50.10   \n",
            "deer         64.20   \n",
            "dog          48.40   \n",
            "frog         68.30   \n",
            "horse        73.90   \n",
            "ship         76.30   \n",
            "truck        76.90   \n"
          ],
          "name": "stdout"
        }
      ]
    },
    {
      "cell_type": "markdown",
      "metadata": {
        "id": "Z0alTV8Jpd6p"
      },
      "source": [
        "If we have a look at the accuracy of the model by class we can see that there is a huge difference in performance between classes. The model has some difficulty classifying the features labeled \"bird\", \"cat\" and \"dog\".   "
      ]
    },
    {
      "cell_type": "markdown",
      "metadata": {
        "id": "_JOPx74UI7-q"
      },
      "source": [
        "<h2> II- Model Optimization <h2>"
      ]
    },
    {
      "cell_type": "markdown",
      "metadata": {
        "id": "MxWxlRoiVEMj"
      },
      "source": [
        "<h3>1- Influence of adding more convolution layers:<h3> <br>\n",
        " "
      ]
    },
    {
      "cell_type": "markdown",
      "metadata": {
        "id": "f5jUo0MPJRht"
      },
      "source": [
        "We add 2 more convolution layers to our previous model. We choose to increase the number of output channels of the second convolution layer in order to extract more information from image. This should help the network to distinguish more easily between classes."
      ]
    },
    {
      "cell_type": "code",
      "metadata": {
        "id": "nhVsDx-Ei2hO"
      },
      "source": [
        "# Importance of adding more convolution layers \n",
        "class MyConvolutionalNetwork_V1(nn.Module):\n",
        "    def __init__(self):\n",
        "        super(MyConvolutionalNetwork_V1, self).__init__()\n",
        "        \n",
        "        self.conv1 = nn.Conv2d(3, 18, kernel_size=3, stride=1, padding=1)\n",
        "        self.conv2 = nn.Conv2d(18, 36, kernel_size=3, stride=1, padding=1)\n",
        "        self.conv3 = nn.Conv2d(36, 18, kernel_size=3, stride=1, padding=1)\n",
        "        self.pool = nn.MaxPool2d(kernel_size=2, stride=2, padding=0)\n",
        "        \n",
        "        # on the shape (how we pass from a 3x32x32 input image to a 18x16x16 volume)\n",
        "        self.fc1 = nn.Linear(18 * 16 * 16, 64) \n",
        "        self.fc2 = nn.Linear(64, 10)\n",
        "\n",
        "    def forward(self, x):\n",
        "        \"\"\"\n",
        "        Forward pass,\n",
        "        x shape is (batch_size, 3, 32, 32)\n",
        "        (color channel first)\n",
        "        \"\"\"\n",
        "        # shape : 3x32x32 -> 18x32x32\n",
        "        x = F.relu(self.conv1(x))\n",
        "        # 18x32x32 -> 18x16x16\n",
        "        x = self.pool(x)\n",
        "        x = F.relu(self.conv2(x))\n",
        "        x = F.relu(self.conv3(x))\n",
        "\n",
        "        # 18x16x16 -> 4608\n",
        "        x = x.view(-1, 18 * 16 * 16)\n",
        "        # 4608 -> 64\n",
        "        x = F.relu(self.fc1(x))\n",
        "        # 64 -> 10\n",
        "        x = self.fc2(x)\n",
        "        return x"
      ],
      "execution_count": null,
      "outputs": []
    },
    {
      "cell_type": "code",
      "metadata": {
        "id": "QQLIxKj7i2tt",
        "outputId": "9e8ce9fb-64a6-49a7-fa02-0bc345551358",
        "colab": {
          "base_uri": "https://localhost:8080/",
          "height": 1000
        }
      },
      "source": [
        "net_V1 = MyConvolutionalNetwork_V1()\n",
        "train_history, val_history = train(net_V1, batch_size=32, n_epochs=10, learning_rate=0.001)"
      ],
      "execution_count": null,
      "outputs": [
        {
          "output_type": "stream",
          "text": [
            "===== HYPERPARAMETERS =====\n",
            "batch_size= 32\n",
            "n_epochs= 10\n",
            "learning_rate= 0.001\n",
            "==============================\n",
            "Epoch 1, 10% \t train_loss: 1.96 took: 6.17s\n",
            "Epoch 1, 20% \t train_loss: 1.65 took: 6.06s\n",
            "Epoch 1, 30% \t train_loss: 1.56 took: 6.00s\n",
            "Epoch 1, 40% \t train_loss: 1.48 took: 5.94s\n",
            "Epoch 1, 50% \t train_loss: 1.43 took: 6.11s\n",
            "Epoch 1, 60% \t train_loss: 1.34 took: 6.39s\n",
            "Epoch 1, 70% \t train_loss: 1.33 took: 6.29s\n",
            "Epoch 1, 80% \t train_loss: 1.30 took: 6.20s\n",
            "Epoch 1, 90% \t train_loss: 1.26 took: 6.20s\n",
            "Validation loss = 1.25\n",
            "Epoch 2, 10% \t train_loss: 1.18 took: 6.39s\n",
            "Epoch 2, 20% \t train_loss: 1.15 took: 6.20s\n",
            "Epoch 2, 30% \t train_loss: 1.15 took: 6.32s\n",
            "Epoch 2, 40% \t train_loss: 1.14 took: 6.17s\n",
            "Epoch 2, 50% \t train_loss: 1.09 took: 6.22s\n",
            "Epoch 2, 60% \t train_loss: 1.09 took: 6.14s\n",
            "Epoch 2, 70% \t train_loss: 1.08 took: 6.16s\n",
            "Epoch 2, 80% \t train_loss: 1.09 took: 6.19s\n",
            "Epoch 2, 90% \t train_loss: 1.10 took: 6.20s\n",
            "Validation loss = 1.06\n",
            "Epoch 3, 10% \t train_loss: 0.95 took: 6.32s\n",
            "Epoch 3, 20% \t train_loss: 0.98 took: 6.22s\n",
            "Epoch 3, 30% \t train_loss: 0.97 took: 6.22s\n",
            "Epoch 3, 40% \t train_loss: 0.95 took: 6.22s\n",
            "Epoch 3, 50% \t train_loss: 0.97 took: 6.17s\n",
            "Epoch 3, 60% \t train_loss: 0.94 took: 6.17s\n",
            "Epoch 3, 70% \t train_loss: 0.97 took: 6.23s\n",
            "Epoch 3, 80% \t train_loss: 0.98 took: 6.20s\n",
            "Epoch 3, 90% \t train_loss: 0.93 took: 6.21s\n",
            "Validation loss = 0.99\n",
            "Epoch 4, 10% \t train_loss: 0.83 took: 6.30s\n",
            "Epoch 4, 20% \t train_loss: 0.82 took: 6.21s\n",
            "Epoch 4, 30% \t train_loss: 0.85 took: 6.19s\n",
            "Epoch 4, 40% \t train_loss: 0.85 took: 6.32s\n",
            "Epoch 4, 50% \t train_loss: 0.83 took: 6.47s\n",
            "Epoch 4, 60% \t train_loss: 0.85 took: 6.65s\n",
            "Epoch 4, 70% \t train_loss: 0.81 took: 6.24s\n",
            "Epoch 4, 80% \t train_loss: 0.85 took: 6.30s\n",
            "Epoch 4, 90% \t train_loss: 0.85 took: 6.24s\n",
            "Validation loss = 1.01\n",
            "Epoch 5, 10% \t train_loss: 0.72 took: 6.37s\n",
            "Epoch 5, 20% \t train_loss: 0.75 took: 6.24s\n",
            "Epoch 5, 30% \t train_loss: 0.73 took: 6.20s\n",
            "Epoch 5, 40% \t train_loss: 0.76 took: 6.19s\n",
            "Epoch 5, 50% \t train_loss: 0.75 took: 6.28s\n",
            "Epoch 5, 60% \t train_loss: 0.77 took: 6.24s\n",
            "Epoch 5, 70% \t train_loss: 0.74 took: 6.35s\n",
            "Epoch 5, 80% \t train_loss: 0.74 took: 6.23s\n",
            "Epoch 5, 90% \t train_loss: 0.75 took: 6.19s\n",
            "Validation loss = 0.98\n",
            "Epoch 6, 10% \t train_loss: 0.64 took: 6.51s\n",
            "Epoch 6, 20% \t train_loss: 0.62 took: 6.22s\n",
            "Epoch 6, 30% \t train_loss: 0.66 took: 6.21s\n",
            "Epoch 6, 40% \t train_loss: 0.66 took: 6.21s\n",
            "Epoch 6, 50% \t train_loss: 0.65 took: 6.18s\n",
            "Epoch 6, 60% \t train_loss: 0.66 took: 6.25s\n",
            "Epoch 6, 70% \t train_loss: 0.67 took: 6.19s\n",
            "Epoch 6, 80% \t train_loss: 0.68 took: 6.25s\n",
            "Epoch 6, 90% \t train_loss: 0.66 took: 6.21s\n",
            "Validation loss = 0.96\n",
            "Epoch 7, 10% \t train_loss: 0.52 took: 6.33s\n",
            "Epoch 7, 20% \t train_loss: 0.56 took: 6.17s\n",
            "Epoch 7, 30% \t train_loss: 0.56 took: 6.17s\n",
            "Epoch 7, 40% \t train_loss: 0.57 took: 6.25s\n",
            "Epoch 7, 50% \t train_loss: 0.60 took: 6.21s\n",
            "Epoch 7, 60% \t train_loss: 0.59 took: 6.17s\n",
            "Epoch 7, 70% \t train_loss: 0.59 took: 6.21s\n",
            "Epoch 7, 80% \t train_loss: 0.58 took: 6.18s\n",
            "Epoch 7, 90% \t train_loss: 0.59 took: 6.26s\n",
            "Validation loss = 1.01\n",
            "Epoch 8, 10% \t train_loss: 0.46 took: 6.33s\n",
            "Epoch 8, 20% \t train_loss: 0.46 took: 6.20s\n",
            "Epoch 8, 30% \t train_loss: 0.49 took: 6.20s\n",
            "Epoch 8, 40% \t train_loss: 0.46 took: 6.24s\n",
            "Epoch 8, 50% \t train_loss: 0.48 took: 6.19s\n",
            "Epoch 8, 60% \t train_loss: 0.51 took: 6.20s\n",
            "Epoch 8, 70% \t train_loss: 0.52 took: 6.17s\n",
            "Epoch 8, 80% \t train_loss: 0.52 took: 6.18s\n",
            "Epoch 8, 90% \t train_loss: 0.55 took: 6.16s\n",
            "Validation loss = 1.10\n",
            "Epoch 9, 10% \t train_loss: 0.38 took: 6.35s\n",
            "Epoch 9, 20% \t train_loss: 0.34 took: 6.24s\n",
            "Epoch 9, 30% \t train_loss: 0.39 took: 6.22s\n",
            "Epoch 9, 40% \t train_loss: 0.42 took: 8.35s\n",
            "Epoch 9, 50% \t train_loss: 0.44 took: 8.04s\n",
            "Epoch 9, 60% \t train_loss: 0.43 took: 6.21s\n",
            "Epoch 9, 70% \t train_loss: 0.44 took: 6.17s\n",
            "Epoch 9, 80% \t train_loss: 0.46 took: 6.23s\n",
            "Epoch 9, 90% \t train_loss: 0.46 took: 6.17s\n",
            "Validation loss = 1.22\n",
            "Epoch 10, 10% \t train_loss: 0.31 took: 6.31s\n",
            "Epoch 10, 20% \t train_loss: 0.30 took: 6.20s\n",
            "Epoch 10, 30% \t train_loss: 0.33 took: 6.16s\n",
            "Epoch 10, 40% \t train_loss: 0.35 took: 6.16s\n",
            "Epoch 10, 50% \t train_loss: 0.35 took: 6.22s\n",
            "Epoch 10, 60% \t train_loss: 0.37 took: 6.36s\n",
            "Epoch 10, 70% \t train_loss: 0.42 took: 6.29s\n",
            "Epoch 10, 80% \t train_loss: 0.36 took: 6.29s\n",
            "Epoch 10, 90% \t train_loss: 0.40 took: 6.19s\n",
            "Validation loss = 1.32\n",
            "Training Finished, took 684.29s\n"
          ],
          "name": "stdout"
        }
      ]
    },
    {
      "cell_type": "code",
      "metadata": {
        "id": "H9CwoMB5i26e",
        "outputId": "4492b4c8-0699-4686-cf16-3ae6688927dd",
        "colab": {
          "base_uri": "https://localhost:8080/",
          "height": 456
        }
      },
      "source": [
        "compute_accuracy(net_V1)\n",
        "plot_losses(train_history, val_history)"
      ],
      "execution_count": null,
      "outputs": [
        {
          "output_type": "stream",
          "text": [
            "Accuracy of the network on the 40000 train images: 82.48 %\n",
            "Accuracy of the network on the 10000 validation images: 67.29 %\n",
            "Accuracy of the network on the 10000 test images: 67.01 %\n"
          ],
          "name": "stdout"
        },
        {
          "output_type": "display_data",
          "data": {
            "image/png": "[encoded data removed]",
            "text/plain": [
              "<Figure size 576x432 with 1 Axes>"
            ]
          },
          "metadata": {
            "tags": []
          }
        }
      ]
    },
    {
      "cell_type": "markdown",
      "metadata": {
        "id": "MhyoBk29q6xD"
      },
      "source": [
        "Adding new convolution layers helps descreasing the training loss. The test loss descreased at first then after a certain number of epochs it started to inscrease (overfitting). <br> \n",
        "==> A deeper network does not give always better results. A trade-off must be made <br>  \n",
        "Although,we had a problem of overfitting more noticeable, the evaluation on the test set gave better accuracy (~ +4%) (we choose the best obtained weights over epochs). Now, our aim is to reduce the impact of overfitting and at the same time maintain an increasing accuracy value.  "
      ]
    },
    {
      "cell_type": "code",
      "metadata": {
        "id": "w2LCM5YOi3Gk",
        "outputId": "de37a2c6-07a6-41e7-e62d-211d25f465b3",
        "colab": {
          "base_uri": "https://localhost:8080/",
          "height": 208
        }
      },
      "source": [
        "confusion_matrix = accuracy_per_class(net_V1)"
      ],
      "execution_count": null,
      "outputs": [
        {
          "output_type": "stream",
          "text": [
            "Class      Accuracy (%)\n",
            "plane        67.60   \n",
            "car          77.00   \n",
            "bird         62.90   \n",
            "cat          45.00   \n",
            "deer         63.00   \n",
            "dog          56.00   \n",
            "frog         75.30   \n",
            "horse        68.20   \n",
            "ship         81.10   \n",
            "truck        74.00   \n"
          ],
          "name": "stdout"
        }
      ]
    },
    {
      "cell_type": "markdown",
      "metadata": {
        "id": "PdqJvxaOs66F"
      },
      "source": [
        "In general, the accuracy per class has got better. We should not stop at that point because we are not sure yet that thes values represent the true capacity of our classifier.  "
      ]
    },
    {
      "cell_type": "markdown",
      "metadata": {
        "id": "Dck6opQztbHq"
      },
      "source": [
        "<h3> 2 - Impact of batch normalization <h3>"
      ]
    },
    {
      "cell_type": "markdown",
      "metadata": {
        "id": "bN7kdXAhtg8e"
      },
      "source": [
        "Batch normalization is used to adjust and scale the feature maps.It increases the stability of the neural network. Furthermore, it reduces the impact fo overfitting beaucause it has some slight regularization effects. Also, it allows each layer of the network to better capture relevent features by itself and without relying too much on the other layers. \n"
      ]
    },
    {
      "cell_type": "markdown",
      "metadata": {
        "id": "snLnTgTFv8tX"
      },
      "source": [
        "We use the same network architecture as during the previous training, but we add only a batch normalization layer after every convolution layer (the most commun place to use batch normalization). Then, we train our model and we evaluate it.  "
      ]
    },
    {
      "cell_type": "code",
      "metadata": {
        "id": "yS9e7wOOi3fN"
      },
      "source": [
        "# Importance of batch norm\n",
        "class MyConvolutionalNetwork_V2(nn.Module):\n",
        "    def __init__(self):\n",
        "        super(MyConvolutionalNetwork_V2, self).__init__()\n",
        "        \n",
        "        self.conv1 = nn.Conv2d(3, 18, kernel_size=3, stride=1, padding=1)\n",
        "        self.bn1 = nn.BatchNorm2d(18)\n",
        "        self.conv2 = nn.Conv2d(18, 36, kernel_size=3, stride=1, padding=1)\n",
        "        self.bn2 = nn.BatchNorm2d(36)\n",
        "        self.conv3 = nn.Conv2d(36, 18, kernel_size=3, stride=1, padding=1)\n",
        "        self.bn3 = nn.BatchNorm2d(18)\n",
        "        self.pool = nn.MaxPool2d(kernel_size=2, stride=2, padding=0)\n",
        "        \n",
        "        # on the shape (how we pass from a 3x32x32 input image to a 18x16x16 volume)\n",
        "        self.fc1 = nn.Linear(18 * 16 * 16, 64) \n",
        "        self.fc2 = nn.Linear(64, 10)\n",
        "\n",
        "    def forward(self, x):\n",
        "        \"\"\"\n",
        "        Forward pass,\n",
        "        x shape is (batch_size, 3, 32, 32)\n",
        "        (color channel first)\n",
        "        \"\"\"\n",
        "        # shape : 3x32x32 -> 18x32x32\n",
        "        x = F.relu(self.bn1(self.conv1(x)))\n",
        "        # 18x32x32 -> 18x16x16\n",
        "        x = self.pool(x)\n",
        "        x = F.relu(self.bn2(self.conv2(x)))\n",
        "        x = F.relu(self.bn3(self.conv3(x)))\n",
        "\n",
        "        # 18x16x16 -> 4608\n",
        "        x = x.view(-1, 18 * 16 * 16)\n",
        "        # 4608 -> 64\n",
        "        x = F.relu(self.fc1(x))\n",
        "        # 64 -> 10\n",
        "        x = self.fc2(x)\n",
        "        return x"
      ],
      "execution_count": null,
      "outputs": []
    },
    {
      "cell_type": "code",
      "metadata": {
        "id": "o0GAVcEji3ql",
        "outputId": "ac1a0494-49d2-4e1e-9482-4b536b6740c3",
        "colab": {
          "base_uri": "https://localhost:8080/",
          "height": 1000
        }
      },
      "source": [
        "net_V2 = MyConvolutionalNetwork_V2()\n",
        "train_history, val_history = train(net_V2, batch_size=32, n_epochs=10, learning_rate=0.001)"
      ],
      "execution_count": null,
      "outputs": [
        {
          "output_type": "stream",
          "text": [
            "===== HYPERPARAMETERS =====\n",
            "batch_size= 32\n",
            "n_epochs= 10\n",
            "learning_rate= 0.001\n",
            "==============================\n",
            "Epoch 1, 10% \t train_loss: 1.81 took: 7.86s\n",
            "Epoch 1, 20% \t train_loss: 1.45 took: 7.74s\n",
            "Epoch 1, 30% \t train_loss: 1.39 took: 7.76s\n",
            "Epoch 1, 40% \t train_loss: 1.31 took: 7.82s\n",
            "Epoch 1, 50% \t train_loss: 1.27 took: 7.77s\n",
            "Epoch 1, 60% \t train_loss: 1.16 took: 8.01s\n",
            "Epoch 1, 70% \t train_loss: 1.18 took: 8.26s\n",
            "Epoch 1, 80% \t train_loss: 1.13 took: 8.12s\n",
            "Epoch 1, 90% \t train_loss: 1.08 took: 8.11s\n",
            "Validation loss = 1.03\n",
            "Epoch 2, 10% \t train_loss: 1.04 took: 8.38s\n",
            "Epoch 2, 20% \t train_loss: 1.02 took: 8.14s\n",
            "Epoch 2, 30% \t train_loss: 0.98 took: 8.14s\n",
            "Epoch 2, 40% \t train_loss: 1.00 took: 8.16s\n",
            "Epoch 2, 50% \t train_loss: 0.99 took: 8.14s\n",
            "Epoch 2, 60% \t train_loss: 0.96 took: 8.17s\n",
            "Epoch 2, 70% \t train_loss: 0.98 took: 8.18s\n",
            "Epoch 2, 80% \t train_loss: 0.94 took: 8.19s\n",
            "Epoch 2, 90% \t train_loss: 0.96 took: 8.13s\n",
            "Validation loss = 0.94\n",
            "Epoch 3, 10% \t train_loss: 0.87 took: 8.30s\n",
            "Epoch 3, 20% \t train_loss: 0.83 took: 8.16s\n",
            "Epoch 3, 30% \t train_loss: 0.84 took: 8.26s\n",
            "Epoch 3, 40% \t train_loss: 0.86 took: 8.15s\n",
            "Epoch 3, 50% \t train_loss: 0.86 took: 8.14s\n",
            "Epoch 3, 60% \t train_loss: 0.85 took: 8.18s\n",
            "Epoch 3, 70% \t train_loss: 0.85 took: 8.19s\n",
            "Epoch 3, 80% \t train_loss: 0.86 took: 8.15s\n",
            "Epoch 3, 90% \t train_loss: 0.85 took: 8.19s\n",
            "Validation loss = 0.89\n",
            "Epoch 4, 10% \t train_loss: 0.75 took: 8.37s\n",
            "Epoch 4, 20% \t train_loss: 0.77 took: 8.19s\n",
            "Epoch 4, 30% \t train_loss: 0.76 took: 8.24s\n",
            "Epoch 4, 40% \t train_loss: 0.77 took: 8.17s\n",
            "Epoch 4, 50% \t train_loss: 0.78 took: 8.27s\n",
            "Epoch 4, 60% \t train_loss: 0.77 took: 8.14s\n",
            "Epoch 4, 70% \t train_loss: 0.79 took: 8.22s\n",
            "Epoch 4, 80% \t train_loss: 0.76 took: 8.19s\n",
            "Epoch 4, 90% \t train_loss: 0.79 took: 8.23s\n",
            "Validation loss = 0.89\n",
            "Epoch 5, 10% \t train_loss: 0.66 took: 8.31s\n",
            "Epoch 5, 20% \t train_loss: 0.69 took: 8.15s\n",
            "Epoch 5, 30% \t train_loss: 0.72 took: 8.23s\n",
            "Epoch 5, 40% \t train_loss: 0.71 took: 8.74s\n",
            "Epoch 5, 50% \t train_loss: 0.68 took: 8.19s\n",
            "Epoch 5, 60% \t train_loss: 0.71 took: 8.17s\n",
            "Epoch 5, 70% \t train_loss: 0.71 took: 11.49s\n",
            "Epoch 5, 80% \t train_loss: 0.74 took: 8.45s\n",
            "Epoch 5, 90% \t train_loss: 0.71 took: 8.11s\n",
            "Validation loss = 0.86\n",
            "Epoch 6, 10% \t train_loss: 0.58 took: 8.32s\n",
            "Epoch 6, 20% \t train_loss: 0.63 took: 8.12s\n",
            "Epoch 6, 30% \t train_loss: 0.65 took: 8.18s\n",
            "Epoch 6, 40% \t train_loss: 0.64 took: 8.12s\n",
            "Epoch 6, 50% \t train_loss: 0.68 took: 8.14s\n",
            "Epoch 6, 60% \t train_loss: 0.65 took: 8.11s\n",
            "Epoch 6, 70% \t train_loss: 0.67 took: 8.26s\n",
            "Epoch 6, 80% \t train_loss: 0.68 took: 8.22s\n",
            "Epoch 6, 90% \t train_loss: 0.69 took: 8.23s\n",
            "Validation loss = 0.88\n",
            "Epoch 7, 10% \t train_loss: 0.55 took: 8.34s\n",
            "Epoch 7, 20% \t train_loss: 0.56 took: 8.16s\n",
            "Epoch 7, 30% \t train_loss: 0.56 took: 8.12s\n",
            "Epoch 7, 40% \t train_loss: 0.60 took: 8.23s\n",
            "Epoch 7, 50% \t train_loss: 0.62 took: 8.19s\n",
            "Epoch 7, 60% \t train_loss: 0.59 took: 8.14s\n",
            "Epoch 7, 70% \t train_loss: 0.59 took: 8.17s\n",
            "Epoch 7, 80% \t train_loss: 0.62 took: 8.19s\n",
            "Epoch 7, 90% \t train_loss: 0.63 took: 8.15s\n",
            "Validation loss = 0.86\n",
            "Epoch 8, 10% \t train_loss: 0.49 took: 8.39s\n",
            "Epoch 8, 20% \t train_loss: 0.51 took: 8.20s\n",
            "Epoch 8, 30% \t train_loss: 0.53 took: 8.14s\n",
            "Epoch 8, 40% \t train_loss: 0.50 took: 8.19s\n",
            "Epoch 8, 50% \t train_loss: 0.56 took: 8.16s\n",
            "Epoch 8, 60% \t train_loss: 0.54 took: 8.21s\n",
            "Epoch 8, 70% \t train_loss: 0.55 took: 8.18s\n",
            "Epoch 8, 80% \t train_loss: 0.57 took: 8.16s\n",
            "Epoch 8, 90% \t train_loss: 0.57 took: 8.14s\n",
            "Validation loss = 0.90\n",
            "Epoch 9, 10% \t train_loss: 0.43 took: 8.25s\n",
            "Epoch 9, 20% \t train_loss: 0.46 took: 8.09s\n",
            "Epoch 9, 30% \t train_loss: 0.47 took: 8.12s\n",
            "Epoch 9, 40% \t train_loss: 0.49 took: 8.15s\n",
            "Epoch 9, 50% \t train_loss: 0.49 took: 8.18s\n",
            "Epoch 9, 60% \t train_loss: 0.49 took: 8.10s\n",
            "Epoch 9, 70% \t train_loss: 0.52 took: 8.17s\n",
            "Epoch 9, 80% \t train_loss: 0.50 took: 8.17s\n",
            "Epoch 9, 90% \t train_loss: 0.51 took: 8.13s\n",
            "Validation loss = 0.97\n",
            "Epoch 10, 10% \t train_loss: 0.41 took: 8.33s\n",
            "Epoch 10, 20% \t train_loss: 0.41 took: 8.31s\n",
            "Epoch 10, 30% \t train_loss: 0.41 took: 8.18s\n",
            "Epoch 10, 40% \t train_loss: 0.43 took: 8.13s\n",
            "Epoch 10, 50% \t train_loss: 0.44 took: 8.16s\n",
            "Epoch 10, 60% \t train_loss: 0.48 took: 8.16s\n",
            "Epoch 10, 70% \t train_loss: 0.43 took: 8.14s\n",
            "Epoch 10, 80% \t train_loss: 0.51 took: 8.17s\n",
            "Epoch 10, 90% \t train_loss: 0.48 took: 8.15s\n",
            "Validation loss = 0.99\n",
            "Training Finished, took 892.19s\n"
          ],
          "name": "stdout"
        }
      ]
    },
    {
      "cell_type": "code",
      "metadata": {
        "id": "-0OsyGB2i4Fl",
        "outputId": "488df1e1-8bab-4e11-ab4b-2fe62f42dcef",
        "colab": {
          "base_uri": "https://localhost:8080/",
          "height": 456
        }
      },
      "source": [
        "compute_accuracy(net_V2)\n",
        "plot_losses(train_history, val_history)"
      ],
      "execution_count": null,
      "outputs": [
        {
          "output_type": "stream",
          "text": [
            "Accuracy of the network on the 40000 train images: 78.30 %\n",
            "Accuracy of the network on the 10000 validation images: 71.27 %\n",
            "Accuracy of the network on the 10000 test images: 67.26 %\n"
          ],
          "name": "stdout"
        },
        {
          "output_type": "display_data",
          "data": {
            "image/png": "[encoded data removed]",
            "text/plain": [
              "<Figure size 576x432 with 1 Axes>"
            ]
          },
          "metadata": {
            "tags": []
          }
        }
      ]
    },
    {
      "cell_type": "markdown",
      "metadata": {
        "id": "IjPoB4sWwl14"
      },
      "source": [
        "It is clear that the total runtime has increased because we added more layers and more parameters to learn (more precisely the \"mean\" parameter and the \"standard diviation\" parameter used for normalization). <br> \n",
        "Also, we can that gap between the training loss and the testing loss decreased. We reduced a bit the overfitting probelem. <br> \n",
        "But the total accuracy did not get improved. <br> \n",
        "==> We demonstrate the importance of Batch Normalization in terms of reducing the overfitting.  "
      ]
    },
    {
      "cell_type": "code",
      "metadata": {
        "id": "SBBCXuOYi4Q1",
        "outputId": "603253b9-257b-4539-ca02-c9dfe931779d",
        "colab": {
          "base_uri": "https://localhost:8080/",
          "height": 208
        }
      },
      "source": [
        "confusion_matrix = accuracy_per_class(net_V2)"
      ],
      "execution_count": null,
      "outputs": [
        {
          "output_type": "stream",
          "text": [
            "Class      Accuracy (%)\n",
            "plane        73.60   \n",
            "car          86.80   \n",
            "bird         48.80   \n",
            "cat          44.00   \n",
            "deer         65.90   \n",
            "dog          56.90   \n",
            "frog         65.20   \n",
            "horse        80.00   \n",
            "ship         81.60   \n",
            "truck        69.80   \n"
          ],
          "name": "stdout"
        }
      ]
    },
    {
      "cell_type": "markdown",
      "metadata": {
        "id": "JERcErdb0xzD"
      },
      "source": [
        "<h3> 3-Impact of the drop-out layers: <h3>"
      ]
    },
    {
      "cell_type": "markdown",
      "metadata": {
        "id": "sF4wWZs11Coh"
      },
      "source": [
        "The dropout refers to deactivate some neurons chosen randomly in the network during training (while forward and backward propagating information through the network). <br> \n",
        "This method is used as a regularization technique to reduce the impact of overfitting by minimizing the interdependence between neurons. The model becomes more robust by looking only for relevent features. <br> \n",
        "The dropout layer is usually added between dense layers, but here we use too between convolutions layers because we have relatively small feature maps.<br> \n",
        "  "
      ]
    },
    {
      "cell_type": "code",
      "metadata": {
        "id": "TBD0TSUu1DhG"
      },
      "source": [
        "# Importance of dropout\n",
        "class MyConvolutionalNetwork_V3(nn.Module):\n",
        "    def __init__(self):\n",
        "        super(MyConvolutionalNetwork_V3, self).__init__()\n",
        "        \n",
        "        self.conv1 = nn.Conv2d(3, 18, kernel_size=3, stride=1, padding=1)\n",
        "        self.bn1 = nn.BatchNorm2d(18)\n",
        "        self.conv2 = nn.Conv2d(18, 36, kernel_size=3, stride=1, padding=1)\n",
        "        self.bn2 = nn.BatchNorm2d(36)\n",
        "        self.conv3 = nn.Conv2d(36, 18, kernel_size=3, stride=1, padding=1)\n",
        "        self.bn3 = nn.BatchNorm2d(18)\n",
        "        self.pool = nn.MaxPool2d(kernel_size=2, stride=2, padding=0)\n",
        "        \n",
        "        \n",
        "        self.fc1 = nn.Linear(18 * 16 * 16, 64) \n",
        "        self.fc2 = nn.Linear(64, 10)\n",
        "        # Dropout layers (10%)\n",
        "        self.dropout = nn.Dropout(0.1)\n",
        "\n",
        "    def forward(self, x):\n",
        "        \"\"\"\n",
        "        Forward pass,\n",
        "        x shape is (batch_size, 3, 32, 32)\n",
        "        (color channel first)\n",
        "        \"\"\"\n",
        "        # shape : 3x32x32 -> 18x32x32\n",
        "        x = F.relu(self.bn1(self.conv1(x)))\n",
        "        # 18x32x32 -> 18x16x16\n",
        "        x = self.pool(x)\n",
        "        x = F.relu(self.bn2(self.conv2(x)))\n",
        "        x = F.relu(self.bn3(self.conv3(x)))\n",
        "        x= self.dropout(x)\n",
        "        # 18x16x16 -> 4608\n",
        "        x = x.view(-1, 18 * 16 * 16)\n",
        "        # 4608 -> 64\n",
        "        x = F.relu(self.fc1(x))\n",
        "        x= self.dropout(x)\n",
        "        # 64 -> 10\n",
        "        x = self.fc2(x)\n",
        "        return x"
      ],
      "execution_count": null,
      "outputs": []
    },
    {
      "cell_type": "code",
      "metadata": {
        "id": "equD9I9K1LdL",
        "outputId": "121ab71d-dbd3-4ab0-99b0-b5e6380f99eb",
        "colab": {
          "base_uri": "https://localhost:8080/",
          "height": 1000
        }
      },
      "source": [
        "net_V3 = MyConvolutionalNetwork_V3()\n",
        "train_history, val_history = train(net_V3, batch_size=32, n_epochs=10, learning_rate=0.001)"
      ],
      "execution_count": null,
      "outputs": [
        {
          "output_type": "stream",
          "text": [
            "===== HYPERPARAMETERS =====\n",
            "batch_size= 32\n",
            "n_epochs= 10\n",
            "learning_rate= 0.001\n",
            "==============================\n",
            "Epoch 1, 10% \t train_loss: 1.82 took: 8.23s\n",
            "Epoch 1, 20% \t train_loss: 1.52 took: 7.91s\n",
            "Epoch 1, 30% \t train_loss: 1.42 took: 7.91s\n",
            "Epoch 1, 40% \t train_loss: 1.37 took: 7.92s\n",
            "Epoch 1, 50% \t train_loss: 1.35 took: 8.02s\n",
            "Epoch 1, 60% \t train_loss: 1.27 took: 8.20s\n",
            "Epoch 1, 70% \t train_loss: 1.28 took: 8.44s\n",
            "Epoch 1, 80% \t train_loss: 1.26 took: 8.24s\n",
            "Epoch 1, 90% \t train_loss: 1.23 took: 8.20s\n",
            "Validation loss = 1.15\n",
            "Epoch 2, 10% \t train_loss: 1.11 took: 8.44s\n",
            "Epoch 2, 20% \t train_loss: 1.16 took: 8.30s\n",
            "Epoch 2, 30% \t train_loss: 1.07 took: 8.31s\n",
            "Epoch 2, 40% \t train_loss: 1.10 took: 8.27s\n",
            "Epoch 2, 50% \t train_loss: 1.11 took: 8.35s\n",
            "Epoch 2, 60% \t train_loss: 1.09 took: 8.34s\n",
            "Epoch 2, 70% \t train_loss: 1.09 took: 8.38s\n",
            "Epoch 2, 80% \t train_loss: 1.07 took: 8.43s\n",
            "Epoch 2, 90% \t train_loss: 1.06 took: 8.54s\n",
            "Validation loss = 1.02\n",
            "Epoch 3, 10% \t train_loss: 0.99 took: 8.59s\n",
            "Epoch 3, 20% \t train_loss: 1.00 took: 8.42s\n",
            "Epoch 3, 30% \t train_loss: 0.96 took: 8.43s\n",
            "Epoch 3, 40% \t train_loss: 0.94 took: 8.44s\n",
            "Epoch 3, 50% \t train_loss: 1.00 took: 8.53s\n",
            "Epoch 3, 60% \t train_loss: 0.96 took: 8.44s\n",
            "Epoch 3, 70% \t train_loss: 0.95 took: 8.46s\n",
            "Epoch 3, 80% \t train_loss: 0.97 took: 8.37s\n",
            "Epoch 3, 90% \t train_loss: 0.95 took: 8.38s\n",
            "Validation loss = 0.99\n",
            "Epoch 4, 10% \t train_loss: 0.87 took: 8.55s\n",
            "Epoch 4, 20% \t train_loss: 0.87 took: 8.33s\n",
            "Epoch 4, 30% \t train_loss: 0.93 took: 8.34s\n",
            "Epoch 4, 40% \t train_loss: 0.89 took: 8.36s\n",
            "Epoch 4, 50% \t train_loss: 0.87 took: 8.27s\n",
            "Epoch 4, 60% \t train_loss: 0.88 took: 8.25s\n",
            "Epoch 4, 70% \t train_loss: 0.89 took: 8.26s\n",
            "Epoch 4, 80% \t train_loss: 0.90 took: 8.39s\n",
            "Epoch 4, 90% \t train_loss: 0.88 took: 8.36s\n",
            "Validation loss = 0.97\n",
            "Epoch 5, 10% \t train_loss: 0.80 took: 8.46s\n",
            "Epoch 5, 20% \t train_loss: 0.80 took: 8.30s\n",
            "Epoch 5, 30% \t train_loss: 0.79 took: 8.29s\n",
            "Epoch 5, 40% \t train_loss: 0.82 took: 8.30s\n",
            "Epoch 5, 50% \t train_loss: 0.82 took: 8.32s\n",
            "Epoch 5, 60% \t train_loss: 0.83 took: 8.31s\n",
            "Epoch 5, 70% \t train_loss: 0.82 took: 8.37s\n",
            "Epoch 5, 80% \t train_loss: 0.83 took: 8.36s\n",
            "Epoch 5, 90% \t train_loss: 0.84 took: 8.27s\n",
            "Validation loss = 0.94\n",
            "Epoch 6, 10% \t train_loss: 0.74 took: 8.49s\n",
            "Epoch 6, 20% \t train_loss: 0.75 took: 8.32s\n",
            "Epoch 6, 30% \t train_loss: 0.74 took: 8.34s\n",
            "Epoch 6, 40% \t train_loss: 0.75 took: 8.36s\n",
            "Epoch 6, 50% \t train_loss: 0.77 took: 8.29s\n",
            "Epoch 6, 60% \t train_loss: 0.75 took: 8.36s\n",
            "Epoch 6, 70% \t train_loss: 0.78 took: 8.38s\n",
            "Epoch 6, 80% \t train_loss: 0.77 took: 8.33s\n",
            "Epoch 6, 90% \t train_loss: 0.77 took: 8.42s\n",
            "Validation loss = 0.95\n",
            "Epoch 7, 10% \t train_loss: 0.67 took: 8.44s\n",
            "Epoch 7, 20% \t train_loss: 0.68 took: 8.25s\n",
            "Epoch 7, 30% \t train_loss: 0.69 took: 8.41s\n",
            "Epoch 7, 40% \t train_loss: 0.73 took: 8.48s\n",
            "Epoch 7, 50% \t train_loss: 0.75 took: 11.62s\n",
            "Epoch 7, 60% \t train_loss: 0.71 took: 8.26s\n",
            "Epoch 7, 70% \t train_loss: 0.73 took: 8.35s\n",
            "Epoch 7, 80% \t train_loss: 0.72 took: 8.37s\n",
            "Epoch 7, 90% \t train_loss: 0.75 took: 8.33s\n",
            "Validation loss = 0.95\n",
            "Epoch 8, 10% \t train_loss: 0.63 took: 8.43s\n",
            "Epoch 8, 20% \t train_loss: 0.65 took: 8.22s\n",
            "Epoch 8, 30% \t train_loss: 0.66 took: 8.26s\n",
            "Epoch 8, 40% \t train_loss: 0.68 took: 8.30s\n",
            "Epoch 8, 50% \t train_loss: 0.69 took: 8.32s\n",
            "Epoch 8, 60% \t train_loss: 0.67 took: 8.31s\n",
            "Epoch 8, 70% \t train_loss: 0.73 took: 8.36s\n",
            "Epoch 8, 80% \t train_loss: 0.67 took: 8.29s\n",
            "Epoch 8, 90% \t train_loss: 0.68 took: 8.35s\n",
            "Validation loss = 0.95\n",
            "Epoch 9, 10% \t train_loss: 0.61 took: 8.56s\n",
            "Epoch 9, 20% \t train_loss: 0.60 took: 8.38s\n",
            "Epoch 9, 30% \t train_loss: 0.61 took: 8.33s\n",
            "Epoch 9, 40% \t train_loss: 0.62 took: 8.31s\n",
            "Epoch 9, 50% \t train_loss: 0.63 took: 8.32s\n",
            "Epoch 9, 60% \t train_loss: 0.66 took: 8.28s\n",
            "Epoch 9, 70% \t train_loss: 0.65 took: 8.29s\n",
            "Epoch 9, 80% \t train_loss: 0.64 took: 8.32s\n",
            "Epoch 9, 90% \t train_loss: 0.65 took: 8.29s\n",
            "Validation loss = 0.94\n",
            "Epoch 10, 10% \t train_loss: 0.59 took: 8.50s\n",
            "Epoch 10, 20% \t train_loss: 0.58 took: 8.51s\n",
            "Epoch 10, 30% \t train_loss: 0.56 took: 8.36s\n",
            "Epoch 10, 40% \t train_loss: 0.58 took: 8.40s\n",
            "Epoch 10, 50% \t train_loss: 0.62 took: 8.36s\n",
            "Epoch 10, 60% \t train_loss: 0.60 took: 8.36s\n",
            "Epoch 10, 70% \t train_loss: 0.60 took: 8.39s\n",
            "Epoch 10, 80% \t train_loss: 0.63 took: 8.44s\n",
            "Epoch 10, 90% \t train_loss: 0.58 took: 8.37s\n",
            "Validation loss = 0.97\n",
            "Training Finished, took 913.09s\n"
          ],
          "name": "stdout"
        }
      ]
    },
    {
      "cell_type": "code",
      "metadata": {
        "id": "wTA_D8yy1NH_",
        "outputId": "e8c40a36-5684-4a11-e68c-aa2b4823cd74",
        "colab": {
          "base_uri": "https://localhost:8080/",
          "height": 456
        }
      },
      "source": [
        "compute_accuracy(net_V3)\n",
        "plot_losses(train_history, val_history)"
      ],
      "execution_count": null,
      "outputs": [
        {
          "output_type": "stream",
          "text": [
            "Accuracy of the network on the 40000 train images: 69.28 %\n",
            "Accuracy of the network on the 10000 validation images: 67.30 %\n",
            "Accuracy of the network on the 10000 test images: 62.89 %\n"
          ],
          "name": "stdout"
        },
        {
          "output_type": "display_data",
          "data": {
            "image/png": "[encoded data removed]",
            "text/plain": [
              "<Figure size 576x432 with 1 Axes>"
            ]
          },
          "metadata": {
            "tags": []
          }
        }
      ]
    },
    {
      "cell_type": "markdown",
      "metadata": {
        "id": "i9gHBu0GN9jt"
      },
      "source": [
        "As prediced, the gap between the training loss and valid loss got minimized. But, the performance of the model decreased, this is due to the fact that it is important to choose the right place to apply dropout, because sometimes, we need  all neurons in th layer to dicide especially when working with a small network and a small input image as in our case. <br> \n",
        "We can vary the value of percentage of deactivated neurons and study its influence on the total accuracy value.  "
      ]
    },
    {
      "cell_type": "markdown",
      "metadata": {
        "id": "Zij2V1ZY5H20"
      },
      "source": [
        "<h3> 4- Combining all methods used above: <h3>"
      ]
    },
    {
      "cell_type": "markdown",
      "metadata": {
        "id": "mQOHN8FN5QSu"
      },
      "source": [
        "Now, we combine all the improvement that we have added so far on a new network architecture. Also, we add new dense layers and we inscrease the number of output channels in the comvoltion layers. <br> \n",
        "==> The model becomes deeper (more learnable parameters) : so it needs more time to learn (and also more data). <br> \n",
        "This the architecture that we choose:\n",
        "*  4 convolution layers with batch normalization\n",
        "*  2 maxpooling layers (to more concentate the data and reduce the complexity of the model)\n",
        "*  5 dropout layers (10% of deactivated neurons)  \n",
        "*  3 dense layers  <br> \n",
        "==> let's train our model   "
      ]
    },
    {
      "cell_type": "code",
      "metadata": {
        "id": "69y-ehtCi5DG"
      },
      "source": [
        "class MyConvolutionalNetwork_V4(nn.Module):\n",
        "    def __init__(self):\n",
        "        super(MyConvolutionalNetwork_V4, self).__init__()\n",
        "        \n",
        "        self.conv1 = nn.Conv2d(3, 32, kernel_size=3, stride=1, padding=1)\n",
        "        self.bn1 = nn.BatchNorm2d(32)\n",
        "        self.conv2 = nn.Conv2d(32, 32, kernel_size=3, stride=1, padding=1)\n",
        "        self.bn2 = nn.BatchNorm2d(32)\n",
        "        self.conv3 = nn.Conv2d(32, 64, kernel_size=3, stride=1, padding=1)\n",
        "        self.bn3 = nn.BatchNorm2d(64)\n",
        "        self.conv4 = nn.Conv2d(64, 64, kernel_size=3, stride=1, padding=1)\n",
        "        self.bn4 = nn.BatchNorm2d(64)\n",
        "        self.pool = nn.MaxPool2d(kernel_size=2, stride=2, padding=0)\n",
        "        self.dropout = nn.Dropout(0.1)\n",
        "        # on the shape (how we pass from a 3x32x32 input image to a 18x16x16 volume)\n",
        "        self.fc1 = nn.Linear(8 * 8 * 64, 128 ) \n",
        "        self.bn_fc1 = nn.BatchNorm2d(128 )\n",
        "        self.fc1_1 = nn.Linear(128, 64 ) \n",
        "        self.bn_fc1_1 = nn.BatchNorm2d(64 )\n",
        "        self.fc2 = nn.Linear(64, 10)\n",
        "\n",
        "    def forward(self, x):\n",
        "        \"\"\"\n",
        "        Forward pass,\n",
        "        x shape is (batch_size, 3, 32, 32)\n",
        "        (color channel first)\n",
        "        \"\"\"\n",
        "        # shape : 3x32x32 -> 18x32x32\n",
        "        x = F.relu(self.bn1(self.conv1(x)))\n",
        "        #x = self.pool(x)\n",
        "        x = F.relu(self.bn2(self.conv2(x)))\n",
        "        x = self.pool(x)\n",
        "        x= self.dropout(x)\n",
        "\n",
        "        x = F.relu(self.bn3(self.conv3(x)))\n",
        "        x= self.dropout(x)\n",
        "\n",
        "        x = F.relu(self.bn4(self.conv4(x)))\n",
        "        x = self.pool(x)\n",
        "        x= self.dropout(x)\n",
        "        x = x.view(-1, 8 * 8 * 64)\n",
        "\n",
        "        x = F.relu(self.fc1(x))\n",
        "        #x= self.bn_fc1(x)\n",
        "        x= self.dropout(x)\n",
        "\n",
        "        x = F.relu(self.fc1_1(x))\n",
        "        #x= self.bn_fc1_1(x)\n",
        "        x= self.dropout(x)\n",
        "\n",
        "        # 128 -> 10\n",
        "        x = self.fc2(x)\n",
        "        return x"
      ],
      "execution_count": null,
      "outputs": []
    },
    {
      "cell_type": "code",
      "metadata": {
        "id": "nq0Zh50bIWgz",
        "outputId": "26091496-dcfa-496c-880a-c49c6f45fc29",
        "colab": {
          "base_uri": "https://localhost:8080/",
          "height": 1000
        }
      },
      "source": [
        "net_V4 = MyConvolutionalNetwork_V4()\n",
        "train_history, val_history = train(net_V4, batch_size=32, n_epochs=10, learning_rate=0.001)"
      ],
      "execution_count": null,
      "outputs": [
        {
          "output_type": "stream",
          "text": [
            "===== HYPERPARAMETERS =====\n",
            "batch_size= 32\n",
            "n_epochs= 10\n",
            "learning_rate= 0.001\n",
            "==============================\n",
            "Epoch 1, 10% \t train_loss: 1.93 took: 22.32s\n",
            "Epoch 1, 20% \t train_loss: 1.58 took: 21.97s\n",
            "Epoch 1, 30% \t train_loss: 1.48 took: 21.96s\n",
            "Epoch 1, 40% \t train_loss: 1.39 took: 22.00s\n",
            "Epoch 1, 50% \t train_loss: 1.33 took: 21.94s\n",
            "Epoch 1, 60% \t train_loss: 1.27 took: 22.63s\n",
            "Epoch 1, 70% \t train_loss: 1.23 took: 23.21s\n",
            "Epoch 1, 80% \t train_loss: 1.21 took: 22.81s\n",
            "Epoch 1, 90% \t train_loss: 1.15 took: 22.78s\n",
            "Validation loss = 1.11\n",
            "Epoch 2, 10% \t train_loss: 1.09 took: 23.07s\n",
            "Epoch 2, 20% \t train_loss: 1.04 took: 22.80s\n",
            "Epoch 2, 30% \t train_loss: 1.04 took: 22.86s\n",
            "Epoch 2, 40% \t train_loss: 1.03 took: 22.91s\n",
            "Epoch 2, 50% \t train_loss: 1.02 took: 22.70s\n",
            "Epoch 2, 60% \t train_loss: 0.98 took: 22.84s\n",
            "Epoch 2, 70% \t train_loss: 0.97 took: 22.97s\n",
            "Epoch 2, 80% \t train_loss: 0.96 took: 22.94s\n",
            "Epoch 2, 90% \t train_loss: 0.95 took: 23.01s\n",
            "Validation loss = 0.93\n",
            "Epoch 3, 10% \t train_loss: 0.87 took: 23.49s\n",
            "Epoch 3, 20% \t train_loss: 0.86 took: 23.15s\n",
            "Epoch 3, 30% \t train_loss: 0.88 took: 23.25s\n",
            "Epoch 3, 40% \t train_loss: 0.83 took: 23.08s\n",
            "Epoch 3, 50% \t train_loss: 0.90 took: 23.18s\n",
            "Epoch 3, 60% \t train_loss: 0.86 took: 23.08s\n",
            "Epoch 3, 70% \t train_loss: 0.85 took: 23.01s\n",
            "Epoch 3, 80% \t train_loss: 0.84 took: 23.04s\n",
            "Epoch 3, 90% \t train_loss: 0.85 took: 23.03s\n",
            "Validation loss = 0.86\n",
            "Epoch 4, 10% \t train_loss: 0.78 took: 23.26s\n",
            "Epoch 4, 20% \t train_loss: 0.78 took: 22.97s\n",
            "Epoch 4, 30% \t train_loss: 0.79 took: 22.96s\n",
            "Epoch 4, 40% \t train_loss: 0.77 took: 22.96s\n",
            "Epoch 4, 50% \t train_loss: 0.77 took: 22.96s\n",
            "Epoch 4, 60% \t train_loss: 0.80 took: 23.20s\n",
            "Epoch 4, 70% \t train_loss: 0.78 took: 23.17s\n",
            "Epoch 4, 80% \t train_loss: 0.77 took: 22.97s\n",
            "Epoch 4, 90% \t train_loss: 0.77 took: 22.87s\n",
            "Validation loss = 0.79\n",
            "Epoch 5, 10% \t train_loss: 0.75 took: 22.88s\n",
            "Epoch 5, 20% \t train_loss: 0.72 took: 22.73s\n",
            "Epoch 5, 30% \t train_loss: 0.73 took: 22.73s\n",
            "Epoch 5, 40% \t train_loss: 0.71 took: 22.99s\n",
            "Epoch 5, 50% \t train_loss: 0.71 took: 22.92s\n",
            "Epoch 5, 60% \t train_loss: 0.69 took: 23.13s\n",
            "Epoch 5, 70% \t train_loss: 0.72 took: 23.14s\n",
            "Epoch 5, 80% \t train_loss: 0.71 took: 23.38s\n",
            "Epoch 5, 90% \t train_loss: 0.72 took: 23.26s\n",
            "Validation loss = 0.76\n",
            "Epoch 6, 10% \t train_loss: 0.66 took: 23.24s\n",
            "Epoch 6, 20% \t train_loss: 0.67 took: 23.00s\n",
            "Epoch 6, 30% \t train_loss: 0.62 took: 22.91s\n",
            "Epoch 6, 40% \t train_loss: 0.67 took: 23.04s\n",
            "Epoch 6, 50% \t train_loss: 0.65 took: 22.93s\n",
            "Epoch 6, 60% \t train_loss: 0.65 took: 23.06s\n",
            "Epoch 6, 70% \t train_loss: 0.68 took: 22.94s\n",
            "Epoch 6, 80% \t train_loss: 0.68 took: 23.02s\n",
            "Epoch 6, 90% \t train_loss: 0.68 took: 22.97s\n",
            "Validation loss = 0.75\n",
            "Epoch 7, 10% \t train_loss: 0.60 took: 23.09s\n",
            "Epoch 7, 20% \t train_loss: 0.60 took: 22.85s\n",
            "Epoch 7, 30% \t train_loss: 0.61 took: 22.72s\n",
            "Epoch 7, 40% \t train_loss: 0.63 took: 22.84s\n",
            "Epoch 7, 50% \t train_loss: 0.63 took: 22.94s\n",
            "Epoch 7, 60% \t train_loss: 0.62 took: 22.90s\n",
            "Epoch 7, 70% \t train_loss: 0.58 took: 23.17s\n",
            "Epoch 7, 80% \t train_loss: 0.64 took: 23.10s\n",
            "Epoch 7, 90% \t train_loss: 0.61 took: 23.17s\n",
            "Validation loss = 0.74\n",
            "Epoch 8, 10% \t train_loss: 0.60 took: 23.46s\n",
            "Epoch 8, 20% \t train_loss: 0.57 took: 23.19s\n",
            "Epoch 8, 30% \t train_loss: 0.57 took: 23.40s\n",
            "Epoch 8, 40% \t train_loss: 0.55 took: 23.22s\n",
            "Epoch 8, 50% \t train_loss: 0.58 took: 23.18s\n",
            "Epoch 8, 60% \t train_loss: 0.58 took: 23.08s\n",
            "Epoch 8, 70% \t train_loss: 0.55 took: 23.16s\n",
            "Epoch 8, 80% \t train_loss: 0.59 took: 23.05s\n",
            "Epoch 8, 90% \t train_loss: 0.59 took: 23.07s\n",
            "Validation loss = 0.73\n",
            "Epoch 9, 10% \t train_loss: 0.53 took: 23.56s\n",
            "Epoch 9, 20% \t train_loss: 0.51 took: 23.32s\n",
            "Epoch 9, 30% \t train_loss: 0.54 took: 23.38s\n",
            "Epoch 9, 40% \t train_loss: 0.55 took: 23.34s\n",
            "Epoch 9, 50% \t train_loss: 0.54 took: 23.51s\n",
            "Epoch 9, 60% \t train_loss: 0.53 took: 23.28s\n",
            "Epoch 9, 70% \t train_loss: 0.55 took: 23.19s\n",
            "Epoch 9, 80% \t train_loss: 0.57 took: 23.24s\n",
            "Epoch 9, 90% \t train_loss: 0.55 took: 23.21s\n",
            "Validation loss = 0.73\n",
            "Epoch 10, 10% \t train_loss: 0.50 took: 23.50s\n",
            "Epoch 10, 20% \t train_loss: 0.49 took: 23.51s\n",
            "Epoch 10, 30% \t train_loss: 0.51 took: 23.46s\n",
            "Epoch 10, 40% \t train_loss: 0.51 took: 23.32s\n",
            "Epoch 10, 50% \t train_loss: 0.53 took: 23.34s\n",
            "Epoch 10, 60% \t train_loss: 0.50 took: 23.41s\n",
            "Epoch 10, 70% \t train_loss: 0.52 took: 23.36s\n",
            "Epoch 10, 80% \t train_loss: 0.54 took: 23.63s\n",
            "Epoch 10, 90% \t train_loss: 0.52 took: 23.48s\n",
            "Validation loss = 0.71\n",
            "Training Finished, took 2502.26s\n"
          ],
          "name": "stdout"
        }
      ]
    },
    {
      "cell_type": "code",
      "metadata": {
        "id": "NotuHOpzIW1B",
        "outputId": "d30b86f0-b66b-4ade-e5f4-eda8a41f26ab",
        "colab": {
          "base_uri": "https://localhost:8080/",
          "height": 456
        }
      },
      "source": [
        "compute_accuracy(net_V4)\n",
        "plot_losses(train_history, val_history)"
      ],
      "execution_count": null,
      "outputs": [
        {
          "output_type": "stream",
          "text": [
            "Accuracy of the network on the 40000 train images: 79.68 %\n",
            "Accuracy of the network on the 10000 validation images: 77.09 %\n",
            "Accuracy of the network on the 10000 test images: 72.07 %\n"
          ],
          "name": "stdout"
        },
        {
          "output_type": "display_data",
          "data": {
            "image/png": "[encoded data removed]",
            "text/plain": [
              "<Figure size 576x432 with 1 Axes>"
            ]
          },
          "metadata": {
            "tags": []
          }
        }
      ]
    },
    {
      "cell_type": "markdown",
      "metadata": {
        "id": "z_Krd8k67oCm"
      },
      "source": [
        "If we look that loss curves above, we can see that we have reduced dramatically the overfitting problem. The gap between the train loss and valid loss decreased. <br> \n",
        "After 10 epochs the valid loss did not inscrease, which means that we can still run our training process during more epochs without overfitting the model. <br> \n",
        "Now, if we have a look at the accuracy values,we can see the improvement of training and the test accuracy (~ +9% compared to the first simple model). However, the total training time has inscreased as well.  "
      ]
    },
    {
      "cell_type": "markdown",
      "metadata": {
        "id": "3g4PJXIBJxIN"
      },
      "source": [
        "<h3> 5- Impact of the learning rate: <h3> "
      ]
    },
    {
      "cell_type": "markdown",
      "metadata": {
        "id": "4Q7NQP7l9_KK"
      },
      "source": [
        "\n",
        "The learning rate is one of the most important hyperparameters that impact the learning process. It controls how the network weights are updated during the backpropagation. <br> \n",
        "Choosing the right value of the learning rate is very challenging: choosing a small value make the training process slower (and sometimes we could be stuck in a local minimum), and choosing a big value may cause an unstable learning process. <br> \n",
        "How to find the optimal value of the learning rate ?<br> \n",
        "we can choose a value that is independent of the training loss value and the epoch (value fixed between 0 and 1 from the beginning of the learning process) and also we can use an adaptive learning rate. It can depend on epochs (after n epochs we divide the initial learning rate by 10 for example), or it can depend on the training loss (if the training loss does not get improved over epochs we change the value of the learning rate).    "
      ]
    },
    {
      "cell_type": "markdown",
      "metadata": {
        "id": "ViEwHhfrFcSI"
      },
      "source": [
        "We have already used the value of 10e-3 (the training just above).<br> \n",
        "Now, we are going to multiply this value by 10 and by $10^{-1}$, and then observe its impact on the total accuracy. <br> \n",
        "\n",
        "First lr = $10^{-2}$ , and this value is not going to be changed over epochs."
      ]
    },
    {
      "cell_type": "code",
      "metadata": {
        "id": "CK5eQ56vIXGb",
        "outputId": "1411b881-c9c9-4ae3-d414-adc4f6769961",
        "colab": {
          "base_uri": "https://localhost:8080/",
          "height": 1000
        }
      },
      "source": [
        "# hyperparameter optimization \n",
        "#learning rate \n",
        "#Fist value 10-e2 \n",
        "net_V4_2 = MyConvolutionalNetwork_V4()\n",
        "train_history, val_history = train(net_V4_2, batch_size=32, n_epochs=10, learning_rate=0.01)"
      ],
      "execution_count": null,
      "outputs": [
        {
          "output_type": "stream",
          "text": [
            "===== HYPERPARAMETERS =====\n",
            "batch_size= 32\n",
            "n_epochs= 10\n",
            "learning_rate= 0.01\n",
            "==============================\n",
            "Epoch 1, 10% \t train_loss: 2.39 took: 22.39s\n",
            "Epoch 1, 20% \t train_loss: 2.02 took: 22.14s\n",
            "Epoch 1, 30% \t train_loss: 1.92 took: 22.11s\n",
            "Epoch 1, 40% \t train_loss: 1.88 took: 22.04s\n",
            "Epoch 1, 50% \t train_loss: 1.82 took: 22.04s\n",
            "Epoch 1, 60% \t train_loss: 1.78 took: 22.42s\n",
            "Epoch 1, 70% \t train_loss: 1.74 took: 23.34s\n",
            "Epoch 1, 80% \t train_loss: 1.70 took: 22.86s\n",
            "Epoch 1, 90% \t train_loss: 1.67 took: 22.85s\n",
            "Validation loss = 1.55\n",
            "Epoch 2, 10% \t train_loss: 1.57 took: 23.14s\n",
            "Epoch 2, 20% \t train_loss: 1.58 took: 23.01s\n",
            "Epoch 2, 30% \t train_loss: 1.58 took: 23.37s\n",
            "Epoch 2, 40% \t train_loss: 1.52 took: 26.19s\n",
            "Epoch 2, 50% \t train_loss: 1.47 took: 23.10s\n",
            "Epoch 2, 60% \t train_loss: 1.46 took: 23.02s\n",
            "Epoch 2, 70% \t train_loss: 1.47 took: 22.94s\n",
            "Epoch 2, 80% \t train_loss: 1.44 took: 22.96s\n",
            "Epoch 2, 90% \t train_loss: 1.41 took: 22.94s\n",
            "Validation loss = 1.37\n",
            "Epoch 3, 10% \t train_loss: 1.38 took: 23.22s\n",
            "Epoch 3, 20% \t train_loss: 1.40 took: 23.09s\n",
            "Epoch 3, 30% \t train_loss: 1.39 took: 23.14s\n",
            "Epoch 3, 40% \t train_loss: 1.35 took: 23.03s\n",
            "Epoch 3, 50% \t train_loss: 1.36 took: 23.15s\n",
            "Epoch 3, 60% \t train_loss: 1.35 took: 23.12s\n",
            "Epoch 3, 70% \t train_loss: 1.34 took: 23.07s\n",
            "Epoch 3, 80% \t train_loss: 1.33 took: 23.06s\n",
            "Epoch 3, 90% \t train_loss: 1.30 took: 23.14s\n",
            "Validation loss = 1.25\n",
            "Epoch 4, 10% \t train_loss: 1.27 took: 23.21s\n",
            "Epoch 4, 20% \t train_loss: 1.34 took: 23.01s\n",
            "Epoch 4, 30% \t train_loss: 1.31 took: 22.94s\n",
            "Epoch 4, 40% \t train_loss: 1.28 took: 23.07s\n",
            "Epoch 4, 50% \t train_loss: 1.26 took: 23.02s\n",
            "Epoch 4, 60% \t train_loss: 1.30 took: 22.95s\n",
            "Epoch 4, 70% \t train_loss: 1.31 took: 22.99s\n",
            "Epoch 4, 80% \t train_loss: 1.25 took: 23.17s\n",
            "Epoch 4, 90% \t train_loss: 1.24 took: 26.65s\n",
            "Validation loss = 1.25\n",
            "Epoch 5, 10% \t train_loss: 1.21 took: 23.51s\n",
            "Epoch 5, 20% \t train_loss: 1.24 took: 23.26s\n",
            "Epoch 5, 30% \t train_loss: 1.20 took: 23.04s\n",
            "Epoch 5, 40% \t train_loss: 1.23 took: 23.08s\n",
            "Epoch 5, 50% \t train_loss: 1.22 took: 23.05s\n",
            "Epoch 5, 60% \t train_loss: 1.24 took: 23.00s\n",
            "Epoch 5, 70% \t train_loss: 1.23 took: 22.96s\n",
            "Epoch 5, 80% \t train_loss: 1.20 took: 22.94s\n",
            "Epoch 5, 90% \t train_loss: 1.23 took: 23.03s\n",
            "Validation loss = 1.22\n",
            "Epoch 6, 10% \t train_loss: 1.20 took: 23.26s\n",
            "Epoch 6, 20% \t train_loss: 1.16 took: 22.98s\n",
            "Epoch 6, 30% \t train_loss: 1.20 took: 22.98s\n",
            "Epoch 6, 40% \t train_loss: 1.20 took: 22.96s\n",
            "Epoch 6, 50% \t train_loss: 1.22 took: 22.99s\n",
            "Epoch 6, 60% \t train_loss: 1.21 took: 23.09s\n",
            "Epoch 6, 70% \t train_loss: 1.22 took: 23.13s\n",
            "Epoch 6, 80% \t train_loss: 1.18 took: 23.14s\n",
            "Epoch 6, 90% \t train_loss: 1.19 took: 23.10s\n",
            "Validation loss = 1.22\n",
            "Epoch 7, 10% \t train_loss: 1.17 took: 23.32s\n",
            "Epoch 7, 20% \t train_loss: 1.17 took: 23.55s\n",
            "Epoch 7, 30% \t train_loss: 1.21 took: 26.33s\n",
            "Epoch 7, 40% \t train_loss: 1.20 took: 23.16s\n",
            "Epoch 7, 50% \t train_loss: 1.15 took: 23.13s\n",
            "Epoch 7, 60% \t train_loss: 1.16 took: 23.01s\n",
            "Epoch 7, 70% \t train_loss: 1.17 took: 23.21s\n",
            "Epoch 7, 80% \t train_loss: 1.15 took: 23.09s\n",
            "Epoch 7, 90% \t train_loss: 1.16 took: 23.18s\n",
            "Validation loss = 1.22\n",
            "Epoch 8, 10% \t train_loss: 1.11 took: 23.47s\n",
            "Epoch 8, 20% \t train_loss: 1.20 took: 23.26s\n",
            "Epoch 8, 30% \t train_loss: 1.18 took: 23.09s\n",
            "Epoch 8, 40% \t train_loss: 1.14 took: 23.05s\n",
            "Epoch 8, 50% \t train_loss: 1.19 took: 23.20s\n",
            "Epoch 8, 60% \t train_loss: 1.18 took: 23.05s\n",
            "Epoch 8, 70% \t train_loss: 1.17 took: 23.08s\n",
            "Epoch 8, 80% \t train_loss: 1.14 took: 23.21s\n",
            "Epoch 8, 90% \t train_loss: 1.14 took: 23.13s\n",
            "Validation loss = 1.19\n",
            "Epoch 9, 10% \t train_loss: 1.10 took: 23.33s\n",
            "Epoch 9, 20% \t train_loss: 1.08 took: 23.15s\n",
            "Epoch 9, 30% \t train_loss: 1.14 took: 23.06s\n",
            "Epoch 9, 40% \t train_loss: 1.14 took: 23.08s\n",
            "Epoch 9, 50% \t train_loss: 1.13 took: 23.11s\n",
            "Epoch 9, 60% \t train_loss: 1.13 took: 23.30s\n",
            "Epoch 9, 70% \t train_loss: 1.18 took: 26.64s\n",
            "Epoch 9, 80% \t train_loss: 1.15 took: 23.31s\n",
            "Epoch 9, 90% \t train_loss: 1.14 took: 23.16s\n",
            "Validation loss = 1.15\n",
            "Epoch 10, 10% \t train_loss: 1.14 took: 23.47s\n",
            "Epoch 10, 20% \t train_loss: 1.11 took: 23.39s\n",
            "Epoch 10, 30% \t train_loss: 1.16 took: 23.21s\n",
            "Epoch 10, 40% \t train_loss: 1.10 took: 23.18s\n",
            "Epoch 10, 50% \t train_loss: 1.11 took: 23.17s\n",
            "Epoch 10, 60% \t train_loss: 1.10 took: 23.16s\n",
            "Epoch 10, 70% \t train_loss: 1.10 took: 23.17s\n",
            "Epoch 10, 80% \t train_loss: 1.13 took: 23.25s\n",
            "Epoch 10, 90% \t train_loss: 1.13 took: 23.19s\n",
            "Validation loss = 1.13\n",
            "Training Finished, took 2510.49s\n"
          ],
          "name": "stdout"
        }
      ]
    },
    {
      "cell_type": "code",
      "metadata": {
        "id": "8rNt8tUyEkRc",
        "outputId": "ca0816ef-b05b-4b41-8f79-58689f79efa5",
        "colab": {
          "base_uri": "https://localhost:8080/",
          "height": 456
        }
      },
      "source": [
        "compute_accuracy(net_V4_2)\n",
        "plot_losses(train_history, val_history)\n"
      ],
      "execution_count": null,
      "outputs": [
        {
          "output_type": "stream",
          "text": [
            "Accuracy of the network on the 40000 train images: 58.07 %\n",
            "Accuracy of the network on the 10000 validation images: 60.36 %\n",
            "Accuracy of the network on the 10000 test images: 56.03 %\n"
          ],
          "name": "stdout"
        },
        {
          "output_type": "display_data",
          "data": {
            "image/png": "[encoded data removed]",
            "text/plain": [
              "<Figure size 576x432 with 1 Axes>"
            ]
          },
          "metadata": {
            "tags": []
          }
        }
      ]
    },
    {
      "cell_type": "markdown",
      "metadata": {
        "id": "5-nzSQaoGzcm"
      },
      "source": [
        "From the loss curves, we can see that the training loss and valid loss decrease almost simultaneously . That is great because the overfitting problem has not occurred yet. But, if we compare the loss values of this training process and the previous training process we can see that this value of learning learning did not help the model to update accurately and rapidly the weights. That's why we still have a high value of training/valid loss. As a result, we have a very bad total accuracy value (even worse that our first training).<br>  \n",
        "==> Maybe if we give the model more time (inscrease the number of epochs), it will eventually have better performance. "
      ]
    },
    {
      "cell_type": "markdown",
      "metadata": {
        "id": "QHhgmByWJCyk"
      },
      "source": [
        "Now, we fix the value of the learning rate to $10^{-4}$. "
      ]
    },
    {
      "cell_type": "code",
      "metadata": {
        "id": "2itFvpO-Gw5d",
        "outputId": "57d245cd-28a9-49bc-d539-17448031f98b",
        "colab": {
          "base_uri": "https://localhost:8080/",
          "height": 1000
        }
      },
      "source": [
        "net_V4_4 = MyConvolutionalNetwork_V4()\n",
        "train_history, val_history = train(net_V4_4, batch_size=32, n_epochs=10, learning_rate=0.0001)"
      ],
      "execution_count": null,
      "outputs": [
        {
          "output_type": "stream",
          "text": [
            "===== HYPERPARAMETERS =====\n",
            "batch_size= 32\n",
            "n_epochs= 10\n",
            "learning_rate= 0.0001\n",
            "==============================\n",
            "Epoch 1, 10% \t train_loss: 2.12 took: 22.40s\n",
            "Epoch 1, 20% \t train_loss: 1.80 took: 22.15s\n",
            "Epoch 1, 30% \t train_loss: 1.67 took: 22.28s\n",
            "Epoch 1, 40% \t train_loss: 1.60 took: 22.18s\n",
            "Epoch 1, 50% \t train_loss: 1.52 took: 22.19s\n",
            "Epoch 1, 60% \t train_loss: 1.48 took: 22.53s\n",
            "Epoch 1, 70% \t train_loss: 1.42 took: 22.55s\n",
            "Epoch 1, 80% \t train_loss: 1.40 took: 22.61s\n",
            "Epoch 1, 90% \t train_loss: 1.35 took: 22.69s\n",
            "Validation loss = 1.28\n",
            "Epoch 2, 10% \t train_loss: 1.29 took: 22.95s\n",
            "Epoch 2, 20% \t train_loss: 1.22 took: 22.59s\n",
            "Epoch 2, 30% \t train_loss: 1.21 took: 22.56s\n",
            "Epoch 2, 40% \t train_loss: 1.18 took: 22.67s\n",
            "Epoch 2, 50% \t train_loss: 1.18 took: 22.68s\n",
            "Epoch 2, 60% \t train_loss: 1.13 took: 22.65s\n",
            "Epoch 2, 70% \t train_loss: 1.15 took: 22.66s\n",
            "Epoch 2, 80% \t train_loss: 1.11 took: 22.67s\n",
            "Epoch 2, 90% \t train_loss: 1.11 took: 22.88s\n",
            "Validation loss = 1.07\n",
            "Epoch 3, 10% \t train_loss: 1.04 took: 23.12s\n",
            "Epoch 3, 20% \t train_loss: 1.00 took: 22.88s\n",
            "Epoch 3, 30% \t train_loss: 1.06 took: 22.77s\n",
            "Epoch 3, 40% \t train_loss: 1.00 took: 22.87s\n",
            "Epoch 3, 50% \t train_loss: 1.00 took: 22.93s\n",
            "Epoch 3, 60% \t train_loss: 0.99 took: 22.82s\n",
            "Epoch 3, 70% \t train_loss: 1.00 took: 22.85s\n",
            "Epoch 3, 80% \t train_loss: 1.00 took: 22.84s\n",
            "Epoch 3, 90% \t train_loss: 1.00 took: 22.77s\n",
            "Validation loss = 0.96\n",
            "Epoch 4, 10% \t train_loss: 0.93 took: 23.19s\n",
            "Epoch 4, 20% \t train_loss: 0.94 took: 22.91s\n",
            "Epoch 4, 30% \t train_loss: 0.90 took: 22.96s\n",
            "Epoch 4, 40% \t train_loss: 0.91 took: 22.94s\n",
            "Epoch 4, 50% \t train_loss: 0.91 took: 22.82s\n",
            "Epoch 4, 60% \t train_loss: 0.91 took: 22.73s\n",
            "Epoch 4, 70% \t train_loss: 0.87 took: 22.76s\n",
            "Epoch 4, 80% \t train_loss: 0.94 took: 22.68s\n",
            "Epoch 4, 90% \t train_loss: 0.88 took: 22.73s\n",
            "Validation loss = 0.90\n",
            "Epoch 5, 10% \t train_loss: 0.87 took: 23.05s\n",
            "Epoch 5, 20% \t train_loss: 0.84 took: 22.76s\n",
            "Epoch 5, 30% \t train_loss: 0.85 took: 22.85s\n",
            "Epoch 5, 40% \t train_loss: 0.85 took: 22.78s\n",
            "Epoch 5, 50% \t train_loss: 0.85 took: 22.80s\n",
            "Epoch 5, 60% \t train_loss: 0.84 took: 22.88s\n",
            "Epoch 5, 70% \t train_loss: 0.82 took: 22.73s\n",
            "Epoch 5, 80% \t train_loss: 0.85 took: 22.84s\n",
            "Epoch 5, 90% \t train_loss: 0.87 took: 22.85s\n",
            "Validation loss = 0.88\n",
            "Epoch 6, 10% \t train_loss: 0.80 took: 22.94s\n",
            "Epoch 6, 20% \t train_loss: 0.77 took: 22.74s\n",
            "Epoch 6, 30% \t train_loss: 0.79 took: 22.79s\n",
            "Epoch 6, 40% \t train_loss: 0.79 took: 22.73s\n",
            "Epoch 6, 50% \t train_loss: 0.80 took: 22.76s\n",
            "Epoch 6, 60% \t train_loss: 0.79 took: 22.82s\n",
            "Epoch 6, 70% \t train_loss: 0.82 took: 22.72s\n",
            "Epoch 6, 80% \t train_loss: 0.79 took: 22.76s\n",
            "Epoch 6, 90% \t train_loss: 0.82 took: 22.92s\n",
            "Validation loss = 0.83\n",
            "Epoch 7, 10% \t train_loss: 0.73 took: 22.87s\n",
            "Epoch 7, 20% \t train_loss: 0.74 took: 22.72s\n",
            "Epoch 7, 30% \t train_loss: 0.73 took: 22.68s\n",
            "Epoch 7, 40% \t train_loss: 0.75 took: 22.68s\n",
            "Epoch 7, 50% \t train_loss: 0.75 took: 22.68s\n",
            "Epoch 7, 60% \t train_loss: 0.76 took: 22.68s\n",
            "Epoch 7, 70% \t train_loss: 0.75 took: 22.64s\n",
            "Epoch 7, 80% \t train_loss: 0.75 took: 22.71s\n",
            "Epoch 7, 90% \t train_loss: 0.76 took: 22.67s\n",
            "Validation loss = 0.79\n",
            "Epoch 8, 10% \t train_loss: 0.71 took: 23.05s\n",
            "Epoch 8, 20% \t train_loss: 0.70 took: 22.71s\n",
            "Epoch 8, 30% \t train_loss: 0.72 took: 22.64s\n",
            "Epoch 8, 40% \t train_loss: 0.72 took: 22.62s\n",
            "Epoch 8, 50% \t train_loss: 0.72 took: 22.67s\n",
            "Epoch 8, 60% \t train_loss: 0.73 took: 22.70s\n",
            "Epoch 8, 70% \t train_loss: 0.70 took: 22.62s\n",
            "Epoch 8, 80% \t train_loss: 0.71 took: 22.70s\n",
            "Epoch 8, 90% \t train_loss: 0.70 took: 22.60s\n",
            "Validation loss = 0.79\n",
            "Epoch 9, 10% \t train_loss: 0.67 took: 22.88s\n",
            "Epoch 9, 20% \t train_loss: 0.65 took: 22.63s\n",
            "Epoch 9, 30% \t train_loss: 0.67 took: 22.84s\n",
            "Epoch 9, 40% \t train_loss: 0.70 took: 23.02s\n",
            "Epoch 9, 50% \t train_loss: 0.67 took: 22.80s\n",
            "Epoch 9, 60% \t train_loss: 0.68 took: 22.77s\n",
            "Epoch 9, 70% \t train_loss: 0.68 took: 22.67s\n",
            "Epoch 9, 80% \t train_loss: 0.66 took: 22.79s\n",
            "Epoch 9, 90% \t train_loss: 0.69 took: 22.69s\n",
            "Validation loss = 0.75\n",
            "Epoch 10, 10% \t train_loss: 0.65 took: 22.86s\n",
            "Epoch 10, 20% \t train_loss: 0.64 took: 22.62s\n",
            "Epoch 10, 30% \t train_loss: 0.66 took: 22.73s\n",
            "Epoch 10, 40% \t train_loss: 0.62 took: 22.57s\n",
            "Epoch 10, 50% \t train_loss: 0.64 took: 22.72s\n",
            "Epoch 10, 60% \t train_loss: 0.65 took: 22.88s\n",
            "Epoch 10, 70% \t train_loss: 0.65 took: 22.74s\n",
            "Epoch 10, 80% \t train_loss: 0.64 took: 22.80s\n",
            "Epoch 10, 90% \t train_loss: 0.64 took: 22.87s\n",
            "Validation loss = 0.77\n",
            "Training Finished, took 2471.52s\n"
          ],
          "name": "stdout"
        }
      ]
    },
    {
      "cell_type": "code",
      "metadata": {
        "id": "M3OrLKoiJjoZ",
        "outputId": "4d26e620-9ed4-4828-95b4-33b7994e67c2",
        "colab": {
          "base_uri": "https://localhost:8080/",
          "height": 456
        }
      },
      "source": [
        "compute_accuracy(net_V4_4)\n",
        "plot_losses(train_history, val_history)"
      ],
      "execution_count": null,
      "outputs": [
        {
          "output_type": "stream",
          "text": [
            "Accuracy of the network on the 40000 train images: 73.98 %\n",
            "Accuracy of the network on the 10000 validation images: 73.63 %\n",
            "Accuracy of the network on the 10000 test images: 69.62 %\n"
          ],
          "name": "stdout"
        },
        {
          "output_type": "display_data",
          "data": {
            "image/png": "[encoded data removed]",
            "text/plain": [
              "<Figure size 576x432 with 1 Axes>"
            ]
          },
          "metadata": {
            "tags": []
          }
        }
      ]
    },
    {
      "cell_type": "markdown",
      "metadata": {
        "id": "qg456BV9GyEl"
      },
      "source": [
        "Based on the loss curves, we can see that this learning rate reduced the overfitting problem . But, the model got stuck in a local minimum that's why the value of loss at epoch 10 is higher than its value at epoch 10 while using lr = $10^{-3}$. As a consequence, we have a lower value of total accuracy. <br> \n",
        "==> Based on the previous three trainings, we can see the importance of the value of learning rate and how it impacts the total accuracy.\n",
        "<br> we will use the value $10^{-2}$ for the following trainings. "
      ]
    },
    {
      "cell_type": "markdown",
      "metadata": {
        "id": "MGi0Ucebcrl9"
      },
      "source": [
        "<h3> 6- Impact of Batch size: <h3>"
      ]
    },
    {
      "cell_type": "markdown",
      "metadata": {
        "id": "Q2evUHO1dV40"
      },
      "source": [
        "When we changed the network architecture (inscreasing the total number of learnable paramaters) , the training time raised dramatically. That's why we should optimize the number of batch size. <br> \n",
        "The batch size defines the total number of used samples during one single forward/backward propagation. The higher its value, the more memory is needed to compute the operations.<br> \n",
        "It has been proven that using a small batch size, the convergence state is reached quicker than using the whole dataset/big batch size. That means that we need less epochs to reach a good performance. That's why we are going to test an even smaller batch size (16). \n"
      ]
    },
    {
      "cell_type": "code",
      "metadata": {
        "id": "p90nHL50f-U5",
        "outputId": "0d3170ed-fc31-4a9e-decb-97b74befe5f5",
        "colab": {
          "base_uri": "https://localhost:8080/",
          "height": 1000
        }
      },
      "source": [
        "net_V4 = MyConvolutionalNetwork_V4()\n",
        "train_history, val_history = train(net_V4, batch_size=16, n_epochs=10, learning_rate=0.001)"
      ],
      "execution_count": null,
      "outputs": [
        {
          "output_type": "stream",
          "text": [
            "===== HYPERPARAMETERS =====\n",
            "batch_size= 16\n",
            "n_epochs= 10\n",
            "learning_rate= 0.001\n",
            "==============================\n",
            "Epoch 1, 10% \t train_loss: 1.95 took: 23.71s\n",
            "Epoch 1, 20% \t train_loss: 1.63 took: 23.38s\n",
            "Epoch 1, 30% \t train_loss: 1.54 took: 23.94s\n",
            "Epoch 1, 40% \t train_loss: 1.45 took: 25.30s\n",
            "Epoch 1, 50% \t train_loss: 1.39 took: 25.02s\n",
            "Epoch 1, 60% \t train_loss: 1.34 took: 24.90s\n",
            "Epoch 1, 70% \t train_loss: 1.27 took: 24.92s\n",
            "Epoch 1, 80% \t train_loss: 1.23 took: 24.86s\n",
            "Epoch 1, 90% \t train_loss: 1.21 took: 24.98s\n",
            "Validation loss = 1.14\n",
            "Epoch 2, 10% \t train_loss: 1.13 took: 25.08s\n",
            "Epoch 2, 20% \t train_loss: 1.10 took: 25.02s\n",
            "Epoch 2, 30% \t train_loss: 1.09 took: 25.12s\n",
            "Epoch 2, 40% \t train_loss: 1.07 took: 25.06s\n",
            "Epoch 2, 50% \t train_loss: 1.06 took: 25.01s\n",
            "Epoch 2, 60% \t train_loss: 1.04 took: 25.30s\n",
            "Epoch 2, 70% \t train_loss: 1.00 took: 25.15s\n",
            "Epoch 2, 80% \t train_loss: 1.03 took: 25.12s\n",
            "Epoch 2, 90% \t train_loss: 0.93 took: 24.97s\n",
            "Validation loss = 0.94\n",
            "Epoch 3, 10% \t train_loss: 0.92 took: 25.25s\n",
            "Epoch 3, 20% \t train_loss: 0.94 took: 25.04s\n",
            "Epoch 3, 30% \t train_loss: 0.91 took: 25.19s\n",
            "Epoch 3, 40% \t train_loss: 0.92 took: 25.47s\n",
            "Epoch 3, 50% \t train_loss: 0.87 took: 25.51s\n",
            "Epoch 3, 60% \t train_loss: 0.91 took: 25.42s\n",
            "Epoch 3, 70% \t train_loss: 0.91 took: 25.46s\n",
            "Epoch 3, 80% \t train_loss: 0.90 took: 25.55s\n",
            "Epoch 3, 90% \t train_loss: 0.88 took: 25.33s\n",
            "Validation loss = 0.83\n",
            "Epoch 4, 10% \t train_loss: 0.86 took: 25.85s\n",
            "Epoch 4, 20% \t train_loss: 0.77 took: 25.59s\n",
            "Epoch 4, 30% \t train_loss: 0.81 took: 25.38s\n",
            "Epoch 4, 40% \t train_loss: 0.81 took: 25.39s\n",
            "Epoch 4, 50% \t train_loss: 0.85 took: 25.44s\n",
            "Epoch 4, 60% \t train_loss: 0.78 took: 25.29s\n",
            "Epoch 4, 70% \t train_loss: 0.79 took: 25.42s\n",
            "Epoch 4, 80% \t train_loss: 0.79 took: 25.14s\n",
            "Epoch 4, 90% \t train_loss: 0.79 took: 25.47s\n",
            "Validation loss = 0.83\n",
            "Epoch 5, 10% \t train_loss: 0.73 took: 25.37s\n",
            "Epoch 5, 20% \t train_loss: 0.73 took: 25.09s\n",
            "Epoch 5, 30% \t train_loss: 0.76 took: 25.63s\n",
            "Epoch 5, 40% \t train_loss: 0.74 took: 25.40s\n",
            "Epoch 5, 50% \t train_loss: 0.72 took: 25.41s\n",
            "Epoch 5, 60% \t train_loss: 0.75 took: 25.63s\n",
            "Epoch 5, 70% \t train_loss: 0.74 took: 25.49s\n",
            "Epoch 5, 80% \t train_loss: 0.74 took: 25.48s\n",
            "Epoch 5, 90% \t train_loss: 0.74 took: 25.37s\n",
            "Validation loss = 0.80\n",
            "Epoch 6, 10% \t train_loss: 0.68 took: 25.50s\n",
            "Epoch 6, 20% \t train_loss: 0.68 took: 25.42s\n",
            "Epoch 6, 30% \t train_loss: 0.70 took: 25.37s\n",
            "Epoch 6, 40% \t train_loss: 0.68 took: 25.44s\n",
            "Epoch 6, 50% \t train_loss: 0.68 took: 25.11s\n",
            "Epoch 6, 60% \t train_loss: 0.65 took: 24.98s\n",
            "Epoch 6, 70% \t train_loss: 0.68 took: 25.04s\n",
            "Epoch 6, 80% \t train_loss: 0.69 took: 24.87s\n",
            "Epoch 6, 90% \t train_loss: 0.69 took: 24.94s\n",
            "Validation loss = 0.74\n",
            "Epoch 7, 10% \t train_loss: 0.64 took: 25.16s\n",
            "Epoch 7, 20% \t train_loss: 0.61 took: 25.01s\n",
            "Epoch 7, 30% \t train_loss: 0.64 took: 25.06s\n",
            "Epoch 7, 40% \t train_loss: 0.62 took: 25.02s\n",
            "Epoch 7, 50% \t train_loss: 0.63 took: 24.97s\n",
            "Epoch 7, 60% \t train_loss: 0.62 took: 25.24s\n",
            "Epoch 7, 70% \t train_loss: 0.65 took: 24.87s\n",
            "Epoch 7, 80% \t train_loss: 0.64 took: 24.92s\n",
            "Epoch 7, 90% \t train_loss: 0.66 took: 24.87s\n",
            "Validation loss = 0.72\n",
            "Epoch 8, 10% \t train_loss: 0.58 took: 25.08s\n",
            "Epoch 8, 20% \t train_loss: 0.56 took: 24.88s\n",
            "Epoch 8, 30% \t train_loss: 0.58 took: 25.06s\n",
            "Epoch 8, 40% \t train_loss: 0.60 took: 24.84s\n",
            "Epoch 8, 50% \t train_loss: 0.57 took: 24.82s\n",
            "Epoch 8, 60% \t train_loss: 0.60 took: 24.94s\n",
            "Epoch 8, 70% \t train_loss: 0.61 took: 25.02s\n",
            "Epoch 8, 80% \t train_loss: 0.61 took: 24.94s\n",
            "Epoch 8, 90% \t train_loss: 0.60 took: 25.10s\n",
            "Validation loss = 0.78\n",
            "Epoch 9, 10% \t train_loss: 0.54 took: 25.21s\n",
            "Epoch 9, 20% \t train_loss: 0.54 took: 25.07s\n",
            "Epoch 9, 30% \t train_loss: 0.52 took: 25.08s\n",
            "Epoch 9, 40% \t train_loss: 0.56 took: 25.07s\n",
            "Epoch 9, 50% \t train_loss: 0.56 took: 25.20s\n",
            "Epoch 9, 60% \t train_loss: 0.55 took: 24.96s\n",
            "Epoch 9, 70% \t train_loss: 0.56 took: 25.03s\n",
            "Epoch 9, 80% \t train_loss: 0.58 took: 25.09s\n",
            "Epoch 9, 90% \t train_loss: 0.57 took: 25.09s\n",
            "Validation loss = 0.74\n",
            "Epoch 10, 10% \t train_loss: 0.50 took: 25.19s\n",
            "Epoch 10, 20% \t train_loss: 0.50 took: 25.01s\n",
            "Epoch 10, 30% \t train_loss: 0.47 took: 24.96s\n",
            "Epoch 10, 40% \t train_loss: 0.54 took: 25.19s\n",
            "Epoch 10, 50% \t train_loss: 0.56 took: 25.29s\n",
            "Epoch 10, 60% \t train_loss: 0.50 took: 25.52s\n",
            "Epoch 10, 70% \t train_loss: 0.53 took: 25.43s\n",
            "Epoch 10, 80% \t train_loss: 0.53 took: 25.31s\n",
            "Epoch 10, 90% \t train_loss: 0.53 took: 25.30s\n",
            "Validation loss = 0.72\n",
            "Training Finished, took 2716.86s\n"
          ],
          "name": "stdout"
        }
      ]
    },
    {
      "cell_type": "code",
      "metadata": {
        "id": "QKT5Xm1SgM2S",
        "outputId": "eb96e1fa-6070-497a-cae5-50645edc706d",
        "colab": {
          "base_uri": "https://localhost:8080/",
          "height": 456
        }
      },
      "source": [
        "compute_accuracy(net_V4)\n",
        "plot_losses(train_history, val_history)"
      ],
      "execution_count": null,
      "outputs": [
        {
          "output_type": "stream",
          "text": [
            "Accuracy of the network on the 40000 train images: 81.63 %\n",
            "Accuracy of the network on the 10000 validation images: 76.86 %\n",
            "Accuracy of the network on the 10000 test images: 73.05 %\n"
          ],
          "name": "stdout"
        },
        {
          "output_type": "display_data",
          "data": {
            "image/png": "[encoded data removed]",
            "text/plain": [
              "<Figure size 576x432 with 1 Axes>"
            ]
          },
          "metadata": {
            "tags": []
          }
        }
      ]
    },
    {
      "cell_type": "markdown",
      "metadata": {
        "id": "dGZuQg7m-P2M"
      },
      "source": [
        "The fact that we decreased the batch size, the convergence of the model becomes faster and we got better accuracy (~ +10%  compared to our first model on the test set). <br> \n",
        "Also, we can see that the overfitting problem did not occur during the first 10 epochs, so we can still train our model during more epochs. "
      ]
    },
    {
      "cell_type": "markdown",
      "metadata": {
        "id": "xymDTttU_sjf"
      },
      "source": [
        "<h2>Conclusions about what we have we seen so far <h2> "
      ]
    },
    {
      "cell_type": "markdown",
      "metadata": {
        "id": "Wm3a4F85ANju"
      },
      "source": [
        "* Convolutions layers are very important to extract features from an image\n",
        "* Overfitting is a serious problem and it impacts heavily on the final accuarcy. \n",
        "* Batch normalization and dropout layers minimize the influence of overfitting. \n",
        "* The learning rate is so important to have a stable convergence. \n",
        "* The batch size impact dramatically the accuracy of the model.  "
      ]
    },
    {
      "cell_type": "markdown",
      "metadata": {
        "id": "yD36ZcENBwse"
      },
      "source": [
        "<h2> III- More sophisticated modifications <h2> \n"
      ]
    },
    {
      "cell_type": "markdown",
      "metadata": {
        "id": "WZ0RThF3KJaa"
      },
      "source": [
        "<h3>1- Changing the optimizer : <h3> "
      ]
    },
    {
      "cell_type": "markdown",
      "metadata": {
        "id": "19NxHlN7B8bK"
      },
      "source": [
        "\n",
        "From the beginning of this lab work, we have chosen to work with Adam as an optimizer. In fact, it is an extension to SGD that is more powerful while updating weights based on the training data. <br> \n",
        "There are many benefits from using Adam insead of the classical SGD: for instance, it is computationally efficient and it deals well with noisy gradients. <br> \n",
        "Also, it has been shown that Adam is better than AdaGrad and RMSProp. That's why we are going to keep Adam as an optimizer but we are going to choose another variety of Adam : AdamW . <br>\n",
        "AdamW : prensents a modification of weight decay (L2 regularization) by \"decoupling the weight decay from the optimization steps\". <br> \n",
        "\n",
        "Let's train our model using this optimizer: \n"
      ]
    },
    {
      "cell_type": "markdown",
      "metadata": {
        "id": "_wG7VW9EGwDw"
      },
      "source": [
        "We add a line in the funtion \"createLossAndOptimizer\" defined above in order to choose AdamW as optimizer.\n"
      ]
    },
    {
      "cell_type": "code",
      "metadata": {
        "id": "CLmVw4LBG_oq",
        "outputId": "92b7e788-9988-48f4-d27e-c794c3cb674a",
        "colab": {
          "base_uri": "https://localhost:8080/",
          "height": 1000
        }
      },
      "source": [
        "net_V4 = MyConvolutionalNetwork_V4()\n",
        "train_history, val_history = train(net_V4, batch_size=16, n_epochs=10, learning_rate=0.001)"
      ],
      "execution_count": null,
      "outputs": [
        {
          "output_type": "stream",
          "text": [
            "===== HYPERPARAMETERS =====\n",
            "batch_size= 16\n",
            "n_epochs= 10\n",
            "learning_rate= 0.001\n",
            "==============================\n",
            "Epoch 1, 10% \t train_loss: 2.00 took: 23.79s\n",
            "Epoch 1, 20% \t train_loss: 1.64 took: 23.58s\n",
            "Epoch 1, 30% \t train_loss: 1.52 took: 24.22s\n",
            "Epoch 1, 40% \t train_loss: 1.43 took: 25.64s\n",
            "Epoch 1, 50% \t train_loss: 1.37 took: 25.48s\n",
            "Epoch 1, 60% \t train_loss: 1.34 took: 25.57s\n",
            "Epoch 1, 70% \t train_loss: 1.30 took: 25.46s\n",
            "Epoch 1, 80% \t train_loss: 1.23 took: 25.35s\n",
            "Epoch 1, 90% \t train_loss: 1.19 took: 25.28s\n",
            "Validation loss = 1.13\n",
            "Epoch 2, 10% \t train_loss: 1.12 took: 25.78s\n",
            "Epoch 2, 20% \t train_loss: 1.08 took: 25.65s\n",
            "Epoch 2, 30% \t train_loss: 1.09 took: 25.46s\n",
            "Epoch 2, 40% \t train_loss: 1.07 took: 25.42s\n",
            "Epoch 2, 50% \t train_loss: 1.07 took: 25.45s\n",
            "Epoch 2, 60% \t train_loss: 1.04 took: 25.42s\n",
            "Epoch 2, 70% \t train_loss: 1.00 took: 25.67s\n",
            "Epoch 2, 80% \t train_loss: 1.02 took: 25.59s\n",
            "Epoch 2, 90% \t train_loss: 0.98 took: 25.47s\n",
            "Validation loss = 0.96\n",
            "Epoch 3, 10% \t train_loss: 0.93 took: 25.64s\n",
            "Epoch 3, 20% \t train_loss: 0.93 took: 25.49s\n",
            "Epoch 3, 30% \t train_loss: 0.93 took: 25.69s\n",
            "Epoch 3, 40% \t train_loss: 0.91 took: 25.72s\n",
            "Epoch 3, 50% \t train_loss: 0.92 took: 25.67s\n",
            "Epoch 3, 60% \t train_loss: 0.93 took: 25.58s\n",
            "Epoch 3, 70% \t train_loss: 0.89 took: 25.63s\n",
            "Epoch 3, 80% \t train_loss: 0.87 took: 25.90s\n",
            "Epoch 3, 90% \t train_loss: 0.89 took: 25.97s\n",
            "Validation loss = 0.90\n",
            "Epoch 4, 10% \t train_loss: 0.81 took: 25.92s\n",
            "Epoch 4, 20% \t train_loss: 0.82 took: 25.70s\n",
            "Epoch 4, 30% \t train_loss: 0.82 took: 25.70s\n",
            "Epoch 4, 40% \t train_loss: 0.82 took: 25.66s\n",
            "Epoch 4, 50% \t train_loss: 0.82 took: 25.55s\n",
            "Epoch 4, 60% \t train_loss: 0.83 took: 25.57s\n",
            "Epoch 4, 70% \t train_loss: 0.83 took: 25.51s\n",
            "Epoch 4, 80% \t train_loss: 0.83 took: 25.56s\n",
            "Epoch 4, 90% \t train_loss: 0.81 took: 25.51s\n",
            "Validation loss = 0.83\n",
            "Epoch 5, 10% \t train_loss: 0.73 took: 25.64s\n",
            "Epoch 5, 20% \t train_loss: 0.76 took: 25.49s\n",
            "Epoch 5, 30% \t train_loss: 0.71 took: 25.55s\n",
            "Epoch 5, 40% \t train_loss: 0.77 took: 25.61s\n",
            "Epoch 5, 50% \t train_loss: 0.76 took: 25.62s\n",
            "Epoch 5, 60% \t train_loss: 0.74 took: 25.57s\n",
            "Epoch 5, 70% \t train_loss: 0.76 took: 25.66s\n",
            "Epoch 5, 80% \t train_loss: 0.78 took: 25.67s\n",
            "Epoch 5, 90% \t train_loss: 0.72 took: 25.76s\n",
            "Validation loss = 0.77\n",
            "Epoch 6, 10% \t train_loss: 0.68 took: 25.88s\n",
            "Epoch 6, 20% \t train_loss: 0.68 took: 25.63s\n",
            "Epoch 6, 30% \t train_loss: 0.70 took: 25.54s\n",
            "Epoch 6, 40% \t train_loss: 0.68 took: 25.49s\n",
            "Epoch 6, 50% \t train_loss: 0.70 took: 25.60s\n",
            "Epoch 6, 60% \t train_loss: 0.68 took: 25.59s\n",
            "Epoch 6, 70% \t train_loss: 0.72 took: 25.62s\n",
            "Epoch 6, 80% \t train_loss: 0.66 took: 25.45s\n",
            "Epoch 6, 90% \t train_loss: 0.73 took: 25.57s\n",
            "Validation loss = 0.79\n",
            "Epoch 7, 10% \t train_loss: 0.64 took: 25.76s\n",
            "Epoch 7, 20% \t train_loss: 0.63 took: 25.78s\n",
            "Epoch 7, 30% \t train_loss: 0.62 took: 25.46s\n",
            "Epoch 7, 40% \t train_loss: 0.63 took: 25.64s\n",
            "Epoch 7, 50% \t train_loss: 0.68 took: 25.57s\n",
            "Epoch 7, 60% \t train_loss: 0.64 took: 25.42s\n",
            "Epoch 7, 70% \t train_loss: 0.63 took: 25.42s\n",
            "Epoch 7, 80% \t train_loss: 0.64 took: 25.52s\n",
            "Epoch 7, 90% \t train_loss: 0.67 took: 25.42s\n",
            "Validation loss = 0.74\n",
            "Epoch 8, 10% \t train_loss: 0.58 took: 25.56s\n",
            "Epoch 8, 20% \t train_loss: 0.59 took: 25.51s\n",
            "Epoch 8, 30% \t train_loss: 0.60 took: 25.88s\n",
            "Epoch 8, 40% \t train_loss: 0.60 took: 25.39s\n",
            "Epoch 8, 50% \t train_loss: 0.59 took: 25.41s\n",
            "Epoch 8, 60% \t train_loss: 0.62 took: 25.42s\n",
            "Epoch 8, 70% \t train_loss: 0.62 took: 25.38s\n",
            "Epoch 8, 80% \t train_loss: 0.59 took: 25.41s\n",
            "Epoch 8, 90% \t train_loss: 0.64 took: 25.50s\n",
            "Validation loss = 0.75\n",
            "Epoch 9, 10% \t train_loss: 0.54 took: 25.69s\n",
            "Epoch 9, 20% \t train_loss: 0.52 took: 25.65s\n",
            "Epoch 9, 30% \t train_loss: 0.60 took: 25.76s\n",
            "Epoch 9, 40% \t train_loss: 0.54 took: 26.10s\n",
            "Epoch 9, 50% \t train_loss: 0.58 took: 25.78s\n",
            "Epoch 9, 60% \t train_loss: 0.59 took: 25.53s\n",
            "Epoch 9, 70% \t train_loss: 0.55 took: 25.57s\n",
            "Epoch 9, 80% \t train_loss: 0.57 took: 25.63s\n",
            "Epoch 9, 90% \t train_loss: 0.58 took: 25.60s\n",
            "Validation loss = 0.73\n",
            "Epoch 10, 10% \t train_loss: 0.50 took: 25.71s\n",
            "Epoch 10, 20% \t train_loss: 0.54 took: 25.57s\n",
            "Epoch 10, 30% \t train_loss: 0.53 took: 25.60s\n",
            "Epoch 10, 40% \t train_loss: 0.52 took: 25.60s\n",
            "Epoch 10, 50% \t train_loss: 0.56 took: 25.61s\n",
            "Epoch 10, 60% \t train_loss: 0.53 took: 25.69s\n",
            "Epoch 10, 70% \t train_loss: 0.53 took: 25.45s\n",
            "Epoch 10, 80% \t train_loss: 0.55 took: 25.40s\n",
            "Epoch 10, 90% \t train_loss: 0.55 took: 25.36s\n",
            "Validation loss = 0.73\n",
            "Training Finished, took 2757.92s\n"
          ],
          "name": "stdout"
        }
      ]
    },
    {
      "cell_type": "code",
      "metadata": {
        "id": "zIHPlZnZHN72",
        "outputId": "5c828047-76f3-4540-91c2-dce87a5a257d",
        "colab": {
          "base_uri": "https://localhost:8080/",
          "height": 456
        }
      },
      "source": [
        "compute_accuracy(net_V4)\n",
        "plot_losses(train_history, val_history)"
      ],
      "execution_count": null,
      "outputs": [
        {
          "output_type": "stream",
          "text": [
            "Accuracy of the network on the 40000 train images: 80.34 %\n",
            "Accuracy of the network on the 10000 validation images: 75.52 %\n",
            "Accuracy of the network on the 10000 test images: 72.11 %\n"
          ],
          "name": "stdout"
        },
        {
          "output_type": "display_data",
          "data": {
            "image/png": "[encoded data removed]",
            "text/plain": [
              "<Figure size 576x432 with 1 Axes>"
            ]
          },
          "metadata": {
            "tags": []
          }
        }
      ]
    },
    {
      "cell_type": "markdown",
      "metadata": {
        "id": "mcGMthQrTtvI"
      },
      "source": [
        "If we look at the obtained graph with the same network during the previous training, we can say that the loss funtions decrease faster with AdamW, but unfortunately we do not have an improvement of the total accuracy. That's why we will just keep Adam as an optimizer. "
      ]
    },
    {
      "cell_type": "markdown",
      "metadata": {
        "id": "aRARS7-UK8Dw"
      },
      "source": [
        "<h3>2- Checking if the training set is balanced between all classes : <h3> "
      ]
    },
    {
      "cell_type": "markdown",
      "metadata": {
        "id": "HDtlGgosLUi9"
      },
      "source": [
        "A balanced training set is a set that presents equally (or almost) the same number of training samples from every class. \n",
        "An unbalanced training sets impact on the accuracy of the underpresented class. <br> \n",
        "Sometimes we may have a very good total accuracy but a poor accuracy per class (fraud problem for instance), that's why checking the accuracy per class is important. <br> \n",
        "It is crucial to find solutions in order to give the model a balanced data set (during the training as well as during the testing process). "
      ]
    },
    {
      "cell_type": "code",
      "metadata": {
        "id": "qpNRnH2GN02x",
        "outputId": "75fb2970-7a25-4ef9-a0ad-fe3f04903c22",
        "colab": {
          "base_uri": "https://localhost:8080/",
          "height": 35
        }
      },
      "source": [
        "# computing the percentage of samples for every class in the whole training set \n",
        "classes=[i for i in range(10)]\n",
        "labels_counter = {}\n",
        "for label in classes: \n",
        "  labels_counter[label] = 0\n",
        "counter= 0  \n",
        "for i, (inputs, labels) in enumerate(train_loader):\n",
        "            # Move tensors to correct device\n",
        "            inputs, labels = inputs.to(device), labels.to(device)\n",
        "            for l in labels.numpy():\n",
        "              counter +=1\n",
        "              labels_counter[l] += 1 \n",
        "\n",
        "for label in classes: \n",
        "  labels_counter[label] = round(labels_counter[label]*100/counter,2)\n",
        "\n",
        "print(\"labels from training set \", labels_counter)  \n",
        "            "
      ],
      "execution_count": null,
      "outputs": [
        {
          "output_type": "stream",
          "text": [
            "labels from training set  {0: 9.96, 1: 9.96, 2: 10.12, 3: 9.96, 4: 10.01, 5: 9.94, 6: 10.05, 7: 10.06, 8: 9.99, 9: 9.95}\n"
          ],
          "name": "stdout"
        }
      ]
    },
    {
      "cell_type": "markdown",
      "metadata": {
        "id": "_C25w5zqPk9c"
      },
      "source": [
        "We can see from the dictionary {class : percentage of labeled samples in dataset } just above that our training set is balanced (every class presents almost 10% of the whole training data set). "
      ]
    },
    {
      "cell_type": "code",
      "metadata": {
        "id": "aM4HmT-BQHXA",
        "outputId": "43b774d2-f04e-438d-9627-e4889e186162",
        "colab": {
          "base_uri": "https://localhost:8080/",
          "height": 35
        }
      },
      "source": [
        "classes=[i for i in range(10)]\n",
        "labels_counter = {}\n",
        "for label in classes: \n",
        "  labels_counter[label] = 0\n",
        "counter= 0  \n",
        "for i, (inputs, labels) in enumerate(test_loader):\n",
        "            # Move tensors to correct device\n",
        "            inputs, labels = inputs.to(device), labels.to(device)\n",
        "            for l in labels.numpy():\n",
        "              counter +=1\n",
        "              labels_counter[l] += 1 \n",
        "\n",
        "for label in classes: \n",
        "  labels_counter[label] = round(labels_counter[label]*100/counter,2)\n",
        "\n",
        "print(\"labels from testing set \", labels_counter)"
      ],
      "execution_count": null,
      "outputs": [
        {
          "output_type": "stream",
          "text": [
            "labels from testing set  {0: 10.0, 1: 10.0, 2: 10.0, 3: 10.0, 4: 10.0, 5: 10.0, 6: 10.0, 7: 10.0, 8: 10.0, 9: 10.0}\n"
          ],
          "name": "stdout"
        }
      ]
    },
    {
      "cell_type": "markdown",
      "metadata": {
        "id": "Z7oQkA5DQPPV"
      },
      "source": [
        "We have the same conclusion as with the train set. "
      ]
    },
    {
      "cell_type": "markdown",
      "metadata": {
        "id": "HycMz_KCE_WU"
      },
      "source": [
        "<h3> 3- Data augmenation :  Flipping images <h3>"
      ]
    },
    {
      "cell_type": "markdown",
      "metadata": {
        "id": "_LoifwvJF09u"
      },
      "source": [
        "In order to enlarge the training set by adding slighly different images, we can use apply the method \"flip\" (right to left or left to right).  This classic data augmenation technique helps the model to reduce the overfitting problem and to become more robust.  What we can do is at each epoch we flip a certain number of images with a probability p (0.5 by default). <br> \n",
        "To do so we can use the fonction : "
      ]
    },
    {
      "cell_type": "code",
      "metadata": {
        "id": "6_qtwdUBIEHR"
      },
      "source": [
        "x= torch.flip(x, [0, 1])"
      ],
      "execution_count": null,
      "outputs": []
    },
    {
      "cell_type": "markdown",
      "metadata": {
        "id": "m7OzccccRGCz"
      },
      "source": [
        "<h2> IV- Final Training and evaluation : finding the best total number of epochs:"
      ]
    },
    {
      "cell_type": "markdown",
      "metadata": {
        "id": "3Fh8jMQuRbTI"
      },
      "source": [
        "Now, after trying to optimize the network architecture and its hyperparameters, we combine all our conclusions above and we train our model for 30 epochs. Finally we will figure out the best epoch to stop training in order to avoid overfitting.  "
      ]
    },
    {
      "cell_type": "code",
      "metadata": {
        "id": "scAdhEcuSHKQ"
      },
      "source": [
        "class MyConvolutionalNetwork_final_version(nn.Module):\n",
        "    def __init__(self):\n",
        "        super(MyConvolutionalNetwork_final_version, self).__init__()\n",
        "        \n",
        "        self.conv1 = nn.Conv2d(3, 32, kernel_size=3, stride=1, padding=1)\n",
        "        self.bn1 = nn.BatchNorm2d(32)\n",
        "        self.conv2 = nn.Conv2d(32, 32, kernel_size=3, stride=1, padding=1)\n",
        "        self.bn2 = nn.BatchNorm2d(32)\n",
        "        self.conv3 = nn.Conv2d(32, 64, kernel_size=3, stride=1, padding=1)\n",
        "        self.bn3 = nn.BatchNorm2d(64)\n",
        "        self.conv4 = nn.Conv2d(64, 64, kernel_size=3, stride=1, padding=1)\n",
        "        self.bn4 = nn.BatchNorm2d(64)\n",
        "        self.pool = nn.MaxPool2d(kernel_size=2, stride=2, padding=0)\n",
        "        self.dropout = nn.Dropout(0.1)\n",
        "        # on the shape (how we pass from a 3x32x32 input image to a 18x16x16 volume)\n",
        "        self.fc1 = nn.Linear(8 * 8 * 64, 128 ) \n",
        "        self.bn_fc1 = nn.BatchNorm2d(128 )\n",
        "        self.fc1_1 = nn.Linear(128, 64 ) \n",
        "        self.bn_fc1_1 = nn.BatchNorm2d(64 )\n",
        "        self.fc2 = nn.Linear(64, 10)\n",
        "\n",
        "    def forward(self, x):\n",
        "        \"\"\"\n",
        "        Forward pass,\n",
        "        x shape is (batch_size, 3, 32, 32)\n",
        "        (color channel first)\n",
        "        \"\"\"\n",
        "        # shape : 3x32x32 -> 18x32x32\n",
        "        x = F.relu(self.bn1(self.conv1(x)))\n",
        "        #x = self.pool(x)\n",
        "        x = F.relu(self.bn2(self.conv2(x)))\n",
        "        x = self.pool(x)\n",
        "        x= self.dropout(x)\n",
        "\n",
        "        x = F.relu(self.bn3(self.conv3(x)))\n",
        "        x= self.dropout(x)\n",
        "\n",
        "        x = F.relu(self.bn4(self.conv4(x)))\n",
        "        x = self.pool(x)\n",
        "        x= self.dropout(x)\n",
        "        x = x.view(-1, 8 * 8 * 64)\n",
        "\n",
        "        x = F.relu(self.fc1(x))\n",
        "        #x= self.bn_fc1(x)\n",
        "        x= self.dropout(x)\n",
        "\n",
        "        x = F.relu(self.fc1_1(x))\n",
        "        #x= self.bn_fc1_1(x)\n",
        "        x= self.dropout(x)\n",
        "\n",
        "        # 128 -> 10\n",
        "        x = self.fc2(x)\n",
        "        return x"
      ],
      "execution_count": 13,
      "outputs": []
    },
    {
      "cell_type": "code",
      "metadata": {
        "id": "UmJqsnuvSTmD",
        "outputId": "a7f5fa26-3925-43f7-8bf5-42cb7bbdb3dc",
        "colab": {
          "background_save": true,
          "base_uri": "https://localhost:8080/",
          "height": 1000
        }
      },
      "source": [
        "final_net = MyConvolutionalNetwork_final_version()\n",
        "train_history, val_history = train(final_net, batch_size=16, n_epochs=30, learning_rate=0.001)"
      ],
      "execution_count": null,
      "outputs": [
        {
          "output_type": "stream",
          "text": [
            "===== HYPERPARAMETERS =====\n",
            "batch_size= 16\n",
            "n_epochs= 30\n",
            "learning_rate= 0.001\n",
            "==============================\n",
            "Epoch 1, 10% \t train_loss: 1.94 took: 24.74s\n",
            "Epoch 1, 20% \t train_loss: 1.63 took: 24.69s\n",
            "Epoch 1, 30% \t train_loss: 1.52 took: 24.85s\n",
            "Epoch 1, 40% \t train_loss: 1.41 took: 26.05s\n",
            "Epoch 1, 50% \t train_loss: 1.36 took: 25.77s\n",
            "Epoch 1, 60% \t train_loss: 1.28 took: 25.67s\n",
            "Epoch 1, 70% \t train_loss: 1.25 took: 25.67s\n",
            "Epoch 1, 80% \t train_loss: 1.23 took: 25.90s\n",
            "Epoch 1, 90% \t train_loss: 1.16 took: 26.61s\n",
            "Validation loss = 1.08\n",
            "Epoch 2, 10% \t train_loss: 1.06 took: 26.11s\n",
            "Epoch 2, 20% \t train_loss: 1.10 took: 26.03s\n",
            "Epoch 2, 30% \t train_loss: 1.02 took: 29.86s\n",
            "Epoch 2, 40% \t train_loss: 1.05 took: 26.08s\n",
            "Epoch 2, 50% \t train_loss: 1.01 took: 26.13s\n",
            "Epoch 2, 60% \t train_loss: 1.02 took: 26.03s\n",
            "Epoch 2, 70% \t train_loss: 0.96 took: 26.10s\n",
            "Epoch 2, 80% \t train_loss: 0.98 took: 26.03s\n",
            "Epoch 2, 90% \t train_loss: 0.94 took: 26.04s\n",
            "Validation loss = 0.92\n",
            "Epoch 3, 10% \t train_loss: 0.87 took: 26.21s\n",
            "Epoch 3, 20% \t train_loss: 0.89 took: 26.04s\n",
            "Epoch 3, 30% \t train_loss: 0.89 took: 26.07s\n",
            "Epoch 3, 40% \t train_loss: 0.88 took: 26.28s\n",
            "Epoch 3, 50% \t train_loss: 0.88 took: 26.07s\n",
            "Epoch 3, 60% \t train_loss: 0.85 took: 26.16s\n",
            "Epoch 3, 70% \t train_loss: 0.88 took: 26.10s\n",
            "Epoch 3, 80% \t train_loss: 0.88 took: 26.06s\n",
            "Epoch 3, 90% \t train_loss: 0.86 took: 26.02s\n",
            "Validation loss = 0.82\n",
            "Epoch 4, 10% \t train_loss: 0.78 took: 26.65s\n",
            "Epoch 4, 20% \t train_loss: 0.78 took: 26.16s\n",
            "Epoch 4, 30% \t train_loss: 0.83 took: 26.08s\n",
            "Epoch 4, 40% \t train_loss: 0.84 took: 29.71s\n",
            "Epoch 4, 50% \t train_loss: 0.81 took: 26.54s\n",
            "Epoch 4, 60% \t train_loss: 0.79 took: 26.29s\n",
            "Epoch 4, 70% \t train_loss: 0.78 took: 25.96s\n",
            "Epoch 4, 80% \t train_loss: 0.78 took: 26.04s\n",
            "Epoch 4, 90% \t train_loss: 0.76 took: 26.07s\n",
            "Validation loss = 0.81\n",
            "Epoch 5, 10% \t train_loss: 0.70 took: 26.17s\n",
            "Epoch 5, 20% \t train_loss: 0.74 took: 26.99s\n",
            "Epoch 5, 30% \t train_loss: 0.73 took: 26.04s\n",
            "Epoch 5, 40% \t train_loss: 0.73 took: 26.10s\n",
            "Epoch 5, 50% \t train_loss: 0.73 took: 26.07s\n",
            "Epoch 5, 60% \t train_loss: 0.68 took: 26.35s\n",
            "Epoch 5, 70% \t train_loss: 0.72 took: 26.00s\n",
            "Epoch 5, 80% \t train_loss: 0.73 took: 25.98s\n",
            "Epoch 5, 90% \t train_loss: 0.69 took: 26.04s\n",
            "Validation loss = 0.78\n",
            "Epoch 6, 10% \t train_loss: 0.64 took: 26.28s\n",
            "Epoch 6, 20% \t train_loss: 0.66 took: 26.02s\n",
            "Epoch 6, 30% \t train_loss: 0.64 took: 26.49s\n",
            "Epoch 6, 40% \t train_loss: 0.68 took: 26.36s\n",
            "Epoch 6, 50% \t train_loss: 0.68 took: 26.01s\n",
            "Epoch 6, 60% \t train_loss: 0.65 took: 29.47s\n",
            "Epoch 6, 70% \t train_loss: 0.68 took: 26.25s\n",
            "Epoch 6, 80% \t train_loss: 0.65 took: 26.07s\n",
            "Epoch 6, 90% \t train_loss: 0.65 took: 26.01s\n",
            "Validation loss = 0.75\n",
            "Epoch 7, 10% \t train_loss: 0.57 took: 26.22s\n",
            "Epoch 7, 20% \t train_loss: 0.60 took: 26.03s\n",
            "Epoch 7, 30% \t train_loss: 0.60 took: 25.98s\n",
            "Epoch 7, 40% \t train_loss: 0.60 took: 25.98s\n",
            "Epoch 7, 50% \t train_loss: 0.61 took: 26.71s\n",
            "Epoch 7, 60% \t train_loss: 0.61 took: 25.98s\n",
            "Epoch 7, 70% \t train_loss: 0.61 took: 25.97s\n",
            "Epoch 7, 80% \t train_loss: 0.60 took: 26.27s\n",
            "Epoch 7, 90% \t train_loss: 0.60 took: 26.14s\n",
            "Validation loss = 0.72\n",
            "Epoch 8, 10% \t train_loss: 0.54 took: 26.21s\n",
            "Epoch 8, 20% \t train_loss: 0.54 took: 25.97s\n",
            "Epoch 8, 30% \t train_loss: 0.57 took: 25.96s\n",
            "Epoch 8, 40% \t train_loss: 0.57 took: 26.10s\n",
            "Epoch 8, 50% \t train_loss: 0.56 took: 25.92s\n",
            "Epoch 8, 60% \t train_loss: 0.56 took: 26.30s\n",
            "Epoch 8, 70% \t train_loss: 0.56 took: 26.02s\n",
            "Epoch 8, 80% \t train_loss: 0.58 took: 26.10s\n",
            "Epoch 8, 90% \t train_loss: 0.58 took: 26.23s\n",
            "Validation loss = 0.72\n",
            "Epoch 9, 10% \t train_loss: 0.49 took: 26.22s\n",
            "Epoch 9, 20% \t train_loss: 0.50 took: 26.17s\n",
            "Epoch 9, 30% \t train_loss: 0.48 took: 26.15s\n",
            "Epoch 9, 40% \t train_loss: 0.52 took: 26.09s\n",
            "Epoch 9, 50% \t train_loss: 0.53 took: 26.09s\n",
            "Epoch 9, 60% \t train_loss: 0.54 took: 26.06s\n",
            "Epoch 9, 70% \t train_loss: 0.55 took: 26.38s\n",
            "Epoch 9, 80% \t train_loss: 0.54 took: 26.45s\n",
            "Epoch 9, 90% \t train_loss: 0.51 took: 26.01s\n",
            "Validation loss = 0.74\n",
            "Epoch 10, 10% \t train_loss: 0.46 took: 26.08s\n",
            "Epoch 10, 20% \t train_loss: 0.47 took: 25.94s\n",
            "Epoch 10, 30% \t train_loss: 0.48 took: 26.03s\n",
            "Epoch 10, 40% \t train_loss: 0.47 took: 26.00s\n",
            "Epoch 10, 50% \t train_loss: 0.48 took: 26.04s\n",
            "Epoch 10, 60% \t train_loss: 0.49 took: 25.93s\n",
            "Epoch 10, 70% \t train_loss: 0.52 took: 25.94s\n",
            "Epoch 10, 80% \t train_loss: 0.50 took: 25.97s\n",
            "Epoch 10, 90% \t train_loss: 0.51 took: 26.41s\n",
            "Validation loss = 0.76\n",
            "Epoch 11, 10% \t train_loss: 0.45 took: 26.12s\n",
            "Epoch 11, 20% \t train_loss: 0.44 took: 25.96s\n",
            "Epoch 11, 30% \t train_loss: 0.45 took: 25.85s\n",
            "Epoch 11, 40% \t train_loss: 0.46 took: 25.88s\n",
            "Epoch 11, 50% \t train_loss: 0.45 took: 25.88s\n",
            "Epoch 11, 60% \t train_loss: 0.46 took: 25.96s\n",
            "Epoch 11, 70% \t train_loss: 0.48 took: 26.00s\n",
            "Epoch 11, 80% \t train_loss: 0.47 took: 25.98s\n",
            "Epoch 11, 90% \t train_loss: 0.48 took: 25.94s\n",
            "Validation loss = 0.74\n",
            "Epoch 12, 10% \t train_loss: 0.39 took: 26.45s\n",
            "Epoch 12, 20% \t train_loss: 0.42 took: 25.93s\n",
            "Epoch 12, 30% \t train_loss: 0.42 took: 25.94s\n",
            "Epoch 12, 40% \t train_loss: 0.43 took: 25.97s\n",
            "Epoch 12, 50% \t train_loss: 0.44 took: 25.91s\n",
            "Epoch 12, 60% \t train_loss: 0.45 took: 25.94s\n",
            "Epoch 12, 70% \t train_loss: 0.46 took: 25.91s\n",
            "Epoch 12, 80% \t train_loss: 0.48 took: 25.88s\n",
            "Epoch 12, 90% \t train_loss: 0.43 took: 25.88s\n",
            "Validation loss = 0.75\n",
            "Epoch 13, 10% \t train_loss: 0.38 took: 26.14s\n",
            "Epoch 13, 20% \t train_loss: 0.41 took: 26.23s\n",
            "Epoch 13, 30% \t train_loss: 0.41 took: 25.91s\n",
            "Epoch 13, 40% \t train_loss: 0.39 took: 25.80s\n",
            "Epoch 13, 50% \t train_loss: 0.42 took: 25.91s\n",
            "Epoch 13, 60% \t train_loss: 0.41 took: 25.84s\n",
            "Epoch 13, 70% \t train_loss: 0.45 took: 25.86s\n",
            "Epoch 13, 80% \t train_loss: 0.42 took: 25.83s\n",
            "Epoch 13, 90% \t train_loss: 0.42 took: 25.84s\n",
            "Validation loss = 0.77\n",
            "Epoch 14, 10% \t train_loss: 0.37 took: 26.00s\n",
            "Epoch 14, 20% \t train_loss: 0.39 took: 25.88s\n",
            "Epoch 14, 30% \t train_loss: 0.38 took: 27.59s\n",
            "Epoch 14, 40% \t train_loss: 0.40 took: 25.95s\n",
            "Epoch 14, 50% \t train_loss: 0.35 took: 25.91s\n",
            "Epoch 14, 60% \t train_loss: 0.42 took: 26.03s\n",
            "Epoch 14, 70% \t train_loss: 0.40 took: 26.14s\n",
            "Epoch 14, 80% \t train_loss: 0.40 took: 26.19s\n",
            "Epoch 14, 90% \t train_loss: 0.43 took: 25.88s\n",
            "Validation loss = 0.75\n",
            "Epoch 15, 10% \t train_loss: 0.35 took: 26.08s\n",
            "Epoch 15, 20% \t train_loss: 0.34 took: 25.91s\n",
            "Epoch 15, 30% \t train_loss: 0.35 took: 25.98s\n",
            "Epoch 15, 40% \t train_loss: 0.39 took: 26.44s\n",
            "Epoch 15, 50% \t train_loss: 0.36 took: 26.40s\n",
            "Epoch 15, 60% \t train_loss: 0.39 took: 25.87s\n",
            "Epoch 15, 70% \t train_loss: 0.39 took: 25.99s\n",
            "Epoch 15, 80% \t train_loss: 0.39 took: 25.79s\n",
            "Epoch 15, 90% \t train_loss: 0.38 took: 25.84s\n",
            "Validation loss = 0.76\n",
            "Epoch 16, 10% \t train_loss: 0.33 took: 26.00s\n",
            "Epoch 16, 20% \t train_loss: 0.35 took: 25.86s\n",
            "Epoch 16, 30% \t train_loss: 0.34 took: 25.95s\n",
            "Epoch 16, 40% \t train_loss: 0.32 took: 25.91s\n",
            "Epoch 16, 50% \t train_loss: 0.35 took: 26.08s\n",
            "Epoch 16, 60% \t train_loss: 0.36 took: 26.30s\n",
            "Epoch 16, 70% \t train_loss: 0.35 took: 25.92s\n",
            "Epoch 16, 80% \t train_loss: 0.38 took: 25.84s\n",
            "Epoch 16, 90% \t train_loss: 0.37 took: 25.89s\n",
            "Validation loss = 0.82\n",
            "Epoch 17, 10% \t train_loss: 0.33 took: 26.12s\n",
            "Epoch 17, 20% \t train_loss: 0.32 took: 25.97s\n",
            "Epoch 17, 30% \t train_loss: 0.33 took: 26.07s\n",
            "Epoch 17, 40% \t train_loss: 0.32 took: 26.03s\n",
            "Epoch 17, 50% \t train_loss: 0.33 took: 25.93s\n",
            "Epoch 17, 60% \t train_loss: 0.32 took: 26.25s\n",
            "Epoch 17, 70% \t train_loss: 0.35 took: 26.06s\n",
            "Epoch 17, 80% \t train_loss: 0.33 took: 26.34s\n",
            "Epoch 17, 90% \t train_loss: 0.37 took: 25.90s\n",
            "Validation loss = 0.80\n",
            "Epoch 18, 10% \t train_loss: 0.29 took: 26.19s\n",
            "Epoch 18, 20% \t train_loss: 0.32 took: 26.04s\n",
            "Epoch 18, 30% \t train_loss: 0.30 took: 25.99s\n",
            "Epoch 18, 40% \t train_loss: 0.31 took: 25.92s\n",
            "Epoch 18, 50% \t train_loss: 0.33 took: 25.97s\n",
            "Epoch 18, 60% \t train_loss: 0.32 took: 26.00s\n",
            "Epoch 18, 70% \t train_loss: 0.35 took: 26.21s\n",
            "Epoch 18, 80% \t train_loss: 0.33 took: 25.87s\n",
            "Epoch 18, 90% \t train_loss: 0.32 took: 26.65s\n",
            "Validation loss = 0.82\n",
            "Epoch 19, 10% \t train_loss: 0.28 took: 26.26s\n",
            "Epoch 19, 20% \t train_loss: 0.31 took: 26.21s\n",
            "Epoch 19, 30% \t train_loss: 0.28 took: 26.12s\n",
            "Epoch 19, 40% \t train_loss: 0.32 took: 26.10s\n",
            "Epoch 19, 50% \t train_loss: 0.33 took: 26.20s\n",
            "Epoch 19, 60% \t train_loss: 0.31 took: 26.11s\n",
            "Epoch 19, 70% \t train_loss: 0.32 took: 26.08s\n",
            "Epoch 19, 80% \t train_loss: 0.34 took: 26.53s\n",
            "Epoch 19, 90% \t train_loss: 0.34 took: 26.33s\n",
            "Validation loss = 0.83\n",
            "Epoch 20, 10% \t train_loss: 0.29 took: 26.44s\n",
            "Epoch 20, 20% \t train_loss: 0.29 took: 26.33s\n",
            "Epoch 20, 30% \t train_loss: 0.28 took: 26.26s\n",
            "Epoch 20, 40% \t train_loss: 0.29 took: 26.29s\n",
            "Epoch 20, 50% \t train_loss: 0.30 took: 26.30s\n",
            "Epoch 20, 60% \t train_loss: 0.30 took: 26.48s\n",
            "Epoch 20, 70% \t train_loss: 0.30 took: 26.36s\n",
            "Epoch 20, 80% \t train_loss: 0.31 took: 26.45s\n",
            "Epoch 20, 90% \t train_loss: 0.31 took: 26.70s\n",
            "Validation loss = 0.84\n",
            "Epoch 21, 10% \t train_loss: 0.26 took: 27.86s\n",
            "Epoch 21, 20% \t train_loss: 0.28 took: 27.25s\n",
            "Epoch 21, 30% \t train_loss: 0.30 took: 26.90s\n",
            "Epoch 21, 40% \t train_loss: 0.30 took: 27.38s\n",
            "Epoch 21, 50% \t train_loss: 0.28 took: 27.24s\n",
            "Epoch 21, 60% \t train_loss: 0.29 took: 27.16s\n",
            "Epoch 21, 70% \t train_loss: 0.30 took: 26.77s\n",
            "Epoch 21, 80% \t train_loss: 0.31 took: 26.91s\n",
            "Epoch 21, 90% \t train_loss: 0.28 took: 27.20s\n",
            "Validation loss = 0.80\n",
            "Epoch 22, 10% \t train_loss: 0.25 took: 27.52s\n",
            "Epoch 22, 20% \t train_loss: 0.28 took: 27.99s\n",
            "Epoch 22, 30% \t train_loss: 0.26 took: 27.13s\n",
            "Epoch 22, 40% \t train_loss: 0.29 took: 27.24s\n",
            "Epoch 22, 50% \t train_loss: 0.31 took: 27.35s\n",
            "Epoch 22, 60% \t train_loss: 0.27 took: 27.23s\n",
            "Epoch 22, 70% \t train_loss: 0.30 took: 27.17s\n",
            "Epoch 22, 80% \t train_loss: 0.32 took: 27.10s\n",
            "Epoch 22, 90% \t train_loss: 0.28 took: 27.04s\n",
            "Validation loss = 0.86\n",
            "Epoch 23, 10% \t train_loss: 0.25 took: 27.03s\n",
            "Epoch 23, 20% \t train_loss: 0.27 took: 27.02s\n",
            "Epoch 23, 30% \t train_loss: 0.29 took: 28.13s\n",
            "Epoch 23, 40% \t train_loss: 0.25 took: 27.40s\n",
            "Epoch 23, 50% \t train_loss: 0.29 took: 27.41s\n",
            "Epoch 23, 60% \t train_loss: 0.28 took: 27.38s\n",
            "Epoch 23, 70% \t train_loss: 0.25 took: 27.36s\n",
            "Epoch 23, 80% \t train_loss: 0.27 took: 27.21s\n",
            "Epoch 23, 90% \t train_loss: 0.31 took: 27.15s\n",
            "Validation loss = 0.87\n",
            "Epoch 24, 10% \t train_loss: 0.22 took: 27.26s\n",
            "Epoch 24, 20% \t train_loss: 0.26 took: 27.13s\n",
            "Epoch 24, 30% \t train_loss: 0.23 took: 27.23s\n",
            "Epoch 24, 40% \t train_loss: 0.25 took: 27.76s\n",
            "Epoch 24, 50% \t train_loss: 0.26 took: 27.21s\n",
            "Epoch 24, 60% \t train_loss: 0.27 took: 27.09s\n",
            "Epoch 24, 70% \t train_loss: 0.30 took: 27.19s\n",
            "Epoch 24, 80% \t train_loss: 0.28 took: 27.14s\n",
            "Epoch 24, 90% \t train_loss: 0.27 took: 27.14s\n",
            "Validation loss = 0.86\n",
            "Epoch 25, 10% \t train_loss: 0.25 took: 27.48s\n",
            "Epoch 25, 20% \t train_loss: 0.25 took: 27.37s\n",
            "Epoch 25, 30% \t train_loss: 0.24 took: 27.39s\n",
            "Epoch 25, 40% \t train_loss: 0.27 took: 27.38s\n",
            "Epoch 25, 50% \t train_loss: 0.26 took: 28.50s\n",
            "Epoch 25, 60% \t train_loss: 0.25 took: 27.55s\n",
            "Epoch 25, 70% \t train_loss: 0.27 took: 27.36s\n",
            "Epoch 25, 80% \t train_loss: 0.26 took: 27.21s\n",
            "Epoch 25, 90% \t train_loss: 0.29 took: 27.13s\n",
            "Validation loss = 0.90\n",
            "Epoch 26, 10% \t train_loss: 0.22 took: 27.81s\n",
            "Epoch 26, 20% \t train_loss: 0.21 took: 27.38s\n",
            "Epoch 26, 30% \t train_loss: 0.24 took: 27.41s\n",
            "Epoch 26, 40% \t train_loss: 0.25 took: 27.43s\n",
            "Epoch 26, 50% \t train_loss: 0.27 took: 27.40s\n",
            "Epoch 26, 60% \t train_loss: 0.25 took: 28.07s\n",
            "Epoch 26, 70% \t train_loss: 0.27 took: 27.56s\n",
            "Epoch 26, 80% \t train_loss: 0.25 took: 27.72s\n",
            "Epoch 26, 90% \t train_loss: 0.26 took: 27.62s\n",
            "Validation loss = 0.87\n",
            "Epoch 27, 10% \t train_loss: 0.23 took: 28.24s\n",
            "Epoch 27, 20% \t train_loss: 0.25 took: 31.26s\n",
            "Epoch 27, 30% \t train_loss: 0.24 took: 28.03s\n",
            "Epoch 27, 40% \t train_loss: 0.25 took: 28.06s\n",
            "Epoch 27, 50% \t train_loss: 0.24 took: 28.17s\n",
            "Epoch 27, 60% \t train_loss: 0.24 took: 28.32s\n",
            "Epoch 27, 70% \t train_loss: 0.26 took: 28.51s\n",
            "Epoch 27, 80% \t train_loss: 0.23 took: 28.17s\n",
            "Epoch 27, 90% \t train_loss: 0.26 took: 28.35s\n",
            "Validation loss = 0.92\n",
            "Epoch 28, 10% \t train_loss: 0.22 took: 28.99s\n",
            "Epoch 28, 20% \t train_loss: 0.23 took: 28.40s\n",
            "Epoch 28, 30% \t train_loss: 0.23 took: 28.56s\n",
            "Epoch 28, 40% \t train_loss: 0.24 took: 28.80s\n",
            "Epoch 28, 50% \t train_loss: 0.23 took: 28.75s\n",
            "Epoch 28, 60% \t train_loss: 0.24 took: 28.93s\n",
            "Epoch 28, 70% \t train_loss: 0.24 took: 29.81s\n",
            "Epoch 28, 80% \t train_loss: 0.26 took: 29.19s\n",
            "Epoch 28, 90% \t train_loss: 0.26 took: 29.48s\n",
            "Validation loss = 0.93\n",
            "Epoch 29, 10% \t train_loss: 0.22 took: 33.15s\n",
            "Epoch 29, 20% \t train_loss: 0.21 took: 30.04s\n",
            "Epoch 29, 30% \t train_loss: 0.23 took: 29.83s\n",
            "Epoch 29, 40% \t train_loss: 0.23 took: 29.97s\n",
            "Epoch 29, 50% \t train_loss: 0.21 took: 30.24s\n",
            "Epoch 29, 60% \t train_loss: 0.24 took: 30.22s\n",
            "Epoch 29, 70% \t train_loss: 0.23 took: 30.64s\n",
            "Epoch 29, 80% \t train_loss: 0.24 took: 30.27s\n",
            "Epoch 29, 90% \t train_loss: 0.24 took: 30.48s\n",
            "Validation loss = 0.92\n",
            "Epoch 30, 10% \t train_loss: 0.21 took: 30.99s\n",
            "Epoch 30, 20% \t train_loss: 0.22 took: 30.76s\n",
            "Epoch 30, 30% \t train_loss: 0.22 took: 30.75s\n",
            "Epoch 30, 40% \t train_loss: 0.23 took: 31.12s\n",
            "Epoch 30, 50% \t train_loss: 0.23 took: 30.92s\n",
            "Epoch 30, 60% \t train_loss: 0.24 took: 31.17s\n",
            "Epoch 30, 70% \t train_loss: 0.25 took: 31.77s\n",
            "Epoch 30, 80% \t train_loss: 0.24 took: 31.06s\n",
            "Epoch 30, 90% \t train_loss: 0.21 took: 31.19s\n",
            "Validation loss = 0.95\n",
            "Training Finished, took 8680.53s\n"
          ],
          "name": "stdout"
        }
      ]
    },
    {
      "cell_type": "code",
      "metadata": {
        "id": "mI7lubB1Sutj",
        "outputId": "2404768c-a58c-4a8f-ba29-8ffd8dc2ca79",
        "colab": {
          "background_save": true
        }
      },
      "source": [
        "compute_accuracy(final_net)\n",
        "plot_losses(train_history, val_history)"
      ],
      "execution_count": null,
      "outputs": [
        {
          "output_type": "stream",
          "text": [
            "Accuracy of the network on the 40000 train images: 79.30 %\n",
            "Accuracy of the network on the 10000 validation images: 75.71 %\n",
            "Accuracy of the network on the 10000 test images: 72.28 %\n"
          ],
          "name": "stdout"
        },
        {
          "output_type": "display_data",
          "data": {
            "image/png": "[encoded data removed]",
            "text/plain": [
              "<Figure size 576x432 with 1 Axes>"
            ]
          },
          "metadata": {
            "tags": []
          }
        }
      ]
    },
    {
      "cell_type": "markdown",
      "metadata": {
        "id": "MOh61w5T5ocR"
      },
      "source": [
        "After running the training process for many epochs (30),the model ended up by overfitting. (As it is shown in the figure above). <br> \n",
        "The training loss continues to descrease but the valid loss is increasing. Since the training process returns the weights that give the best accuracy on the valid set,we can say that best epoch is between 10 and 12.<br> \n",
        "We will retrain the model but now we will just run the training during 6 epochs using lr = $10^{-3}$ so that our model explores the best regions in order to minimize the loss then we will continue to train it during 6 other epochs with lr = $10^{-4}$. <br> \n",
        "We modify a bit the function \"train\" ."
      ]
    },
    {
      "cell_type": "code",
      "metadata": {
        "id": "vPX5pxEf7w0Q",
        "outputId": "cf5c6d07-5f67-4381-8ac3-857d54729593",
        "colab": {
          "base_uri": "https://localhost:8080/",
          "height": 1000
        }
      },
      "source": [
        "final_net = MyConvolutionalNetwork_final_version()\n",
        "train_history, val_history, final_net = train(final_net, batch_size=16, n_epochs=  6 , learning_rate=0.001, get_model= True )\n",
        "train_history, val_history = train(final_net, batch_size=16, n_epochs=6, learning_rate=0.0001)"
      ],
      "execution_count": 17,
      "outputs": [
        {
          "output_type": "stream",
          "text": [
            "===== HYPERPARAMETERS =====\n",
            "batch_size= 16\n",
            "n_epochs= 6\n",
            "learning_rate= 0.001\n",
            "==============================\n",
            "Epoch 1, 10% \t train_loss: 1.98 took: 25.08s\n",
            "Epoch 1, 20% \t train_loss: 1.71 took: 24.94s\n",
            "Epoch 1, 30% \t train_loss: 1.51 took: 25.57s\n",
            "Epoch 1, 40% \t train_loss: 1.49 took: 27.65s\n",
            "Epoch 1, 50% \t train_loss: 1.40 took: 27.01s\n",
            "Epoch 1, 60% \t train_loss: 1.37 took: 26.64s\n",
            "Epoch 1, 70% \t train_loss: 1.35 took: 26.68s\n",
            "Epoch 1, 80% \t train_loss: 1.30 took: 26.68s\n",
            "Epoch 1, 90% \t train_loss: 1.25 took: 26.79s\n",
            "Validation loss = 1.16\n",
            "Epoch 2, 10% \t train_loss: 1.13 took: 29.19s\n",
            "Epoch 2, 20% \t train_loss: 1.14 took: 26.62s\n",
            "Epoch 2, 30% \t train_loss: 1.08 took: 26.53s\n",
            "Epoch 2, 40% \t train_loss: 1.05 took: 26.45s\n",
            "Epoch 2, 50% \t train_loss: 1.12 took: 27.55s\n",
            "Epoch 2, 60% \t train_loss: 1.03 took: 26.72s\n",
            "Epoch 2, 70% \t train_loss: 1.04 took: 26.37s\n",
            "Epoch 2, 80% \t train_loss: 1.06 took: 26.40s\n",
            "Epoch 2, 90% \t train_loss: 1.01 took: 26.33s\n",
            "Validation loss = 0.98\n",
            "Epoch 3, 10% \t train_loss: 0.91 took: 27.29s\n",
            "Epoch 3, 20% \t train_loss: 0.94 took: 27.14s\n",
            "Epoch 3, 30% \t train_loss: 0.93 took: 27.06s\n",
            "Epoch 3, 40% \t train_loss: 0.91 took: 26.98s\n",
            "Epoch 3, 50% \t train_loss: 0.92 took: 27.06s\n",
            "Epoch 3, 60% \t train_loss: 0.92 took: 27.65s\n",
            "Epoch 3, 70% \t train_loss: 0.92 took: 27.39s\n",
            "Epoch 3, 80% \t train_loss: 0.93 took: 26.91s\n",
            "Epoch 3, 90% \t train_loss: 0.93 took: 27.02s\n",
            "Validation loss = 0.86\n",
            "Epoch 4, 10% \t train_loss: 0.84 took: 26.93s\n",
            "Epoch 4, 20% \t train_loss: 0.82 took: 26.81s\n",
            "Epoch 4, 30% \t train_loss: 0.84 took: 26.81s\n",
            "Epoch 4, 40% \t train_loss: 0.84 took: 26.86s\n",
            "Epoch 4, 50% \t train_loss: 0.81 took: 26.90s\n",
            "Epoch 4, 60% \t train_loss: 0.83 took: 27.09s\n",
            "Epoch 4, 70% \t train_loss: 0.80 took: 26.98s\n",
            "Epoch 4, 80% \t train_loss: 0.85 took: 27.01s\n",
            "Epoch 4, 90% \t train_loss: 0.83 took: 26.72s\n",
            "Validation loss = 0.84\n",
            "Epoch 5, 10% \t train_loss: 0.74 took: 26.91s\n",
            "Epoch 5, 20% \t train_loss: 0.78 took: 26.89s\n",
            "Epoch 5, 30% \t train_loss: 0.78 took: 26.89s\n",
            "Epoch 5, 40% \t train_loss: 0.74 took: 26.93s\n",
            "Epoch 5, 50% \t train_loss: 0.80 took: 26.99s\n",
            "Epoch 5, 60% \t train_loss: 0.77 took: 26.98s\n",
            "Epoch 5, 70% \t train_loss: 0.78 took: 27.52s\n",
            "Epoch 5, 80% \t train_loss: 0.78 took: 27.28s\n",
            "Epoch 5, 90% \t train_loss: 0.77 took: 27.33s\n",
            "Validation loss = 0.79\n",
            "Epoch 6, 10% \t train_loss: 0.71 took: 27.17s\n",
            "Epoch 6, 20% \t train_loss: 0.68 took: 26.98s\n",
            "Epoch 6, 30% \t train_loss: 0.72 took: 26.95s\n",
            "Epoch 6, 40% \t train_loss: 0.73 took: 26.81s\n",
            "Epoch 6, 50% \t train_loss: 0.71 took: 26.92s\n",
            "Epoch 6, 60% \t train_loss: 0.74 took: 26.91s\n",
            "Epoch 6, 70% \t train_loss: 0.71 took: 26.90s\n",
            "Epoch 6, 80% \t train_loss: 0.69 took: 27.08s\n",
            "Epoch 6, 90% \t train_loss: 0.71 took: 27.00s\n",
            "Validation loss = 0.76\n",
            "Training Finished, took 1739.42s\n",
            "===== HYPERPARAMETERS =====\n",
            "batch_size= 16\n",
            "n_epochs= 6\n",
            "learning_rate= 0.0001\n",
            "==============================\n",
            "Epoch 1, 10% \t train_loss: 0.62 took: 25.92s\n",
            "Epoch 1, 20% \t train_loss: 0.58 took: 25.78s\n",
            "Epoch 1, 30% \t train_loss: 0.57 took: 25.72s\n",
            "Epoch 1, 40% \t train_loss: 0.60 took: 25.70s\n",
            "Epoch 1, 50% \t train_loss: 0.56 took: 25.49s\n",
            "Epoch 1, 60% \t train_loss: 0.54 took: 25.67s\n",
            "Epoch 1, 70% \t train_loss: 0.56 took: 25.81s\n",
            "Epoch 1, 80% \t train_loss: 0.58 took: 25.85s\n",
            "Epoch 1, 90% \t train_loss: 0.56 took: 25.95s\n",
            "Validation loss = 0.69\n",
            "Epoch 2, 10% \t train_loss: 0.54 took: 26.39s\n",
            "Epoch 2, 20% \t train_loss: 0.53 took: 25.72s\n",
            "Epoch 2, 30% \t train_loss: 0.54 took: 25.64s\n",
            "Epoch 2, 40% \t train_loss: 0.55 took: 25.60s\n",
            "Epoch 2, 50% \t train_loss: 0.54 took: 25.58s\n",
            "Epoch 2, 60% \t train_loss: 0.57 took: 25.61s\n",
            "Epoch 2, 70% \t train_loss: 0.54 took: 25.56s\n",
            "Epoch 2, 80% \t train_loss: 0.53 took: 25.78s\n",
            "Epoch 2, 90% \t train_loss: 0.52 took: 25.73s\n",
            "Validation loss = 0.69\n",
            "Epoch 3, 10% \t train_loss: 0.51 took: 25.75s\n",
            "Epoch 3, 20% \t train_loss: 0.56 took: 26.05s\n",
            "Epoch 3, 30% \t train_loss: 0.54 took: 25.65s\n",
            "Epoch 3, 40% \t train_loss: 0.50 took: 25.60s\n",
            "Epoch 3, 50% \t train_loss: 0.55 took: 25.72s\n",
            "Epoch 3, 60% \t train_loss: 0.52 took: 25.59s\n",
            "Epoch 3, 70% \t train_loss: 0.52 took: 25.53s\n",
            "Epoch 3, 80% \t train_loss: 0.53 took: 25.56s\n",
            "Epoch 3, 90% \t train_loss: 0.53 took: 25.66s\n",
            "Validation loss = 0.70\n",
            "Epoch 4, 10% \t train_loss: 0.54 took: 25.76s\n",
            "Epoch 4, 20% \t train_loss: 0.50 took: 25.67s\n",
            "Epoch 4, 30% \t train_loss: 0.48 took: 25.79s\n",
            "Epoch 4, 40% \t train_loss: 0.49 took: 25.73s\n",
            "Epoch 4, 50% \t train_loss: 0.51 took: 25.55s\n",
            "Epoch 4, 60% \t train_loss: 0.54 took: 25.46s\n",
            "Epoch 4, 70% \t train_loss: 0.51 took: 25.51s\n",
            "Epoch 4, 80% \t train_loss: 0.53 took: 25.57s\n",
            "Epoch 4, 90% \t train_loss: 0.53 took: 29.29s\n",
            "Validation loss = 0.69\n",
            "Epoch 5, 10% \t train_loss: 0.51 took: 26.03s\n",
            "Epoch 5, 20% \t train_loss: 0.51 took: 25.72s\n",
            "Epoch 5, 30% \t train_loss: 0.48 took: 25.57s\n",
            "Epoch 5, 40% \t train_loss: 0.47 took: 25.55s\n",
            "Epoch 5, 50% \t train_loss: 0.52 took: 26.10s\n",
            "Epoch 5, 60% \t train_loss: 0.51 took: 25.58s\n",
            "Epoch 5, 70% \t train_loss: 0.51 took: 25.64s\n",
            "Epoch 5, 80% \t train_loss: 0.52 took: 25.84s\n",
            "Epoch 5, 90% \t train_loss: 0.51 took: 25.73s\n",
            "Validation loss = 0.68\n",
            "Epoch 6, 10% \t train_loss: 0.48 took: 25.79s\n",
            "Epoch 6, 20% \t train_loss: 0.47 took: 25.70s\n",
            "Epoch 6, 30% \t train_loss: 0.49 took: 25.85s\n",
            "Epoch 6, 40% \t train_loss: 0.48 took: 25.77s\n",
            "Epoch 6, 50% \t train_loss: 0.50 took: 25.89s\n",
            "Epoch 6, 60% \t train_loss: 0.50 took: 25.91s\n",
            "Epoch 6, 70% \t train_loss: 0.49 took: 26.10s\n",
            "Epoch 6, 80% \t train_loss: 0.49 took: 25.56s\n",
            "Epoch 6, 90% \t train_loss: 0.50 took: 25.63s\n",
            "Validation loss = 0.70\n",
            "Training Finished, took 1675.56s\n"
          ],
          "name": "stdout"
        }
      ]
    },
    {
      "cell_type": "code",
      "metadata": {
        "id": "vyGD0FGmVdGw",
        "outputId": "59d21feb-9d43-44dc-c4c8-33f65021bf89",
        "colab": {
          "base_uri": "https://localhost:8080/",
          "height": 456
        }
      },
      "source": [
        "compute_accuracy(final_net)\n",
        "plot_losses(train_history, val_history)"
      ],
      "execution_count": 18,
      "outputs": [
        {
          "output_type": "stream",
          "text": [
            "Accuracy of the network on the 40000 train images: 80.25 %\n",
            "Accuracy of the network on the 10000 validation images: 77.21 %\n",
            "Accuracy of the network on the 10000 test images: 73.48 %\n"
          ],
          "name": "stdout"
        },
        {
          "output_type": "display_data",
          "data": {
            "image/png": "[encoded data removed]",
            "text/plain": [
              "<Figure size 576x432 with 1 Axes>"
            ]
          },
          "metadata": {
            "tags": [],
            "needs_background": "light"
          }
        }
      ]
    },
    {
      "cell_type": "markdown",
      "metadata": {
        "id": "-JCEU5GMXEqF"
      },
      "source": [
        "Here we present only the loss functions (when training with lr= $10^{-4}$) , we can see that over the epochs the valid loss does not inscreases : we can say that we stopped the overfiiting from happening. <br> \n",
        "The final total validation accuracy is 73.48 % (~ +10% )\n"
      ]
    },
    {
      "cell_type": "code",
      "metadata": {
        "id": "RBK-qaOHS8H0",
        "outputId": "1cc4a21a-c0f4-4c53-b94b-772e5bcd7d53",
        "colab": {
          "base_uri": "https://localhost:8080/",
          "height": 776
        }
      },
      "source": [
        "confusion_matrix = accuracy_per_class(final_net)\n",
        "plot_confusion_matrix(confusion_matrix, classes,\n",
        "                      title='Confusion matrix, without normalization')"
      ],
      "execution_count": 19,
      "outputs": [
        {
          "output_type": "stream",
          "text": [
            "Class      Accuracy (%)\n",
            "plane        75.80   \n",
            "car          85.30   \n",
            "bird         57.90   \n",
            "cat          57.30   \n",
            "deer         70.30   \n",
            "dog          62.40   \n",
            "frog         78.30   \n",
            "horse        79.00   \n",
            "ship         83.50   \n",
            "truck        85.20   \n"
          ],
          "name": "stdout"
        },
        {
          "output_type": "display_data",
          "data": {
            "image/png": "[encoded data removed]",
            "text/plain": [
              "<Figure size 576x576 with 2 Axes>"
            ]
          },
          "metadata": {
            "tags": [],
            "needs_background": "light"
          }
        }
      ]
    },
    {
      "cell_type": "markdown",
      "metadata": {
        "id": "fcX6FEBhIQqC"
      },
      "source": [
        "In general the accuracy per class has inscreased, but the model is still confused between the class \"Cat\" and \"Dog\" . This is because semantically these two classes share some commun features. Since, the input image is a bit small, there are some caracteristic features for every class that can not be detected .   "
      ]
    },
    {
      "cell_type": "markdown",
      "metadata": {
        "id": "Eu_N7AjOCDRe"
      },
      "source": [
        "<h2> V- Conclusion <h2> "
      ]
    },
    {
      "cell_type": "markdown",
      "metadata": {
        "id": "Fsmcf87XCKpM"
      },
      "source": [
        "During this lab work, we train a CNN model on CIFAR10 database in order to classify 10 labels.  We started with a value of accuracy on the test set = 63.11 % (first simple cnn) and then we tried to optimize the network architecture and some hyperparmeters and we checked the balance of our training set, we managed to inscrease the performance of our classifier (test accuracy = 73.48 % ). <br> \n",
        "\n",
        "==> Test accuracy improvemnt: + 10 %  <br> \n",
        "Next steps: \n",
        "* Test more complex network architectures : \n",
        "https://paperswithcode.com/sota/image-classification-on-cifar-10  \n",
        "* Focus on classes that have the worse accuracy per class.\n",
        "* Apply  meta learning to optimize many hyperparametrs at the same time.\n",
        "* Cross validation to have an accurate valisation process.\n",
        "* Modify the loss function and/or add a regularization penalty to the loss. \n",
        "* More data augmenation techniques (Random Crop for example)   \n",
        "* Replace the Relu activation function by Leaky ReLU"
      ]
    },
    {
      "cell_type": "markdown",
      "metadata": {
        "id": "LZjS33FNKpIR"
      },
      "source": [
        "<h2> References: <h2>"
      ]
    },
    {
      "cell_type": "markdown",
      "metadata": {
        "id": "cdswE247flGh"
      },
      "source": [
        "\n",
        "* Ioffe, Sergey; Szegedy, Christian (2015). \"Batch Normalization: Accelerating Deep Network Training by Reducing Internal Covariate Shift\".\n",
        "* Effect of batch size on training dynamics: https://medium.com/mini-distill/effect-of-batch-size-on-training-dynamics-21c14f7a716e\n",
        "* LOSHCHILOV, Ilya et HUTTER, Frank. Decoupled weight decay regularization. arXiv preprint arXiv:1711.05101, 2017.\n",
        "* KINGMA, Diederik P. et BA, Jimmy. Adam: A method for stochastic optimization. arXiv preprint arXiv:1412.6980, 2014.\n",
        "* Adam optimization algorithm for deep learning: https://machinelearningmastery.com/adam-optimization-algorithm-for-deep-learning/"
      ]
    },
    {
      "cell_type": "code",
      "metadata": {
        "id": "sHDxF--CvyMZ"
      },
      "source": [
        ""
      ],
      "execution_count": null,
      "outputs": []
    }
  ]
}